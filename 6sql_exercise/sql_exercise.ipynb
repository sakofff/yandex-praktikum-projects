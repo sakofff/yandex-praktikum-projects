{
 "cells": [
  {
   "cell_type": "code",
   "execution_count": 1,
   "metadata": {},
   "outputs": [],
   "source": [
    "sql = '''drop table if exists pass_in_trip;\n",
    "drop table if exists trip;\n",
    "drop table if exists passenger;\n",
    "drop table if exists company;\n",
    "\n",
    "--\n",
    "CREATE TABLE Company (\n",
    "\tID_comp int NOT NULL ,\n",
    "\tname char (10) NOT NULL \n",
    ")\n",
    ";\n",
    "\n",
    "CREATE TABLE Pass_in_trip (\n",
    "\ttrip_no int NOT NULL ,\n",
    "\tdate timestamp NOT NULL ,\n",
    "\tID_psg int NOT NULL ,\n",
    "\tplace char (10) NOT NULL \n",
    ")\n",
    ";\n",
    "\n",
    "CREATE TABLE Passenger (\n",
    "\tID_psg int NOT NULL ,\n",
    "\tname char (20) NOT NULL \n",
    ")\n",
    ";\n",
    "\n",
    "CREATE TABLE Trip (\n",
    "\ttrip_no int NOT NULL ,\n",
    "\tID_comp int NOT NULL ,\n",
    "\tplane char (10) NOT NULL ,\n",
    "\ttown_from char (25) NOT NULL ,\n",
    "\ttown_to char (25) NOT NULL ,\n",
    "\ttime_out timestamp NOT NULL ,\n",
    "\ttime_in timestamp NOT NULL \n",
    ")\n",
    ";\n",
    "\n",
    "                                                                                                                                                                                                                                                                 \n",
    "----Company------------------------------------------------------------------------------------------------------------------------------------------------------------------------------------------------------------------------------------------------------------ \n",
    "insert into Company values(1,'Don_avia  ');\n",
    "insert into Company values(2,'Aeroflot  ');\n",
    "insert into Company values(3,'Dale_avia ');\n",
    "insert into Company values(4,'air_France');\n",
    "insert into Company values(5,'British_AW');\n",
    "\n",
    "\n",
    "                                                                                                                                                                                                                                                                 \n",
    "----Passenger------------------------------------------------------------------------------------------------------------------------------------------------------------------------------------------------------------------------------------------------------------ \n",
    "insert into Passenger values(1,'Bruce Willis        ');\n",
    "insert into Passenger values(2,'George Clooney      ');\n",
    "insert into Passenger values(3,'Kevin Costner       ');\n",
    "insert into Passenger values(4,'Donald Sutherland   ');\n",
    "insert into Passenger values(5,'Jennifer Lopez      ');\n",
    "insert into Passenger values(6,'Ray Liotta          ');\n",
    "insert into Passenger values(7,'Samuel L. Jackson   ');\n",
    "insert into Passenger values(8,'Nikole Kidman       ');\n",
    "insert into Passenger values(9,'Alan Rickman        ');\n",
    "insert into Passenger values(10,'Kurt Russell        ');\n",
    "insert into Passenger values(11,'Harrison Ford       ');\n",
    "insert into Passenger values(12,'Russell Crowe       ');\n",
    "insert into Passenger values(13,'Steve Martin        ');\n",
    "insert into Passenger values(14,'Michael Caine       ');\n",
    "insert into Passenger values(15,'Angelina Jolie      ');\n",
    "insert into Passenger values(16,'Mel Gibson          ');\n",
    "insert into Passenger values(17,'Michael Douglas     ');\n",
    "insert into Passenger values(18,'John Travolta       ');\n",
    "insert into Passenger values(19,'Sylvester Stallone  ');\n",
    "insert into Passenger values(20,'Tommy Lee Jones     ');\n",
    "insert into Passenger values(21,'Catherine Zeta-Jones');\n",
    "insert into Passenger values(22,'Antonio Banderas    ');\n",
    "insert into Passenger values(23,'Kim Basinger        ');\n",
    "insert into Passenger values(24,'Sam Neill           ');\n",
    "insert into Passenger values(25,'Gary Oldman         ');\n",
    "insert into Passenger values(26,'Clint Eastwood      ');\n",
    "insert into Passenger values(27,'Brad Pitt           ');\n",
    "insert into Passenger values(28,'Johnny Depp         ');\n",
    "insert into Passenger values(29,'Pierce Brosnan      ');\n",
    "insert into Passenger values(30,'Sean Connery        ');\n",
    "insert into Passenger values(31,'Bruce Willis        ');\n",
    "insert into Passenger values(37,'Mullah Omar         ');\n",
    "\n",
    "\n",
    "\n",
    "                                                                                                                                                                                                                                                                 \n",
    "----Trip------------------------------------------------------------------------------------------------------------------------------------------------------------------------------------------------------------------------------------------------------------ \n",
    "insert into Trip values(1100,4,'Boeing    ','Rostov                   ','Paris                    ','19000101 14:30:00.000','19000101 17:50:00.000');\n",
    "insert into Trip values(1101,4,'Boeing    ','Paris                    ','Rostov                   ','19000101 08:12:00.000','19000101 11:45:00.000');\n",
    "insert into Trip values(1123,3,'TU-154    ','Rostov                   ','Vladivostok              ','19000101 16:20:00.000','19000101 03:40:00.000');\n",
    "insert into Trip values(1124,3,'TU-154    ','Vladivostok              ','Rostov                   ','19000101 09:00:00.000','19000101 19:50:00.000');\n",
    "insert into Trip values(1145,2,'IL-86     ','Moscow                   ','Rostov                   ','19000101 09:35:00.000','19000101 11:23:00.000');\n",
    "insert into Trip values(1146,2,'IL-86     ','Rostov                   ','Moscow                   ','19000101 17:55:00.000','19000101 20:01:00.000');\n",
    "insert into Trip values(1181,1,'TU-134    ','Rostov                   ','Moscow                   ','19000101 06:12:00.000','19000101 08:01:00.000');\n",
    "insert into Trip values(1182,1,'TU-134    ','Moscow                   ','Rostov                   ','19000101 12:35:00.000','19000101 14:30:00.000');\n",
    "insert into Trip values(1187,1,'TU-134    ','Rostov                   ','Moscow                   ','19000101 15:42:00.000','19000101 17:39:00.000');\n",
    "insert into Trip values(1188,1,'TU-134    ','Moscow                   ','Rostov                   ','19000101 22:50:00.000','19000101 00:48:00.000');\n",
    "insert into Trip values(1195,1,'TU-154    ','Rostov                   ','Moscow                   ','19000101 23:30:00.000','19000101 01:11:00.000');\n",
    "insert into Trip values(1196,1,'TU-154    ','Moscow                   ','Rostov                   ','19000101 04:00:00.000','19000101 05:45:00.000');\n",
    "insert into Trip values(7771,5,'Boeing    ','London                   ','Singapore                ','19000101 01:00:00.000','19000101 11:00:00.000');\n",
    "insert into Trip values(7772,5,'Boeing    ','Singapore                ','London                   ','19000101 12:00:00.000','19000101 02:00:00.000');\n",
    "insert into Trip values(7773,5,'Boeing    ','London                   ','Singapore                ','19000101 03:00:00.000','19000101 13:00:00.000');\n",
    "insert into Trip values(7774,5,'Boeing    ','Singapore                ','London                   ','19000101 14:00:00.000','19000101 06:00:00.000');\n",
    "insert into Trip values(7775,5,'Boeing    ','London                   ','Singapore                ','19000101 09:00:00.000','19000101 20:00:00.000');\n",
    "insert into Trip values(7776,5,'Boeing    ','Singapore                ','London                   ','19000101 18:00:00.000','19000101 08:00:00.000');\n",
    "insert into Trip values(7777,5,'Boeing    ','London                   ','Singapore                ','19000101 18:00:00.000','19000101 06:00:00.000');\n",
    "insert into Trip values(7778,5,'Boeing    ','Singapore                ','London                   ','19000101 22:00:00.000','19000101 12:00:00.000');\n",
    "insert into Trip values(8881,5,'Boeing    ','London                   ','Paris                    ','19000101 03:00:00.000','19000101 04:00:00.000');\n",
    "insert into Trip values(8882,5,'Boeing    ','Paris                    ','London                   ','19000101 22:00:00.000','19000101 23:00:00.000');\n",
    "\n",
    "\n",
    "\n",
    "                                                                                                                                                                                                                                                                 \n",
    "----Pass_in_trip------------------------------------------------------------------------------------------------------------------------------------------------------------------------------------------------------------------------------------------------------------ \n",
    "insert into Pass_in_trip values(1100,'20030429 00:00:00.000',1,'1a        ');\n",
    "insert into Pass_in_trip values(1123,'20030405 00:00:00.000',3,'2a        ');\n",
    "insert into Pass_in_trip values(1123,'20030408 00:00:00.000',1,'4c        ');\n",
    "insert into Pass_in_trip values(1123,'20030408 00:00:00.000',6,'4b        ');\n",
    "insert into Pass_in_trip values(1124,'20030402 00:00:00.000',2,'2d        ');\n",
    "insert into Pass_in_trip values(1145,'20030405 00:00:00.000',3,'2c        ');\n",
    "insert into Pass_in_trip values(1181,'20030401 00:00:00.000',1,'1a        ');\n",
    "insert into Pass_in_trip values(1181,'20030401 00:00:00.000',6,'1b        ');\n",
    "insert into Pass_in_trip values(1181,'20030401 00:00:00.000',8,'3c        ');\n",
    "insert into Pass_in_trip values(1181,'20030413 00:00:00.000',5,'1b        ');\n",
    "insert into Pass_in_trip values(1182,'20030413 00:00:00.000',5,'4b        ');\n",
    "insert into Pass_in_trip values(1187,'20030414 00:00:00.000',8,'3a        ');\n",
    "insert into Pass_in_trip values(1188,'20030401 00:00:00.000',8,'3a        ');\n",
    "insert into Pass_in_trip values(1182,'20030413 00:00:00.000',9,'6d        ');\n",
    "insert into Pass_in_trip values(1145,'20030425 00:00:00.000',5,'1d        ');\n",
    "insert into Pass_in_trip values(1187,'20030414 00:00:00.000',10,'3d        ');\n",
    "insert into Pass_in_trip values(8882,'20051106 00:00:00.000',37,'1a        ') ;\n",
    "insert into Pass_in_trip values(7771,'20051107 00:00:00.000',37,'1c        ') ;\n",
    "insert into Pass_in_trip values(7772,'20051107 00:00:00.000',37,'1a        ') ;\n",
    "insert into Pass_in_trip values(8881,'20051108 00:00:00.000',37,'1d        ') ;\n",
    "insert into Pass_in_trip values(7778,'20051105 00:00:00.000',10,'2a        ') ;\n",
    "insert into Pass_in_trip values(7772,'20051129 00:00:00.000',10,'3a        ');\n",
    "insert into Pass_in_trip values(7771,'20051104 00:00:00.000',11,'4a        ');\n",
    "insert into Pass_in_trip values(7771,'20051107 00:00:00.000',11,'1b        ');\n",
    "insert into Pass_in_trip values(7771,'20051109 00:00:00.000',11,'5a        ');\n",
    "insert into Pass_in_trip values(7772,'20051107 00:00:00.000',12,'1d        ');\n",
    "insert into Pass_in_trip values(7773,'20051107 00:00:00.000',13,'2d        ');\n",
    "insert into Pass_in_trip values(7772,'20051129 00:00:00.000',13,'1b        ');\n",
    "insert into Pass_in_trip values(8882,'20051113 00:00:00.000',14,'3d        ');\n",
    "insert into Pass_in_trip values(7771,'20051114 00:00:00.000',14,'4d        ');\n",
    "insert into Pass_in_trip values(7771,'20051116 00:00:00.000',14,'5d        ');\n",
    "insert into Pass_in_trip values(7772,'20051129 00:00:00.000',14,'1c        ');\n",
    "\n",
    "drop table if exists Laptop;\n",
    "drop table if exists PC;\n",
    "drop table if exists Printer;\n",
    "drop table if exists Product;\n",
    "\n",
    "CREATE TABLE Laptop (\n",
    "\tcode int NOT NULL ,\n",
    "\tmodel varchar (50) NOT NULL ,\n",
    "\tspeed smallint NOT NULL ,\n",
    "\tram smallint NOT NULL ,\n",
    "\thd real NOT NULL ,\n",
    "\tprice decimal(12,2) NULL ,\n",
    "\tscreen smallint NOT NULL \n",
    ") \n",
    ";\n",
    "\n",
    "CREATE TABLE PC (\n",
    "\tcode int NOT NULL ,\n",
    "\tmodel varchar (50) NOT NULL ,\n",
    "\tspeed smallint NOT NULL ,\n",
    "\tram smallint NOT NULL ,\n",
    "\thd real NOT NULL ,\n",
    "\tcd varchar (10) NOT NULL ,\n",
    "\tprice decimal(12,2) NULL \n",
    ") \n",
    ";\n",
    "\n",
    "CREATE TABLE Product (\n",
    "\tmaker varchar (10) NOT NULL ,\n",
    "\tmodel varchar (50) NOT NULL ,\n",
    "\ttype varchar (50) NOT NULL \n",
    ") \n",
    ";\n",
    "\n",
    "CREATE TABLE Printer (\n",
    "\tcode int NOT NULL ,\n",
    "\tmodel varchar (50) NOT NULL ,\n",
    "\tcolor char (1) NOT NULL ,\n",
    "\ttype varchar (10) NOT NULL ,\n",
    "\tprice decimal(12,2) NULL \n",
    ") \n",
    ";\n",
    "\n",
    "----Product------------------------------------------------------------------------------------------------------------------------------------------------------------------------------------------------------------------------------------------------------------ \n",
    "insert into Product values('B','1121','PC');\n",
    "insert into Product values('A','1232','PC');\n",
    "insert into Product values('A','1233','PC');\n",
    "insert into Product values('E','1260','PC');\n",
    "insert into Product values('A','1276','Printer');\n",
    "insert into Product values('D','1288','Printer');\n",
    "insert into Product values('A','1298','Laptop');\n",
    "insert into Product values('C','1321','Laptop');\n",
    "insert into Product values('A','1401','Printer');\n",
    "insert into Product values('A','1408','Printer');\n",
    "insert into Product values('D','1433','Printer');\n",
    "insert into Product values('E','1434','Printer');\n",
    "insert into Product values('B','1750','Laptop');\n",
    "insert into Product values('A','1752','Laptop');\n",
    "insert into Product values('E','2113','PC');\n",
    "insert into Product values('E','2112','PC');\n",
    "                                                                                                                                                                                                                                                                 \n",
    "----PC------------------------------------------------------------------------------------------------------------------------------------------------------------------------------------------------------------------------------------------------------------ \n",
    "insert into PC values(1,'1232',500,64,5,'12x','600');\n",
    "insert into PC values(2,'1121',750,128,14,'40x','850');\n",
    "insert into PC values(3,'1233',500,64,5,'12x','600');\n",
    "insert into PC values(4,'1121',600,128,14,'40x','850');\n",
    "insert into PC values(5,'1121',600,128,8,'40x','850');\n",
    "insert into PC values(6,'1233',750,128,20,'50x','950');\n",
    "insert into PC values(7,'1232',500,32,10,'12x','400');\n",
    "insert into PC values(8,'1232',450,64,8,'24x','350');\n",
    "insert into PC values(9,'1232',450,32,10,'24x','350');\n",
    "insert into PC values(10,'1260',500,32,10,'12x','350');\n",
    "insert into PC values(11,'1233',900,128,40,'40x','980');\n",
    "insert into PC values(12,'1233',800,128,20,'50x','970');\n",
    "\n",
    "                                                                                                                                                                                                                                                                 \n",
    "----Laptop------------------------------------------------------------------------------------------------------------------------------------------------------------------------------------------------------------------------------------------------------------ \n",
    "insert into Laptop values(1,'1298',350,32,4,'700',11);\n",
    "insert into Laptop values(2,'1321',500,64,8,'970',12);\n",
    "insert into Laptop values(3,'1750',750,128,12,'1200',14);\n",
    "insert into Laptop values(4,'1298',600,64,10,'1050',15);\n",
    "insert into Laptop values(5,'1752',750,128,10,'1150',14);\n",
    "insert into Laptop values(6,'1298',450,64,10,'950',12);\n",
    "\n",
    "                                                                                                                                                                                                                                                                 \n",
    "----Printer------------------------------------------------------------------------------------------------------------------------------------------------------------------------------------------------------------------------------------------------------------ \n",
    "insert into Printer values(1,'1276','n','Laser','400');\n",
    "insert into Printer values(2,'1433','y','Jet','270');\n",
    "insert into Printer values(3,'1434','y','Jet','290');\n",
    "insert into Printer values(4,'1401','n','Matrix','150');\n",
    "insert into Printer values(5,'1408','n','Matrix','270');\n",
    "insert into Printer values(6,'1288','n','Laser','400');\n",
    "\n",
    "-- select * from income\n",
    "drop table if exists Income;\n",
    "drop table if exists Outcome;\n",
    "drop table if exists Outcome_o;\n",
    "drop table if exists Income_o;\n",
    "\n",
    "CREATE TABLE Income (\n",
    "\tcode int NOT NULL ,\n",
    "\tpoint smallint NOT NULL ,\n",
    "\tdate timestamp NOT NULL ,\n",
    "\tinc decimal(12,2) NOT NULL \n",
    ") \n",
    ";\n",
    "\n",
    "CREATE TABLE Outcome (\n",
    "\tcode int NOT NULL ,\n",
    "\tpoint smallint NOT NULL ,\n",
    "\tdate timestamp NOT NULL ,\n",
    "\tout decimal(12,2) NOT NULL \n",
    ") \n",
    ";\n",
    "\n",
    "CREATE TABLE Income_o (\n",
    "\tpoint smallint NOT NULL ,\n",
    "\tdate timestamp NOT NULL ,\n",
    "\tinc decimal(12,2) NOT NULL \n",
    ") \n",
    ";\n",
    "\n",
    "CREATE TABLE Outcome_o (\n",
    "\tpoint smallint NOT NULL ,\n",
    "\tdate timestamp NOT NULL ,\n",
    "\tout decimal(12,2) NOT NULL \n",
    ") \n",
    ";\n",
    "                                                                                                                                                                                                                                                                 \n",
    "----Income------------------------------------------------------------------------------------------------------------------------------------------------------------------------------------------------------------------------------------------------------------ \n",
    "insert into Income values(1,1,'20010322 00:00:00.000','15000.00');\n",
    "insert into Income values(2,1,'20010323 00:00:00.000','15000.00');\n",
    "insert into Income values(3,1,'20010324 00:00:00.000','3600.00');\n",
    "insert into Income values(4,2,'20010322 00:00:00.000','10000.00');\n",
    "insert into Income values(5,2,'20010324 00:00:00.000','1500.00');\n",
    "insert into Income values(6,1,'20010413 00:00:00.000','5000.00');\n",
    "insert into Income values(7,1,'20010511 00:00:00.000','4500.00');\n",
    "insert into Income values(8,1,'20010322 00:00:00.000','15000.00');\n",
    "insert into Income values(9,2,'20010324 00:00:00.000','1500.00');\n",
    "insert into Income values(10,1,'20010413 00:00:00.000','5000.00');\n",
    "insert into Income values(11,1,'20010324 00:00:00.000','3400.00');\n",
    "insert into Income values(12,3,'20010913 00:00:00.000','1350.00');\n",
    "insert into Income values(13,3,'20010913 00:00:00.000','1750.00');\n",
    "\n",
    "                                                                                                                                                                                                                                                                 \n",
    "---------Outcome-----------------\n",
    "insert into Outcome values(1,1,'20010314 00:00:00.000','15348.00');\n",
    "insert into Outcome values(2,1,'20010324 00:00:00.000','3663.00');\n",
    "insert into Outcome values(3,1,'20010326 00:00:00.000','1221.00');\n",
    "insert into Outcome values(4,1,'20010328 00:00:00.000','2075.00');\n",
    "insert into Outcome values(5,1,'20010329 00:00:00.000','2004.00');\n",
    "insert into Outcome values(6,1,'20010411 00:00:00.000','3195.04');\n",
    "insert into Outcome values(7,1,'20010413 00:00:00.000','4490.00');\n",
    "insert into Outcome values(8,1,'20010427 00:00:00.000','3110.00');\n",
    "insert into Outcome values(9,1,'20010511 00:00:00.000','2530.00');\n",
    "insert into Outcome values(10,2,'20010322 00:00:00.000','1440.00');\n",
    "insert into Outcome values(11,2,'20010329 00:00:00.000','7848.00');\n",
    "insert into Outcome values(12,2,'20010402 00:00:00.000','2040.00');\n",
    "insert into Outcome values(13,1,'20010324 00:00:00.000','3500.00');\n",
    "insert into Outcome values(14,2,'20010322 00:00:00.000','1440.00');\n",
    "insert into Outcome values(15,1,'20010329 00:00:00.000','2006.00');\n",
    "insert into Outcome values(16,3,'20010913 00:00:00.000','1200.00');\n",
    "insert into Outcome values(17,3,'20010913 00:00:00.000','1500.00');\n",
    "insert into Outcome values(18,3,'20010914 00:00:00.000','1150.00');\n",
    "\n",
    "                                                                                                                                                                                                                                                                 \n",
    "--------Income_o --------------\n",
    "insert into Income_o values(1,'20010322 00:00:00.000','15000.00');\n",
    "insert into Income_o values(1,'20010323 00:00:00.000','15000.00');\n",
    "insert into Income_o values(1,'20010324 00:00:00.000','3400.00');\n",
    "insert into Income_o values(1,'20010413 00:00:00.000','5000.00');\n",
    "insert into Income_o values(1,'20010511 00:00:00.000','4500.00');\n",
    "insert into Income_o values(2,'20010322 00:00:00.000','10000.00');\n",
    "insert into Income_o values(2,'20010324 00:00:00.000','1500.00');\n",
    "insert into Income_o values(3,'20010913 00:00:00.000','11500.00');\n",
    "insert into Income_o values(3,'20011002 00:00:00.000','18000.00');\n",
    "\n",
    "\n",
    "                                                                                                                                                                                                                                                                 \n",
    "---------Outcome_o -----------\n",
    "insert into Outcome_o values(1,'20010314 00:00:00.000','15348');\n",
    "insert into Outcome_o values(1,'20010324 00:00:00.000','3663');\n",
    "insert into Outcome_o values(1,'20010326 00:00:00.000','1221');\n",
    "insert into Outcome_o values(1,'20010328 00:00:00.000','2075');\n",
    "insert into Outcome_o values(1,'20010329 00:00:00.000','2004');\n",
    "insert into Outcome_o values(1,'20010411 00:00:00.000','3195.04');\n",
    "insert into Outcome_o values(1,'20010413 00:00:00.000','4490');\n",
    "insert into Outcome_o values(1,'20010427 00:00:00.000','3110');\n",
    "insert into Outcome_o values(1,'20010511 00:00:00.000','2530');\n",
    "insert into Outcome_o values(2,'20010322 00:00:00.000','1440');\n",
    "insert into Outcome_o values(2,'20010329 00:00:00.000','7848');\n",
    "insert into Outcome_o values(2,'20010402 00:00:00.000','2040');\n",
    "insert into Outcome_o values(3,'20010913 00:00:00.000','1500');\n",
    "insert into Outcome_o values(3,'20010914 00:00:00.000','2300');\n",
    "insert into Outcome_o values(3,'20020916 00:00:00.000','2150');\n",
    "\n",
    "\n",
    "drop table if exists utb;\n",
    "drop table if exists utq;\n",
    "drop table if exists utv;\n",
    "--\n",
    "CREATE TABLE utB (\n",
    "\tB_DATETIME timestamp NOT NULL ,\n",
    "\tB_Q_ID int NOT NULL ,\n",
    "\tB_V_ID int NOT NULL ,\n",
    "\tB_VOL smallint NULL \n",
    ") \n",
    ";\n",
    "\n",
    "CREATE TABLE utQ (\n",
    "\tQ_ID int NOT NULL ,\n",
    "\tQ_NAME varchar (35) NOT NULL \n",
    ") \n",
    ";\n",
    "\n",
    "CREATE TABLE utV (\n",
    "\tV_ID int NOT NULL ,\n",
    "\tV_NAME varchar (35) NOT NULL ,\n",
    "\tV_COLOR char (1) NOT NULL \n",
    ") \n",
    ";\n",
    "\n",
    "                                                                                                                                                                                                                                                                \n",
    "----utQ------------------------------------------------------------------------------------------------------------------------------------------------------------------------------------------------------------------------------------------------------------ \n",
    "insert into utQ values(1,'Square # 01');\n",
    "insert into utQ values(2,'Square # 02');\n",
    "insert into utQ values(3,'Square # 03');\n",
    "insert into utQ values(4,'Square # 04');\n",
    "insert into utQ values(5,'Square # 05');\n",
    "insert into utQ values(6,'Square # 06');\n",
    "insert into utQ values(7,'Square # 07');\n",
    "insert into utQ values(8,'Square # 08');\n",
    "insert into utQ values(9,'Square # 09');\n",
    "insert into utQ values(10,'Square # 10');\n",
    "insert into utQ values(11,'Square # 11');\n",
    "insert into utQ values(12,'Square # 12');\n",
    "insert into utQ values(13,'Square # 13');\n",
    "insert into utQ values(14,'Square # 14');\n",
    "insert into utQ values(15,'Square # 15');\n",
    "insert into utQ values(16,'Square # 16');\n",
    "insert into utQ values(17,'Square # 17');\n",
    "insert into utQ values(18,'Square # 18');\n",
    "insert into utQ values(19,'Square # 19');\n",
    "insert into utQ values(20,'Square # 20');\n",
    "insert into utQ values(21,'Square # 21');\n",
    "insert into utQ values(22,'Square # 22');\n",
    "insert into utQ values(23,'Square # 23');\n",
    "insert into utQ values(25,'Square # 25');\n",
    "\n",
    "\n",
    "\n",
    "                                                                                                                                                                                                                                                                 \n",
    "----utV------------------------------------------------------------------------------------------------------------------------------------------------------------------------------------------------------------------------------------------------------------ \n",
    "insert into utV values(1,'Balloon # 01','R');\n",
    "insert into utV values(2,'Balloon # 02','R');\n",
    "insert into utV values(3,'Balloon # 03','R');\n",
    "insert into utV values(4,'Balloon # 04','G');\n",
    "insert into utV values(5,'Balloon # 05','G');\n",
    "insert into utV values(6,'Balloon # 06','G');\n",
    "insert into utV values(7,'Balloon # 07','B');\n",
    "insert into utV values(8,'Balloon # 08','B');\n",
    "insert into utV values(9,'Balloon # 09','B');\n",
    "insert into utV values(10,'Balloon # 10','R');\n",
    "insert into utV values(11,'Balloon # 11','R');\n",
    "insert into utV values(12,'Balloon # 12','R');\n",
    "insert into utV values(13,'Balloon # 13','G');\n",
    "insert into utV values(14,'Balloon # 14','G');\n",
    "insert into utV values(15,'Balloon # 15','B');\n",
    "insert into utV values(16,'Balloon # 16','B');\n",
    "insert into utV values(17,'Balloon # 17','R');\n",
    "insert into utV values(18,'Balloon # 18','G');\n",
    "insert into utV values(19,'Balloon # 19','B');\n",
    "insert into utV values(20,'Balloon # 20','R');\n",
    "insert into utV values(21,'Balloon # 21','G');\n",
    "insert into utV values(22,'Balloon # 22','B');\n",
    "insert into utV values(23,'Balloon # 23','R');\n",
    "insert into utV values(24,'Balloon # 24','G');\n",
    "insert into utV values(25,'Balloon # 25','B');\n",
    "insert into utV values(26,'Balloon # 26','B');\n",
    "insert into utV values(27,'Balloon # 27','R');\n",
    "insert into utV values(28,'Balloon # 28','G');\n",
    "insert into utV values(29,'Balloon # 29','R');\n",
    "insert into utV values(30,'Balloon # 30','G');\n",
    "insert into utV values(31,'Balloon # 31','R');\n",
    "insert into utV values(32,'Balloon # 32','G');\n",
    "insert into utV values(33,'Balloon # 33','B');\n",
    "insert into utV values(34,'Balloon # 34','R');\n",
    "insert into utV values(35,'Balloon # 35','G');\n",
    "insert into utV values(36,'Balloon # 36','B');\n",
    "insert into utV values(37,'Balloon # 37','R');\n",
    "insert into utV values(38,'Balloon # 38','G');\n",
    "insert into utV values(39,'Balloon # 39','B');\n",
    "insert into utV values(40,'Balloon # 40','R');\n",
    "insert into utV values(41,'Balloon # 41','R');\n",
    "insert into utV values(42,'Balloon # 42','G');\n",
    "insert into utV values(43,'Balloon # 43','B');\n",
    "insert into utV values(44,'Balloon # 44','R');\n",
    "insert into utV values(45,'Balloon # 45','G');\n",
    "insert into utV values(46,'Balloon # 46','B');\n",
    "insert into utV values(47,'Balloon # 47','B');\n",
    "insert into utV values(48,'Balloon # 48','G');\n",
    "insert into utV values(49,'Balloon # 49','R');\n",
    "insert into utV values(50,'Balloon # 50','G');\n",
    "insert into utV values(51,'Balloon # 51','B');\n",
    "insert into utV values(52,'Balloon # 52','R');\n",
    "insert into utV values(53,'Balloon # 53','G');\n",
    "insert into utV values(54,'Balloon # 54','B');\n",
    "\n",
    "                                                                                                                                                                                                                                                                 \n",
    "----utB------------------------------------------------------------------------------------------------------------------------------------------------------------------------------------------------------------------------------------------------------------ \n",
    "insert into utB values('20030101 01:12:01.000',1,1,155);\n",
    "insert into utB values('20030623 01:12:02.000',1,1,100);\n",
    "insert into utB values('20030101 01:12:03.000',2,2,255);\n",
    "insert into utB values('20030101 01:12:04.000',3,3,255);\n",
    "insert into utB values('20030101 01:12:05.000',1,4,255);\n",
    "insert into utB values('20030101 01:12:06.000',2,5,255);\n",
    "insert into utB values('20030101 01:12:07.000',3,6,255);\n",
    "insert into utB values('20030101 01:12:08.000',1,7,255);\n",
    "insert into utB values('20030101 01:12:09.000',2,8,255);\n",
    "insert into utB values('20030101 01:12:10.000',3,9,255);\n",
    "insert into utB values('20030101 01:12:11.000',4,10,50);\n",
    "insert into utB values('20030101 01:12:12.000',5,11,100);\n",
    "insert into utB values('20030101 01:12:13.000',5,12,155);\n",
    "insert into utB values('20030101 01:12:14.000',5,13,155);\n",
    "insert into utB values('20030101 01:12:15.000',5,14,100);\n",
    "insert into utB values('20030101 01:12:16.000',5,15,50);\n",
    "insert into utB values('20030101 01:12:17.000',5,16,205);\n",
    "insert into utB values('20030101 01:12:18.000',6,10,155);\n",
    "insert into utB values('20030101 01:12:19.000',6,17,100);\n",
    "insert into utB values('20030101 01:12:20.000',6,18,255);\n",
    "insert into utB values('20030101 01:12:21.000',6,19,255);\n",
    "insert into utB values('20030101 01:12:22.000',7,17,155);\n",
    "insert into utB values('20030101 01:12:23.000',7,20,100);\n",
    "insert into utB values('20030101 01:12:24.000',7,21,255);\n",
    "insert into utB values('20030101 01:12:25.000',7,22,255);\n",
    "insert into utB values('20030101 01:12:26.000',8,10,50);\n",
    "insert into utB values('20030101 01:12:27.000',9,23,255);\n",
    "insert into utB values('20030101 01:12:28.000',9,24,255);\n",
    "insert into utB values('20030101 01:12:29.000',9,25,100);\n",
    "insert into utB values('20030101 01:12:30.000',9,26,155);\n",
    "insert into utB values('20030101 01:12:31.000',10,25,155);\n",
    "insert into utB values('20030101 01:12:31.000',10,26,100);\n",
    "insert into utB values('20030101 01:12:33.000',10,27,10);\n",
    "insert into utB values('20030101 01:12:34.000',10,28,10);\n",
    "insert into utB values('20030101 01:12:35.000',10,29,245);\n",
    "insert into utB values('20030101 01:12:36.000',10,30,245);\n",
    "insert into utB values('20030101 01:12:37.000',11,31,100);\n",
    "insert into utB values('20030101 01:12:38.000',11,32,100);\n",
    "insert into utB values('20030101 01:12:39.000',11,33,100);\n",
    "insert into utB values('20030101 01:12:40.000',11,34,155);\n",
    "insert into utB values('20030101 01:12:41.000',11,35,155);\n",
    "insert into utB values('20030101 01:12:42.000',11,36,155);\n",
    "insert into utB values('20030101 01:12:43.000',12,31,155);\n",
    "insert into utB values('20030101 01:12:44.000',12,32,155);\n",
    "insert into utB values('20030101 01:12:45.000',12,33,155);\n",
    "insert into utB values('20030101 01:12:46.000',12,34,100);\n",
    "insert into utB values('20030101 01:12:47.000',12,35,100);\n",
    "insert into utB values('20030101 01:12:48.000',12,36,100);\n",
    "insert into utB values('20030101 01:13:01.000',4,37,20);\n",
    "insert into utB values('20030101 01:13:02.000',8,38,20);\n",
    "insert into utB values('20030101 01:13:03.000',13,39,123);\n",
    "insert into utB values('20030101 01:13:04.000',14,39,111);\n",
    "insert into utB values('20030101 01:13:05.000',14,40,50);\n",
    "insert into utB values('20030101 01:13:06.000',15,41,50);\n",
    "insert into utB values('20030101 01:13:07.000',15,41,50);\n",
    "insert into utB values('20030101 01:13:08.000',15,42,50);\n",
    "insert into utB values('20030101 01:13:09.000',15,42,50);\n",
    "insert into utB values('20030101 01:13:10.000',16,42,50);\n",
    "insert into utB values('20030101 01:13:11.000',16,42,50);\n",
    "insert into utB values('20030101 01:13:12.000',16,43,50);\n",
    "insert into utB values('20030101 01:13:13.000',16,43,50);\n",
    "insert into utB values('20030101 01:13:14.000',16,47,50);\n",
    "insert into utB values('20030101 01:13:15.000',17,44,10);\n",
    "insert into utB values('20030101 01:13:16.000',17,44,10);\n",
    "insert into utB values('20030101 01:13:17.000',17,45,10);\n",
    "insert into utB values('20030101 01:13:18.000',17,45,10);\n",
    "insert into utB values('20030201 01:13:19.000',18,45,10);\n",
    "insert into utB values('20030301 01:13:20.000',18,45,10);\n",
    "insert into utB values('20030401 01:13:21.000',18,46,10);\n",
    "insert into utB values('20030501 01:13:22.000',18,46,10);\n",
    "insert into utB values('20030611 01:13:23.000',19,44,10);\n",
    "insert into utB values('20030101 01:13:24.000',19,44,10);\n",
    "insert into utB values('20030101 01:13:25.000',19,45,10);\n",
    "insert into utB values('20030101 01:13:26.000',19,45,10);\n",
    "insert into utB values('20030201 01:13:27.000',20,45,10);\n",
    "insert into utB values('20030301 01:13:28.000',20,45,10);\n",
    "insert into utB values('20030401 01:13:29.000',20,46,10);\n",
    "insert into utB values('20030501 01:13:30.000',20,46,10);\n",
    "insert into utB values('20030201 01:13:31.000',21,49,50);\n",
    "insert into utB values('20030202 01:13:32.000',21,49,50);\n",
    "insert into utB values('20030203 01:13:33.000',21,50,50);\n",
    "insert into utB values('20030204 01:13:34.000',21,50,50);\n",
    "insert into utB values('20030205 01:13:35.000',21,48,1);\n",
    "insert into utB values('20000101 01:13:36.000',22,50,50);\n",
    "insert into utB values('20010101 01:13:37.000',22,50,50);\n",
    "insert into utB values('20020101 01:13:38.000',22,51,50);\n",
    "insert into utB values('20020601 01:13:39.000',22,51,50);\n",
    "insert into utB values('20030101 01:13:05.000',4,37,185);\n",
    "\n",
    "drop table if exists outcomes;\n",
    "drop table if exists ships;\n",
    "drop table if exists classes;\n",
    "drop table if exists battles;\n",
    "\n",
    "CREATE TABLE Battles (\n",
    "\tname varchar (20) NOT NULL ,\n",
    "\tdate timestamp NOT NULL \n",
    ") \n",
    ";\n",
    "\n",
    "CREATE TABLE Classes (\n",
    "\tclass varchar (50) NOT NULL ,\n",
    "\ttype varchar (2) NOT NULL ,\n",
    "\tcountry varchar (20) NOT NULL ,\n",
    "\tnumGuns smallint NULL ,\n",
    "\tbore real NULL ,\n",
    "\tdisplacement int NULL \n",
    ") \n",
    ";\n",
    "\n",
    "CREATE TABLE Ships (\n",
    "\tname varchar (50) NOT NULL ,\n",
    "\tclass varchar (50) NOT NULL ,\n",
    "\tlaunched smallint NULL \n",
    ") \n",
    ";\n",
    "\n",
    "CREATE TABLE Outcomes (\n",
    "\tship varchar (50) NOT NULL ,\n",
    "\tbattle varchar (20) NOT NULL ,\n",
    "\tresult varchar (10) NOT NULL \n",
    ") \n",
    ";\n",
    "\n",
    "                                                                                                                                                                                                                                                               \n",
    "----Classes------------------------------------------------------------------------------------------------------------------------------------------------------------------------------------------------------------------------------------------------------------ \n",
    "insert into Classes values('Bismarck','bb','Germany',8,15,42000);\n",
    "insert into Classes values('Iowa','bb','USA',9,16,46000);\n",
    "insert into Classes values('Kongo','bc','Japan',8,14,32000);\n",
    "insert into Classes values('North Carolina','bb','USA',12,16,37000);\n",
    "insert into Classes values('Renown','bc','Gt.Britain',6,15,32000);\n",
    "insert into Classes values('Revenge','bb','Gt.Britain',8,15,29000);\n",
    "insert into Classes values('Tennessee','bb','USA',12,14,32000);\n",
    "insert into Classes values('Yamato','bb','Japan',9,18,65000);\n",
    "\n",
    "\n",
    "\n",
    "                                                                                                                                                                                                                                                                 \n",
    "----Battles------------------------------------------------------------------------------------------------------------------------------------------------------------------------------------------------------------------------------------------------------------ \n",
    "insert into Battles values('Guadalcanal','19421115 00:00:00.000');\n",
    "insert into Battles values('North Atlantic','19410525 00:00:00.000');\n",
    "insert into Battles values('North Cape','19431226 00:00:00.000');\n",
    "insert into Battles values('Surigao Strait','19441025 00:00:00.000');\n",
    "insert into battles values ('#Cuba62a'   , '19621020');\n",
    "insert into battles values ('#Cuba62b'   , '19621025');\n",
    "\n",
    "\n",
    "\n",
    "                                                                                                                                                                                                                                                                 \n",
    "----Ships------------------------------------------------------------------------------------------------------------------------------------------------------------------------------------------------------------------------------------------------------------ \n",
    "insert into Ships values('California','Tennessee',1921);\n",
    "insert into Ships values('Haruna','Kongo',1916);\n",
    "insert into Ships values('Hiei','Kongo',1914);\n",
    "insert into Ships values('Iowa','Iowa',1943);\n",
    "insert into Ships values('Kirishima','Kongo',1915);\n",
    "insert into Ships values('Kongo','Kongo',1913);\n",
    "insert into Ships values('Missouri','Iowa',1944);\n",
    "insert into Ships values('Musashi','Yamato',1942);\n",
    "insert into Ships values('New Jersey','Iowa',1943);\n",
    "insert into Ships values('North Carolina','North Carolina',1941);\n",
    "insert into Ships values('Ramillies','Revenge',1917);\n",
    "insert into Ships values('Renown','Renown',1916);\n",
    "insert into Ships values('Repulse','Renown',1916);\n",
    "insert into Ships values('Resolution','Renown',1916);\n",
    "insert into Ships values('Revenge','Revenge',1916);\n",
    "insert into Ships values('Royal Oak','Revenge',1916);\n",
    "insert into Ships values('Royal Sovereign','Revenge',1916);\n",
    "insert into Ships values('Tennessee','Tennessee',1920);\n",
    "insert into Ships values('Washington','North Carolina',1941);\n",
    "insert into Ships values('Wisconsin','Iowa',1944);\n",
    "insert into Ships values('Yamato','Yamato',1941);\n",
    "insert into Ships values('South Dakota','North Carolina',1941) ;\n",
    "\n",
    "\n",
    "\n",
    "\n",
    "                                                                                                                                                                                                                                                                 \n",
    "----Outcomes------------------------------------------------------------------------------------------------------------------------------------------------------------------------------------------------------------------------------------------------------------ \n",
    "insert into Outcomes values('Bismarck','North Atlantic','sunk');\n",
    "insert into Outcomes values('California','Surigao Strait','OK');\n",
    "insert into Outcomes values('Duke of York','North Cape','OK');\n",
    "insert into Outcomes values('Fuso','Surigao Strait','sunk');\n",
    "insert into Outcomes values('Hood','North Atlantic','sunk');\n",
    "insert into Outcomes values('King George V','North Atlantic','OK');\n",
    "insert into Outcomes values('Kirishima','Guadalcanal','sunk');\n",
    "insert into Outcomes values('Prince of Wales','North Atlantic','damaged');\n",
    "insert into Outcomes values('Rodney','North Atlantic','OK');\n",
    "insert into Outcomes values('Schamhorst','North Cape','sunk');\n",
    "insert into Outcomes values('South Dakota','Guadalcanal','damaged');\n",
    "insert into Outcomes values('Tennessee','Surigao Strait','OK');\n",
    "insert into Outcomes values('Washington','Guadalcanal','OK');\n",
    "insert into Outcomes values('West Virginia','Surigao Strait','OK');\n",
    "insert into Outcomes values('Yamashiro','Surigao Strait','sunk');\n",
    "insert into Outcomes values('California','Guadalcanal','damaged');'''"
   ]
  },
  {
   "cell_type": "code",
   "execution_count": 2,
   "metadata": {},
   "outputs": [],
   "source": [
    "import sqlite3"
   ]
  },
  {
   "cell_type": "code",
   "execution_count": 3,
   "metadata": {},
   "outputs": [],
   "source": [
    "conn = sqlite3.connect('db')"
   ]
  },
  {
   "cell_type": "code",
   "execution_count": 4,
   "metadata": {},
   "outputs": [],
   "source": [
    "cur = conn.cursor()"
   ]
  },
  {
   "cell_type": "code",
   "execution_count": 5,
   "metadata": {},
   "outputs": [
    {
     "data": {
      "text/plain": [
       "<sqlite3.Cursor at 0x28d85894500>"
      ]
     },
     "execution_count": 5,
     "metadata": {},
     "output_type": "execute_result"
    }
   ],
   "source": [
    "cur.executescript(sql)"
   ]
  },
  {
   "cell_type": "code",
   "execution_count": 6,
   "metadata": {},
   "outputs": [],
   "source": [
    "import pandas as pd"
   ]
  },
  {
   "cell_type": "code",
   "execution_count": 7,
   "metadata": {},
   "outputs": [],
   "source": [
    "def select(sql):\n",
    "    return pd.read_sql(sql, conn)"
   ]
  },
  {
   "cell_type": "markdown",
   "metadata": {},
   "source": [
    "### 1. Найдите номер модели, скорость и размер жесткого диска для всех ПК стоимостью менее 500 дол. Вывести: model, speed и hd."
   ]
  },
  {
   "cell_type": "code",
   "execution_count": 8,
   "metadata": {},
   "outputs": [],
   "source": [
    "sql = '''\n",
    "SELECT model,\n",
    "       speed,\n",
    "       hd\n",
    "FROM pc\n",
    "WHERE price < 500\n",
    "'''"
   ]
  },
  {
   "cell_type": "code",
   "execution_count": 9,
   "metadata": {},
   "outputs": [
    {
     "data": {
      "text/html": [
       "<div>\n",
       "<style scoped>\n",
       "    .dataframe tbody tr th:only-of-type {\n",
       "        vertical-align: middle;\n",
       "    }\n",
       "\n",
       "    .dataframe tbody tr th {\n",
       "        vertical-align: top;\n",
       "    }\n",
       "\n",
       "    .dataframe thead th {\n",
       "        text-align: right;\n",
       "    }\n",
       "</style>\n",
       "<table border=\"1\" class=\"dataframe\">\n",
       "  <thead>\n",
       "    <tr style=\"text-align: right;\">\n",
       "      <th></th>\n",
       "      <th>model</th>\n",
       "      <th>speed</th>\n",
       "      <th>hd</th>\n",
       "    </tr>\n",
       "  </thead>\n",
       "  <tbody>\n",
       "    <tr>\n",
       "      <th>0</th>\n",
       "      <td>1232</td>\n",
       "      <td>500</td>\n",
       "      <td>10.0</td>\n",
       "    </tr>\n",
       "    <tr>\n",
       "      <th>1</th>\n",
       "      <td>1232</td>\n",
       "      <td>450</td>\n",
       "      <td>8.0</td>\n",
       "    </tr>\n",
       "    <tr>\n",
       "      <th>2</th>\n",
       "      <td>1232</td>\n",
       "      <td>450</td>\n",
       "      <td>10.0</td>\n",
       "    </tr>\n",
       "    <tr>\n",
       "      <th>3</th>\n",
       "      <td>1260</td>\n",
       "      <td>500</td>\n",
       "      <td>10.0</td>\n",
       "    </tr>\n",
       "  </tbody>\n",
       "</table>\n",
       "</div>"
      ],
      "text/plain": [
       "  model  speed    hd\n",
       "0  1232    500  10.0\n",
       "1  1232    450   8.0\n",
       "2  1232    450  10.0\n",
       "3  1260    500  10.0"
      ]
     },
     "execution_count": 9,
     "metadata": {},
     "output_type": "execute_result"
    }
   ],
   "source": [
    "select(sql)"
   ]
  },
  {
   "cell_type": "markdown",
   "metadata": {},
   "source": [
    "### 2. Найдите производителей принтеров. Вывести: maker."
   ]
  },
  {
   "cell_type": "code",
   "execution_count": 10,
   "metadata": {},
   "outputs": [],
   "source": [
    "sql = '''\n",
    "SELECT DISTINCT maker\n",
    "FROM product\n",
    "WHERE type = 'Printer'\n",
    "'''"
   ]
  },
  {
   "cell_type": "code",
   "execution_count": 11,
   "metadata": {},
   "outputs": [
    {
     "data": {
      "text/html": [
       "<div>\n",
       "<style scoped>\n",
       "    .dataframe tbody tr th:only-of-type {\n",
       "        vertical-align: middle;\n",
       "    }\n",
       "\n",
       "    .dataframe tbody tr th {\n",
       "        vertical-align: top;\n",
       "    }\n",
       "\n",
       "    .dataframe thead th {\n",
       "        text-align: right;\n",
       "    }\n",
       "</style>\n",
       "<table border=\"1\" class=\"dataframe\">\n",
       "  <thead>\n",
       "    <tr style=\"text-align: right;\">\n",
       "      <th></th>\n",
       "      <th>maker</th>\n",
       "    </tr>\n",
       "  </thead>\n",
       "  <tbody>\n",
       "    <tr>\n",
       "      <th>0</th>\n",
       "      <td>A</td>\n",
       "    </tr>\n",
       "    <tr>\n",
       "      <th>1</th>\n",
       "      <td>D</td>\n",
       "    </tr>\n",
       "    <tr>\n",
       "      <th>2</th>\n",
       "      <td>E</td>\n",
       "    </tr>\n",
       "  </tbody>\n",
       "</table>\n",
       "</div>"
      ],
      "text/plain": [
       "  maker\n",
       "0     A\n",
       "1     D\n",
       "2     E"
      ]
     },
     "execution_count": 11,
     "metadata": {},
     "output_type": "execute_result"
    }
   ],
   "source": [
    "select(sql)"
   ]
  },
  {
   "cell_type": "markdown",
   "metadata": {},
   "source": [
    "### 3. Найдите номер модели, объем памяти и размеры экранов ПК-блокнотов, цена которых превышает 1000 дол."
   ]
  },
  {
   "cell_type": "code",
   "execution_count": 12,
   "metadata": {},
   "outputs": [],
   "source": [
    "sql = '''\n",
    "SELECT model,\n",
    "       ram,\n",
    "       screen\n",
    "FROM laptop\n",
    "WHERE price > 1000\n",
    "'''"
   ]
  },
  {
   "cell_type": "code",
   "execution_count": 13,
   "metadata": {},
   "outputs": [
    {
     "data": {
      "text/html": [
       "<div>\n",
       "<style scoped>\n",
       "    .dataframe tbody tr th:only-of-type {\n",
       "        vertical-align: middle;\n",
       "    }\n",
       "\n",
       "    .dataframe tbody tr th {\n",
       "        vertical-align: top;\n",
       "    }\n",
       "\n",
       "    .dataframe thead th {\n",
       "        text-align: right;\n",
       "    }\n",
       "</style>\n",
       "<table border=\"1\" class=\"dataframe\">\n",
       "  <thead>\n",
       "    <tr style=\"text-align: right;\">\n",
       "      <th></th>\n",
       "      <th>model</th>\n",
       "      <th>ram</th>\n",
       "      <th>screen</th>\n",
       "    </tr>\n",
       "  </thead>\n",
       "  <tbody>\n",
       "    <tr>\n",
       "      <th>0</th>\n",
       "      <td>1750</td>\n",
       "      <td>128</td>\n",
       "      <td>14</td>\n",
       "    </tr>\n",
       "    <tr>\n",
       "      <th>1</th>\n",
       "      <td>1298</td>\n",
       "      <td>64</td>\n",
       "      <td>15</td>\n",
       "    </tr>\n",
       "    <tr>\n",
       "      <th>2</th>\n",
       "      <td>1752</td>\n",
       "      <td>128</td>\n",
       "      <td>14</td>\n",
       "    </tr>\n",
       "  </tbody>\n",
       "</table>\n",
       "</div>"
      ],
      "text/plain": [
       "  model  ram  screen\n",
       "0  1750  128      14\n",
       "1  1298   64      15\n",
       "2  1752  128      14"
      ]
     },
     "execution_count": 13,
     "metadata": {},
     "output_type": "execute_result"
    }
   ],
   "source": [
    "select(sql)"
   ]
  },
  {
   "cell_type": "markdown",
   "metadata": {},
   "source": [
    "### 4. Найдите все записи таблицы Printer для цветных принтеров."
   ]
  },
  {
   "cell_type": "code",
   "execution_count": 14,
   "metadata": {},
   "outputs": [],
   "source": [
    "sql = '''\n",
    "SELECT *\n",
    "FROM printer\n",
    "WHERE color = 'y'\n",
    "'''"
   ]
  },
  {
   "cell_type": "code",
   "execution_count": 15,
   "metadata": {},
   "outputs": [
    {
     "data": {
      "text/html": [
       "<div>\n",
       "<style scoped>\n",
       "    .dataframe tbody tr th:only-of-type {\n",
       "        vertical-align: middle;\n",
       "    }\n",
       "\n",
       "    .dataframe tbody tr th {\n",
       "        vertical-align: top;\n",
       "    }\n",
       "\n",
       "    .dataframe thead th {\n",
       "        text-align: right;\n",
       "    }\n",
       "</style>\n",
       "<table border=\"1\" class=\"dataframe\">\n",
       "  <thead>\n",
       "    <tr style=\"text-align: right;\">\n",
       "      <th></th>\n",
       "      <th>code</th>\n",
       "      <th>model</th>\n",
       "      <th>color</th>\n",
       "      <th>type</th>\n",
       "      <th>price</th>\n",
       "    </tr>\n",
       "  </thead>\n",
       "  <tbody>\n",
       "    <tr>\n",
       "      <th>0</th>\n",
       "      <td>2</td>\n",
       "      <td>1433</td>\n",
       "      <td>y</td>\n",
       "      <td>Jet</td>\n",
       "      <td>270</td>\n",
       "    </tr>\n",
       "    <tr>\n",
       "      <th>1</th>\n",
       "      <td>3</td>\n",
       "      <td>1434</td>\n",
       "      <td>y</td>\n",
       "      <td>Jet</td>\n",
       "      <td>290</td>\n",
       "    </tr>\n",
       "  </tbody>\n",
       "</table>\n",
       "</div>"
      ],
      "text/plain": [
       "   code model color type  price\n",
       "0     2  1433     y  Jet    270\n",
       "1     3  1434     y  Jet    290"
      ]
     },
     "execution_count": 15,
     "metadata": {},
     "output_type": "execute_result"
    }
   ],
   "source": [
    "select(sql)"
   ]
  },
  {
   "cell_type": "markdown",
   "metadata": {},
   "source": [
    "### 5. Найдите номер модели, скорость и размер жесткого диска ПК, имеющих 12x или 24x CD и цену менее 600 дол."
   ]
  },
  {
   "cell_type": "code",
   "execution_count": 16,
   "metadata": {},
   "outputs": [],
   "source": [
    "sql = '''\n",
    "SELECT model,\n",
    "       speed,\n",
    "       hd\n",
    "FROM pc\n",
    "WHERE (cd = '12x'\n",
    "       OR cd = '24x')\n",
    "  AND price < 600\n",
    "'''"
   ]
  },
  {
   "cell_type": "code",
   "execution_count": 17,
   "metadata": {},
   "outputs": [
    {
     "data": {
      "text/html": [
       "<div>\n",
       "<style scoped>\n",
       "    .dataframe tbody tr th:only-of-type {\n",
       "        vertical-align: middle;\n",
       "    }\n",
       "\n",
       "    .dataframe tbody tr th {\n",
       "        vertical-align: top;\n",
       "    }\n",
       "\n",
       "    .dataframe thead th {\n",
       "        text-align: right;\n",
       "    }\n",
       "</style>\n",
       "<table border=\"1\" class=\"dataframe\">\n",
       "  <thead>\n",
       "    <tr style=\"text-align: right;\">\n",
       "      <th></th>\n",
       "      <th>model</th>\n",
       "      <th>speed</th>\n",
       "      <th>hd</th>\n",
       "    </tr>\n",
       "  </thead>\n",
       "  <tbody>\n",
       "    <tr>\n",
       "      <th>0</th>\n",
       "      <td>1232</td>\n",
       "      <td>500</td>\n",
       "      <td>10.0</td>\n",
       "    </tr>\n",
       "    <tr>\n",
       "      <th>1</th>\n",
       "      <td>1232</td>\n",
       "      <td>450</td>\n",
       "      <td>8.0</td>\n",
       "    </tr>\n",
       "    <tr>\n",
       "      <th>2</th>\n",
       "      <td>1232</td>\n",
       "      <td>450</td>\n",
       "      <td>10.0</td>\n",
       "    </tr>\n",
       "    <tr>\n",
       "      <th>3</th>\n",
       "      <td>1260</td>\n",
       "      <td>500</td>\n",
       "      <td>10.0</td>\n",
       "    </tr>\n",
       "  </tbody>\n",
       "</table>\n",
       "</div>"
      ],
      "text/plain": [
       "  model  speed    hd\n",
       "0  1232    500  10.0\n",
       "1  1232    450   8.0\n",
       "2  1232    450  10.0\n",
       "3  1260    500  10.0"
      ]
     },
     "execution_count": 17,
     "metadata": {},
     "output_type": "execute_result"
    }
   ],
   "source": [
    "select(sql)"
   ]
  },
  {
   "cell_type": "markdown",
   "metadata": {},
   "source": [
    "### 6. Для каждого производителя, выпускающего ПК-блокноты c объёмом жесткого диска не менее 10 Гбайт, найти скорости таких ПК-блокнотов. Вывод: производитель, скорость."
   ]
  },
  {
   "cell_type": "code",
   "execution_count": 18,
   "metadata": {},
   "outputs": [],
   "source": [
    "sql = '''\n",
    "SELECT DISTINCT p.maker,\n",
    "                l.speed\n",
    "FROM laptop l\n",
    "LEFT JOIN product p ON p.model = l.model\n",
    "WHERE l.hd >= 10\n",
    "'''"
   ]
  },
  {
   "cell_type": "code",
   "execution_count": 19,
   "metadata": {},
   "outputs": [
    {
     "data": {
      "text/html": [
       "<div>\n",
       "<style scoped>\n",
       "    .dataframe tbody tr th:only-of-type {\n",
       "        vertical-align: middle;\n",
       "    }\n",
       "\n",
       "    .dataframe tbody tr th {\n",
       "        vertical-align: top;\n",
       "    }\n",
       "\n",
       "    .dataframe thead th {\n",
       "        text-align: right;\n",
       "    }\n",
       "</style>\n",
       "<table border=\"1\" class=\"dataframe\">\n",
       "  <thead>\n",
       "    <tr style=\"text-align: right;\">\n",
       "      <th></th>\n",
       "      <th>maker</th>\n",
       "      <th>speed</th>\n",
       "    </tr>\n",
       "  </thead>\n",
       "  <tbody>\n",
       "    <tr>\n",
       "      <th>0</th>\n",
       "      <td>B</td>\n",
       "      <td>750</td>\n",
       "    </tr>\n",
       "    <tr>\n",
       "      <th>1</th>\n",
       "      <td>A</td>\n",
       "      <td>600</td>\n",
       "    </tr>\n",
       "    <tr>\n",
       "      <th>2</th>\n",
       "      <td>A</td>\n",
       "      <td>750</td>\n",
       "    </tr>\n",
       "    <tr>\n",
       "      <th>3</th>\n",
       "      <td>A</td>\n",
       "      <td>450</td>\n",
       "    </tr>\n",
       "  </tbody>\n",
       "</table>\n",
       "</div>"
      ],
      "text/plain": [
       "  maker  speed\n",
       "0     B    750\n",
       "1     A    600\n",
       "2     A    750\n",
       "3     A    450"
      ]
     },
     "execution_count": 19,
     "metadata": {},
     "output_type": "execute_result"
    }
   ],
   "source": [
    "select(sql)"
   ]
  },
  {
   "cell_type": "markdown",
   "metadata": {},
   "source": [
    "### 7. Найдите номера моделей и цены всех имеющихся в продаже продуктов (любого типа) производителя B (латинская буква)."
   ]
  },
  {
   "cell_type": "code",
   "execution_count": 20,
   "metadata": {},
   "outputs": [],
   "source": [
    "sql = '''\n",
    "SELECT DISTINCT p.model,\n",
    "                a.price\n",
    "FROM\n",
    "  (SELECT pc.model,\n",
    "          pc.price\n",
    "   FROM pc\n",
    "   UNION ALL SELECT l.model,\n",
    "                    l.price\n",
    "   FROM laptop l\n",
    "   UNION ALL SELECT pr.model,\n",
    "                    pr.price\n",
    "   FROM printer pr) a\n",
    "INNER JOIN product p ON p.model = a.model\n",
    "WHERE p.maker = 'B'\n",
    "'''"
   ]
  },
  {
   "cell_type": "code",
   "execution_count": 21,
   "metadata": {},
   "outputs": [
    {
     "data": {
      "text/html": [
       "<div>\n",
       "<style scoped>\n",
       "    .dataframe tbody tr th:only-of-type {\n",
       "        vertical-align: middle;\n",
       "    }\n",
       "\n",
       "    .dataframe tbody tr th {\n",
       "        vertical-align: top;\n",
       "    }\n",
       "\n",
       "    .dataframe thead th {\n",
       "        text-align: right;\n",
       "    }\n",
       "</style>\n",
       "<table border=\"1\" class=\"dataframe\">\n",
       "  <thead>\n",
       "    <tr style=\"text-align: right;\">\n",
       "      <th></th>\n",
       "      <th>model</th>\n",
       "      <th>price</th>\n",
       "    </tr>\n",
       "  </thead>\n",
       "  <tbody>\n",
       "    <tr>\n",
       "      <th>0</th>\n",
       "      <td>1121</td>\n",
       "      <td>850</td>\n",
       "    </tr>\n",
       "    <tr>\n",
       "      <th>1</th>\n",
       "      <td>1750</td>\n",
       "      <td>1200</td>\n",
       "    </tr>\n",
       "  </tbody>\n",
       "</table>\n",
       "</div>"
      ],
      "text/plain": [
       "  model  price\n",
       "0  1121    850\n",
       "1  1750   1200"
      ]
     },
     "execution_count": 21,
     "metadata": {},
     "output_type": "execute_result"
    }
   ],
   "source": [
    "select(sql)"
   ]
  },
  {
   "cell_type": "markdown",
   "metadata": {},
   "source": [
    "### 8. Найдите производителя, выпускающего ПК, но не ПК-блокноты."
   ]
  },
  {
   "cell_type": "code",
   "execution_count": 22,
   "metadata": {},
   "outputs": [],
   "source": [
    "sql = '''\n",
    "SELECT DISTINCT maker\n",
    "FROM product\n",
    "WHERE type = 'PC'\n",
    "  AND maker NOT IN\n",
    "    (SELECT DISTINCT maker\n",
    "     FROM product\n",
    "     WHERE type = 'Laptop')\n",
    "'''"
   ]
  },
  {
   "cell_type": "code",
   "execution_count": 23,
   "metadata": {},
   "outputs": [
    {
     "data": {
      "text/html": [
       "<div>\n",
       "<style scoped>\n",
       "    .dataframe tbody tr th:only-of-type {\n",
       "        vertical-align: middle;\n",
       "    }\n",
       "\n",
       "    .dataframe tbody tr th {\n",
       "        vertical-align: top;\n",
       "    }\n",
       "\n",
       "    .dataframe thead th {\n",
       "        text-align: right;\n",
       "    }\n",
       "</style>\n",
       "<table border=\"1\" class=\"dataframe\">\n",
       "  <thead>\n",
       "    <tr style=\"text-align: right;\">\n",
       "      <th></th>\n",
       "      <th>maker</th>\n",
       "    </tr>\n",
       "  </thead>\n",
       "  <tbody>\n",
       "    <tr>\n",
       "      <th>0</th>\n",
       "      <td>E</td>\n",
       "    </tr>\n",
       "  </tbody>\n",
       "</table>\n",
       "</div>"
      ],
      "text/plain": [
       "  maker\n",
       "0     E"
      ]
     },
     "execution_count": 23,
     "metadata": {},
     "output_type": "execute_result"
    }
   ],
   "source": [
    "select(sql)"
   ]
  },
  {
   "cell_type": "markdown",
   "metadata": {},
   "source": [
    "### 9. Найдите производителей ПК с процессором не менее 450 Мгц. Вывести: Maker."
   ]
  },
  {
   "cell_type": "code",
   "execution_count": 24,
   "metadata": {},
   "outputs": [],
   "source": [
    "sql = '''\n",
    "SELECT DISTINCT p.maker\n",
    "FROM product p\n",
    "LEFT JOIN pc ON pc.model = p.model\n",
    "WHERE pc.speed >= 450\n",
    "'''"
   ]
  },
  {
   "cell_type": "code",
   "execution_count": 25,
   "metadata": {},
   "outputs": [
    {
     "data": {
      "text/html": [
       "<div>\n",
       "<style scoped>\n",
       "    .dataframe tbody tr th:only-of-type {\n",
       "        vertical-align: middle;\n",
       "    }\n",
       "\n",
       "    .dataframe tbody tr th {\n",
       "        vertical-align: top;\n",
       "    }\n",
       "\n",
       "    .dataframe thead th {\n",
       "        text-align: right;\n",
       "    }\n",
       "</style>\n",
       "<table border=\"1\" class=\"dataframe\">\n",
       "  <thead>\n",
       "    <tr style=\"text-align: right;\">\n",
       "      <th></th>\n",
       "      <th>maker</th>\n",
       "    </tr>\n",
       "  </thead>\n",
       "  <tbody>\n",
       "    <tr>\n",
       "      <th>0</th>\n",
       "      <td>A</td>\n",
       "    </tr>\n",
       "    <tr>\n",
       "      <th>1</th>\n",
       "      <td>B</td>\n",
       "    </tr>\n",
       "    <tr>\n",
       "      <th>2</th>\n",
       "      <td>E</td>\n",
       "    </tr>\n",
       "  </tbody>\n",
       "</table>\n",
       "</div>"
      ],
      "text/plain": [
       "  maker\n",
       "0     A\n",
       "1     B\n",
       "2     E"
      ]
     },
     "execution_count": 25,
     "metadata": {},
     "output_type": "execute_result"
    }
   ],
   "source": [
    "select(sql)"
   ]
  },
  {
   "cell_type": "markdown",
   "metadata": {},
   "source": [
    "### 10. Найдите модели принтеров, имеющих самую высокую цену. Вывести: model, price."
   ]
  },
  {
   "cell_type": "code",
   "execution_count": 26,
   "metadata": {},
   "outputs": [],
   "source": [
    "sql = '''\n",
    "SELECT DISTINCT model,\n",
    "                price\n",
    "FROM printer\n",
    "WHERE price =\n",
    "    (SELECT max(price)\n",
    "     FROM printer)\n",
    "'''"
   ]
  },
  {
   "cell_type": "code",
   "execution_count": 27,
   "metadata": {},
   "outputs": [
    {
     "data": {
      "text/html": [
       "<div>\n",
       "<style scoped>\n",
       "    .dataframe tbody tr th:only-of-type {\n",
       "        vertical-align: middle;\n",
       "    }\n",
       "\n",
       "    .dataframe tbody tr th {\n",
       "        vertical-align: top;\n",
       "    }\n",
       "\n",
       "    .dataframe thead th {\n",
       "        text-align: right;\n",
       "    }\n",
       "</style>\n",
       "<table border=\"1\" class=\"dataframe\">\n",
       "  <thead>\n",
       "    <tr style=\"text-align: right;\">\n",
       "      <th></th>\n",
       "      <th>model</th>\n",
       "      <th>price</th>\n",
       "    </tr>\n",
       "  </thead>\n",
       "  <tbody>\n",
       "    <tr>\n",
       "      <th>0</th>\n",
       "      <td>1276</td>\n",
       "      <td>400</td>\n",
       "    </tr>\n",
       "    <tr>\n",
       "      <th>1</th>\n",
       "      <td>1288</td>\n",
       "      <td>400</td>\n",
       "    </tr>\n",
       "  </tbody>\n",
       "</table>\n",
       "</div>"
      ],
      "text/plain": [
       "  model  price\n",
       "0  1276    400\n",
       "1  1288    400"
      ]
     },
     "execution_count": 27,
     "metadata": {},
     "output_type": "execute_result"
    }
   ],
   "source": [
    "select(sql)"
   ]
  },
  {
   "cell_type": "markdown",
   "metadata": {},
   "source": [
    "### 11. Найдите среднюю скорость ПК."
   ]
  },
  {
   "cell_type": "code",
   "execution_count": 28,
   "metadata": {},
   "outputs": [],
   "source": [
    "sql = '''\n",
    "SELECT avg(speed)\n",
    "FROM pc\n",
    "'''"
   ]
  },
  {
   "cell_type": "code",
   "execution_count": 29,
   "metadata": {},
   "outputs": [
    {
     "data": {
      "text/html": [
       "<div>\n",
       "<style scoped>\n",
       "    .dataframe tbody tr th:only-of-type {\n",
       "        vertical-align: middle;\n",
       "    }\n",
       "\n",
       "    .dataframe tbody tr th {\n",
       "        vertical-align: top;\n",
       "    }\n",
       "\n",
       "    .dataframe thead th {\n",
       "        text-align: right;\n",
       "    }\n",
       "</style>\n",
       "<table border=\"1\" class=\"dataframe\">\n",
       "  <thead>\n",
       "    <tr style=\"text-align: right;\">\n",
       "      <th></th>\n",
       "      <th>avg(speed)</th>\n",
       "    </tr>\n",
       "  </thead>\n",
       "  <tbody>\n",
       "    <tr>\n",
       "      <th>0</th>\n",
       "      <td>608.333333</td>\n",
       "    </tr>\n",
       "  </tbody>\n",
       "</table>\n",
       "</div>"
      ],
      "text/plain": [
       "   avg(speed)\n",
       "0  608.333333"
      ]
     },
     "execution_count": 29,
     "metadata": {},
     "output_type": "execute_result"
    }
   ],
   "source": [
    "select(sql)"
   ]
  },
  {
   "cell_type": "markdown",
   "metadata": {},
   "source": [
    "### 12. Найдите среднюю скорость ПК-блокнотов, цена которых превышает 1000 дол."
   ]
  },
  {
   "cell_type": "code",
   "execution_count": 30,
   "metadata": {},
   "outputs": [],
   "source": [
    "sql = '''\n",
    "SELECT avg(speed)\n",
    "FROM laptop\n",
    "WHERE price > 1000\n",
    "'''"
   ]
  },
  {
   "cell_type": "code",
   "execution_count": 31,
   "metadata": {},
   "outputs": [
    {
     "data": {
      "text/html": [
       "<div>\n",
       "<style scoped>\n",
       "    .dataframe tbody tr th:only-of-type {\n",
       "        vertical-align: middle;\n",
       "    }\n",
       "\n",
       "    .dataframe tbody tr th {\n",
       "        vertical-align: top;\n",
       "    }\n",
       "\n",
       "    .dataframe thead th {\n",
       "        text-align: right;\n",
       "    }\n",
       "</style>\n",
       "<table border=\"1\" class=\"dataframe\">\n",
       "  <thead>\n",
       "    <tr style=\"text-align: right;\">\n",
       "      <th></th>\n",
       "      <th>avg(speed)</th>\n",
       "    </tr>\n",
       "  </thead>\n",
       "  <tbody>\n",
       "    <tr>\n",
       "      <th>0</th>\n",
       "      <td>700.0</td>\n",
       "    </tr>\n",
       "  </tbody>\n",
       "</table>\n",
       "</div>"
      ],
      "text/plain": [
       "   avg(speed)\n",
       "0       700.0"
      ]
     },
     "execution_count": 31,
     "metadata": {},
     "output_type": "execute_result"
    }
   ],
   "source": [
    "select(sql)"
   ]
  },
  {
   "cell_type": "markdown",
   "metadata": {},
   "source": [
    "### 13. Найдите среднюю скорость ПК, выпущенных производителем A."
   ]
  },
  {
   "cell_type": "code",
   "execution_count": 32,
   "metadata": {},
   "outputs": [],
   "source": [
    "sql = '''\n",
    "SELECT avg(pc.speed)\n",
    "FROM pc\n",
    "LEFT JOIN product p ON p.model = pc.model\n",
    "WHERE p.maker = 'A'\n",
    "'''"
   ]
  },
  {
   "cell_type": "code",
   "execution_count": 33,
   "metadata": {},
   "outputs": [
    {
     "data": {
      "text/html": [
       "<div>\n",
       "<style scoped>\n",
       "    .dataframe tbody tr th:only-of-type {\n",
       "        vertical-align: middle;\n",
       "    }\n",
       "\n",
       "    .dataframe tbody tr th {\n",
       "        vertical-align: top;\n",
       "    }\n",
       "\n",
       "    .dataframe thead th {\n",
       "        text-align: right;\n",
       "    }\n",
       "</style>\n",
       "<table border=\"1\" class=\"dataframe\">\n",
       "  <thead>\n",
       "    <tr style=\"text-align: right;\">\n",
       "      <th></th>\n",
       "      <th>avg(pc.speed)</th>\n",
       "    </tr>\n",
       "  </thead>\n",
       "  <tbody>\n",
       "    <tr>\n",
       "      <th>0</th>\n",
       "      <td>606.25</td>\n",
       "    </tr>\n",
       "  </tbody>\n",
       "</table>\n",
       "</div>"
      ],
      "text/plain": [
       "   avg(pc.speed)\n",
       "0         606.25"
      ]
     },
     "execution_count": 33,
     "metadata": {},
     "output_type": "execute_result"
    }
   ],
   "source": [
    "select(sql)"
   ]
  },
  {
   "cell_type": "markdown",
   "metadata": {},
   "source": [
    "### 14. Найдите класс, имя и страну для кораблей из таблицы Ships, имеющих не менее 10 орудий."
   ]
  },
  {
   "cell_type": "code",
   "execution_count": 34,
   "metadata": {},
   "outputs": [],
   "source": [
    "sql = '''\n",
    "SELECT s.class,\n",
    "       s.name,\n",
    "       c.country\n",
    "FROM ships s\n",
    "LEFT JOIN classes c ON c.class = s.class\n",
    "WHERE c.numGuns >= 10\n",
    "'''"
   ]
  },
  {
   "cell_type": "code",
   "execution_count": 35,
   "metadata": {},
   "outputs": [
    {
     "data": {
      "text/html": [
       "<div>\n",
       "<style scoped>\n",
       "    .dataframe tbody tr th:only-of-type {\n",
       "        vertical-align: middle;\n",
       "    }\n",
       "\n",
       "    .dataframe tbody tr th {\n",
       "        vertical-align: top;\n",
       "    }\n",
       "\n",
       "    .dataframe thead th {\n",
       "        text-align: right;\n",
       "    }\n",
       "</style>\n",
       "<table border=\"1\" class=\"dataframe\">\n",
       "  <thead>\n",
       "    <tr style=\"text-align: right;\">\n",
       "      <th></th>\n",
       "      <th>class</th>\n",
       "      <th>name</th>\n",
       "      <th>country</th>\n",
       "    </tr>\n",
       "  </thead>\n",
       "  <tbody>\n",
       "    <tr>\n",
       "      <th>0</th>\n",
       "      <td>North Carolina</td>\n",
       "      <td>North Carolina</td>\n",
       "      <td>USA</td>\n",
       "    </tr>\n",
       "    <tr>\n",
       "      <th>1</th>\n",
       "      <td>North Carolina</td>\n",
       "      <td>South Dakota</td>\n",
       "      <td>USA</td>\n",
       "    </tr>\n",
       "    <tr>\n",
       "      <th>2</th>\n",
       "      <td>North Carolina</td>\n",
       "      <td>Washington</td>\n",
       "      <td>USA</td>\n",
       "    </tr>\n",
       "    <tr>\n",
       "      <th>3</th>\n",
       "      <td>Tennessee</td>\n",
       "      <td>California</td>\n",
       "      <td>USA</td>\n",
       "    </tr>\n",
       "    <tr>\n",
       "      <th>4</th>\n",
       "      <td>Tennessee</td>\n",
       "      <td>Tennessee</td>\n",
       "      <td>USA</td>\n",
       "    </tr>\n",
       "  </tbody>\n",
       "</table>\n",
       "</div>"
      ],
      "text/plain": [
       "            class            name country\n",
       "0  North Carolina  North Carolina     USA\n",
       "1  North Carolina    South Dakota     USA\n",
       "2  North Carolina      Washington     USA\n",
       "3       Tennessee      California     USA\n",
       "4       Tennessee       Tennessee     USA"
      ]
     },
     "execution_count": 35,
     "metadata": {},
     "output_type": "execute_result"
    }
   ],
   "source": [
    "select(sql)"
   ]
  },
  {
   "cell_type": "markdown",
   "metadata": {},
   "source": [
    "### 15. Найдите размеры жестких дисков, совпадающих у двух и более PC. Вывести: HD."
   ]
  },
  {
   "cell_type": "code",
   "execution_count": 36,
   "metadata": {},
   "outputs": [],
   "source": [
    "sql = '''\n",
    "SELECT hd\n",
    "FROM pc\n",
    "GROUP BY hd\n",
    "HAVING count(hd) >= 2\n",
    "'''"
   ]
  },
  {
   "cell_type": "code",
   "execution_count": 37,
   "metadata": {},
   "outputs": [
    {
     "data": {
      "text/html": [
       "<div>\n",
       "<style scoped>\n",
       "    .dataframe tbody tr th:only-of-type {\n",
       "        vertical-align: middle;\n",
       "    }\n",
       "\n",
       "    .dataframe tbody tr th {\n",
       "        vertical-align: top;\n",
       "    }\n",
       "\n",
       "    .dataframe thead th {\n",
       "        text-align: right;\n",
       "    }\n",
       "</style>\n",
       "<table border=\"1\" class=\"dataframe\">\n",
       "  <thead>\n",
       "    <tr style=\"text-align: right;\">\n",
       "      <th></th>\n",
       "      <th>hd</th>\n",
       "    </tr>\n",
       "  </thead>\n",
       "  <tbody>\n",
       "    <tr>\n",
       "      <th>0</th>\n",
       "      <td>5.0</td>\n",
       "    </tr>\n",
       "    <tr>\n",
       "      <th>1</th>\n",
       "      <td>8.0</td>\n",
       "    </tr>\n",
       "    <tr>\n",
       "      <th>2</th>\n",
       "      <td>10.0</td>\n",
       "    </tr>\n",
       "    <tr>\n",
       "      <th>3</th>\n",
       "      <td>14.0</td>\n",
       "    </tr>\n",
       "    <tr>\n",
       "      <th>4</th>\n",
       "      <td>20.0</td>\n",
       "    </tr>\n",
       "  </tbody>\n",
       "</table>\n",
       "</div>"
      ],
      "text/plain": [
       "     hd\n",
       "0   5.0\n",
       "1   8.0\n",
       "2  10.0\n",
       "3  14.0\n",
       "4  20.0"
      ]
     },
     "execution_count": 37,
     "metadata": {},
     "output_type": "execute_result"
    }
   ],
   "source": [
    "select(sql)"
   ]
  },
  {
   "cell_type": "markdown",
   "metadata": {},
   "source": [
    "### 16. Найдите пары моделей PC, имеющих одинаковые скорость и RAM. В результате каждая пара указывается только один раз, т.е. (i,j), но не (j,i), Порядок вывода: модель с большим номером, модель с меньшим номером, скорость и RAM."
   ]
  },
  {
   "cell_type": "code",
   "execution_count": 38,
   "metadata": {},
   "outputs": [],
   "source": [
    "sql = '''\n",
    "SELECT DISTINCT pca.model,\n",
    "                pcb.model,\n",
    "                pca.speed,\n",
    "                pca.ram\n",
    "FROM pc pca,\n",
    "     pc pcb\n",
    "WHERE pca.ram = pcb.ram\n",
    "  AND pca.speed = pcb.speed\n",
    "  AND pca.model > pcb.model\n",
    "'''"
   ]
  },
  {
   "cell_type": "code",
   "execution_count": 39,
   "metadata": {},
   "outputs": [
    {
     "data": {
      "text/html": [
       "<div>\n",
       "<style scoped>\n",
       "    .dataframe tbody tr th:only-of-type {\n",
       "        vertical-align: middle;\n",
       "    }\n",
       "\n",
       "    .dataframe tbody tr th {\n",
       "        vertical-align: top;\n",
       "    }\n",
       "\n",
       "    .dataframe thead th {\n",
       "        text-align: right;\n",
       "    }\n",
       "</style>\n",
       "<table border=\"1\" class=\"dataframe\">\n",
       "  <thead>\n",
       "    <tr style=\"text-align: right;\">\n",
       "      <th></th>\n",
       "      <th>model</th>\n",
       "      <th>model</th>\n",
       "      <th>speed</th>\n",
       "      <th>ram</th>\n",
       "    </tr>\n",
       "  </thead>\n",
       "  <tbody>\n",
       "    <tr>\n",
       "      <th>0</th>\n",
       "      <td>1233</td>\n",
       "      <td>1232</td>\n",
       "      <td>500</td>\n",
       "      <td>64</td>\n",
       "    </tr>\n",
       "    <tr>\n",
       "      <th>1</th>\n",
       "      <td>1233</td>\n",
       "      <td>1121</td>\n",
       "      <td>750</td>\n",
       "      <td>128</td>\n",
       "    </tr>\n",
       "    <tr>\n",
       "      <th>2</th>\n",
       "      <td>1260</td>\n",
       "      <td>1232</td>\n",
       "      <td>500</td>\n",
       "      <td>32</td>\n",
       "    </tr>\n",
       "  </tbody>\n",
       "</table>\n",
       "</div>"
      ],
      "text/plain": [
       "  model model  speed  ram\n",
       "0  1233  1232    500   64\n",
       "1  1233  1121    750  128\n",
       "2  1260  1232    500   32"
      ]
     },
     "execution_count": 39,
     "metadata": {},
     "output_type": "execute_result"
    }
   ],
   "source": [
    "select(sql)"
   ]
  },
  {
   "cell_type": "markdown",
   "metadata": {},
   "source": [
    "### 17. Найдите модели ПК-блокнотов, скорость которых меньше скорости каждого из ПК. Вывести: type, model, speed."
   ]
  },
  {
   "cell_type": "code",
   "execution_count": 40,
   "metadata": {},
   "outputs": [],
   "source": [
    "sql = '''\n",
    "SELECT DISTINCT p.type,\n",
    "                l.model,\n",
    "                l.speed\n",
    "FROM laptop l\n",
    "LEFT JOIN product p ON p.model = l.model\n",
    "WHERE l.speed <\n",
    "    (SELECT min(speed)\n",
    "     FROM pc)\n",
    "'''"
   ]
  },
  {
   "cell_type": "code",
   "execution_count": 41,
   "metadata": {},
   "outputs": [
    {
     "data": {
      "text/html": [
       "<div>\n",
       "<style scoped>\n",
       "    .dataframe tbody tr th:only-of-type {\n",
       "        vertical-align: middle;\n",
       "    }\n",
       "\n",
       "    .dataframe tbody tr th {\n",
       "        vertical-align: top;\n",
       "    }\n",
       "\n",
       "    .dataframe thead th {\n",
       "        text-align: right;\n",
       "    }\n",
       "</style>\n",
       "<table border=\"1\" class=\"dataframe\">\n",
       "  <thead>\n",
       "    <tr style=\"text-align: right;\">\n",
       "      <th></th>\n",
       "      <th>type</th>\n",
       "      <th>model</th>\n",
       "      <th>speed</th>\n",
       "    </tr>\n",
       "  </thead>\n",
       "  <tbody>\n",
       "    <tr>\n",
       "      <th>0</th>\n",
       "      <td>Laptop</td>\n",
       "      <td>1298</td>\n",
       "      <td>350</td>\n",
       "    </tr>\n",
       "  </tbody>\n",
       "</table>\n",
       "</div>"
      ],
      "text/plain": [
       "     type model  speed\n",
       "0  Laptop  1298    350"
      ]
     },
     "execution_count": 41,
     "metadata": {},
     "output_type": "execute_result"
    }
   ],
   "source": [
    "select(sql)"
   ]
  },
  {
   "cell_type": "markdown",
   "metadata": {},
   "source": [
    "### 18. Найдите производителей самых дешевых цветных принтеров. Вывести: maker, price."
   ]
  },
  {
   "cell_type": "code",
   "execution_count": 42,
   "metadata": {},
   "outputs": [],
   "source": [
    "sql = '''\n",
    "SELECT DISTINCT p.maker,\n",
    "                pr.price\n",
    "FROM printer pr\n",
    "LEFT JOIN product p ON p.model = pr.model\n",
    "WHERE pr.color = 'y'\n",
    "  AND pr.price =\n",
    "    (SELECT min(pr.price)\n",
    "     FROM printer pr\n",
    "     WHERE pr.color = 'y')\n",
    "'''"
   ]
  },
  {
   "cell_type": "code",
   "execution_count": 43,
   "metadata": {},
   "outputs": [
    {
     "data": {
      "text/html": [
       "<div>\n",
       "<style scoped>\n",
       "    .dataframe tbody tr th:only-of-type {\n",
       "        vertical-align: middle;\n",
       "    }\n",
       "\n",
       "    .dataframe tbody tr th {\n",
       "        vertical-align: top;\n",
       "    }\n",
       "\n",
       "    .dataframe thead th {\n",
       "        text-align: right;\n",
       "    }\n",
       "</style>\n",
       "<table border=\"1\" class=\"dataframe\">\n",
       "  <thead>\n",
       "    <tr style=\"text-align: right;\">\n",
       "      <th></th>\n",
       "      <th>maker</th>\n",
       "      <th>price</th>\n",
       "    </tr>\n",
       "  </thead>\n",
       "  <tbody>\n",
       "    <tr>\n",
       "      <th>0</th>\n",
       "      <td>D</td>\n",
       "      <td>270</td>\n",
       "    </tr>\n",
       "  </tbody>\n",
       "</table>\n",
       "</div>"
      ],
      "text/plain": [
       "  maker  price\n",
       "0     D    270"
      ]
     },
     "execution_count": 43,
     "metadata": {},
     "output_type": "execute_result"
    }
   ],
   "source": [
    "select(sql)"
   ]
  },
  {
   "cell_type": "markdown",
   "metadata": {},
   "source": [
    "### 19. Для каждого производителя, имеющего модели в таблице Laptop, найдите средний размер экрана выпускаемых им ПК-блокнотов. Вывести: maker, средний размер экрана."
   ]
  },
  {
   "cell_type": "code",
   "execution_count": 44,
   "metadata": {},
   "outputs": [],
   "source": [
    "sql = '''\n",
    "SELECT p.maker,\n",
    "       avg(l.screen)\n",
    "FROM laptop l\n",
    "LEFT JOIN product p ON p.model = l.model\n",
    "GROUP BY p.maker\n",
    "'''"
   ]
  },
  {
   "cell_type": "code",
   "execution_count": 45,
   "metadata": {},
   "outputs": [
    {
     "data": {
      "text/html": [
       "<div>\n",
       "<style scoped>\n",
       "    .dataframe tbody tr th:only-of-type {\n",
       "        vertical-align: middle;\n",
       "    }\n",
       "\n",
       "    .dataframe tbody tr th {\n",
       "        vertical-align: top;\n",
       "    }\n",
       "\n",
       "    .dataframe thead th {\n",
       "        text-align: right;\n",
       "    }\n",
       "</style>\n",
       "<table border=\"1\" class=\"dataframe\">\n",
       "  <thead>\n",
       "    <tr style=\"text-align: right;\">\n",
       "      <th></th>\n",
       "      <th>maker</th>\n",
       "      <th>avg(l.screen)</th>\n",
       "    </tr>\n",
       "  </thead>\n",
       "  <tbody>\n",
       "    <tr>\n",
       "      <th>0</th>\n",
       "      <td>A</td>\n",
       "      <td>13.0</td>\n",
       "    </tr>\n",
       "    <tr>\n",
       "      <th>1</th>\n",
       "      <td>B</td>\n",
       "      <td>14.0</td>\n",
       "    </tr>\n",
       "    <tr>\n",
       "      <th>2</th>\n",
       "      <td>C</td>\n",
       "      <td>12.0</td>\n",
       "    </tr>\n",
       "  </tbody>\n",
       "</table>\n",
       "</div>"
      ],
      "text/plain": [
       "  maker  avg(l.screen)\n",
       "0     A           13.0\n",
       "1     B           14.0\n",
       "2     C           12.0"
      ]
     },
     "execution_count": 45,
     "metadata": {},
     "output_type": "execute_result"
    }
   ],
   "source": [
    "select(sql)"
   ]
  },
  {
   "cell_type": "markdown",
   "metadata": {},
   "source": [
    "### 20. Найдите производителей, выпускающих по меньшей мере три различных модели ПК. Вывести: Maker, число моделей ПК."
   ]
  },
  {
   "cell_type": "code",
   "execution_count": 46,
   "metadata": {},
   "outputs": [],
   "source": [
    "sql = '''\n",
    "SELECT maker,\n",
    "       count(model)\n",
    "FROM product\n",
    "WHERE TYPE = 'PC'\n",
    "GROUP BY maker\n",
    "HAVING count(model) >= 3\n",
    "'''"
   ]
  },
  {
   "cell_type": "code",
   "execution_count": 47,
   "metadata": {},
   "outputs": [
    {
     "data": {
      "text/html": [
       "<div>\n",
       "<style scoped>\n",
       "    .dataframe tbody tr th:only-of-type {\n",
       "        vertical-align: middle;\n",
       "    }\n",
       "\n",
       "    .dataframe tbody tr th {\n",
       "        vertical-align: top;\n",
       "    }\n",
       "\n",
       "    .dataframe thead th {\n",
       "        text-align: right;\n",
       "    }\n",
       "</style>\n",
       "<table border=\"1\" class=\"dataframe\">\n",
       "  <thead>\n",
       "    <tr style=\"text-align: right;\">\n",
       "      <th></th>\n",
       "      <th>maker</th>\n",
       "      <th>count(model)</th>\n",
       "    </tr>\n",
       "  </thead>\n",
       "  <tbody>\n",
       "    <tr>\n",
       "      <th>0</th>\n",
       "      <td>E</td>\n",
       "      <td>3</td>\n",
       "    </tr>\n",
       "  </tbody>\n",
       "</table>\n",
       "</div>"
      ],
      "text/plain": [
       "  maker  count(model)\n",
       "0     E             3"
      ]
     },
     "execution_count": 47,
     "metadata": {},
     "output_type": "execute_result"
    }
   ],
   "source": [
    "select(sql)"
   ]
  },
  {
   "cell_type": "markdown",
   "metadata": {},
   "source": [
    "### 21. Найдите максимальную цену ПК, выпускаемых каждым производителем, у которого есть модели в таблице PC. Вывести: maker, максимальная цена."
   ]
  },
  {
   "cell_type": "code",
   "execution_count": 48,
   "metadata": {},
   "outputs": [],
   "source": [
    "sql = '''\n",
    "SELECT p.maker,\n",
    "       max(pc.price)\n",
    "FROM pc\n",
    "LEFT JOIN product p ON p.model = pc.model\n",
    "GROUP BY p.maker\n",
    "'''"
   ]
  },
  {
   "cell_type": "code",
   "execution_count": 49,
   "metadata": {},
   "outputs": [
    {
     "data": {
      "text/html": [
       "<div>\n",
       "<style scoped>\n",
       "    .dataframe tbody tr th:only-of-type {\n",
       "        vertical-align: middle;\n",
       "    }\n",
       "\n",
       "    .dataframe tbody tr th {\n",
       "        vertical-align: top;\n",
       "    }\n",
       "\n",
       "    .dataframe thead th {\n",
       "        text-align: right;\n",
       "    }\n",
       "</style>\n",
       "<table border=\"1\" class=\"dataframe\">\n",
       "  <thead>\n",
       "    <tr style=\"text-align: right;\">\n",
       "      <th></th>\n",
       "      <th>maker</th>\n",
       "      <th>max(pc.price)</th>\n",
       "    </tr>\n",
       "  </thead>\n",
       "  <tbody>\n",
       "    <tr>\n",
       "      <th>0</th>\n",
       "      <td>A</td>\n",
       "      <td>980</td>\n",
       "    </tr>\n",
       "    <tr>\n",
       "      <th>1</th>\n",
       "      <td>B</td>\n",
       "      <td>850</td>\n",
       "    </tr>\n",
       "    <tr>\n",
       "      <th>2</th>\n",
       "      <td>E</td>\n",
       "      <td>350</td>\n",
       "    </tr>\n",
       "  </tbody>\n",
       "</table>\n",
       "</div>"
      ],
      "text/plain": [
       "  maker  max(pc.price)\n",
       "0     A            980\n",
       "1     B            850\n",
       "2     E            350"
      ]
     },
     "execution_count": 49,
     "metadata": {},
     "output_type": "execute_result"
    }
   ],
   "source": [
    "select(sql)"
   ]
  },
  {
   "cell_type": "markdown",
   "metadata": {},
   "source": [
    "### 22. Для каждого значения скорости ПК, превышающего 600 МГц, определите среднюю цену ПК с такой же скоростью. Вывести: speed, средняя цена."
   ]
  },
  {
   "cell_type": "code",
   "execution_count": 50,
   "metadata": {},
   "outputs": [],
   "source": [
    "sql = '''\n",
    "SELECT speed,\n",
    "       avg(price)\n",
    "FROM pc\n",
    "WHERE speed > 600\n",
    "GROUP BY speed\n",
    "'''"
   ]
  },
  {
   "cell_type": "code",
   "execution_count": 51,
   "metadata": {},
   "outputs": [
    {
     "data": {
      "text/html": [
       "<div>\n",
       "<style scoped>\n",
       "    .dataframe tbody tr th:only-of-type {\n",
       "        vertical-align: middle;\n",
       "    }\n",
       "\n",
       "    .dataframe tbody tr th {\n",
       "        vertical-align: top;\n",
       "    }\n",
       "\n",
       "    .dataframe thead th {\n",
       "        text-align: right;\n",
       "    }\n",
       "</style>\n",
       "<table border=\"1\" class=\"dataframe\">\n",
       "  <thead>\n",
       "    <tr style=\"text-align: right;\">\n",
       "      <th></th>\n",
       "      <th>speed</th>\n",
       "      <th>avg(price)</th>\n",
       "    </tr>\n",
       "  </thead>\n",
       "  <tbody>\n",
       "    <tr>\n",
       "      <th>0</th>\n",
       "      <td>750</td>\n",
       "      <td>900.0</td>\n",
       "    </tr>\n",
       "    <tr>\n",
       "      <th>1</th>\n",
       "      <td>800</td>\n",
       "      <td>970.0</td>\n",
       "    </tr>\n",
       "    <tr>\n",
       "      <th>2</th>\n",
       "      <td>900</td>\n",
       "      <td>980.0</td>\n",
       "    </tr>\n",
       "  </tbody>\n",
       "</table>\n",
       "</div>"
      ],
      "text/plain": [
       "   speed  avg(price)\n",
       "0    750       900.0\n",
       "1    800       970.0\n",
       "2    900       980.0"
      ]
     },
     "execution_count": 51,
     "metadata": {},
     "output_type": "execute_result"
    }
   ],
   "source": [
    "select(sql)"
   ]
  },
  {
   "cell_type": "markdown",
   "metadata": {},
   "source": [
    "### 23. Найдите производителей, которые производили бы как ПК со скоростью не менее 750 МГц, так и ПК-блокноты со скоростью не менее 750 МГц. Вывести: Maker."
   ]
  },
  {
   "cell_type": "code",
   "execution_count": 52,
   "metadata": {},
   "outputs": [],
   "source": [
    "sql = '''\n",
    "SELECT DISTINCT product.maker\n",
    "FROM product,\n",
    "     pc\n",
    "WHERE product.model = pc.model\n",
    "  AND product.type = 'PC'\n",
    "  AND pc.speed >= 750\n",
    "  AND exists\n",
    "    (SELECT p.maker\n",
    "     FROM laptop l,\n",
    "          product p\n",
    "     WHERE p.model = l.model\n",
    "       AND p.type = 'Laptop'\n",
    "       AND p.maker = product.maker\n",
    "       AND l.speed >= 750)\n",
    "'''"
   ]
  },
  {
   "cell_type": "code",
   "execution_count": 53,
   "metadata": {},
   "outputs": [
    {
     "data": {
      "text/html": [
       "<div>\n",
       "<style scoped>\n",
       "    .dataframe tbody tr th:only-of-type {\n",
       "        vertical-align: middle;\n",
       "    }\n",
       "\n",
       "    .dataframe tbody tr th {\n",
       "        vertical-align: top;\n",
       "    }\n",
       "\n",
       "    .dataframe thead th {\n",
       "        text-align: right;\n",
       "    }\n",
       "</style>\n",
       "<table border=\"1\" class=\"dataframe\">\n",
       "  <thead>\n",
       "    <tr style=\"text-align: right;\">\n",
       "      <th></th>\n",
       "      <th>maker</th>\n",
       "    </tr>\n",
       "  </thead>\n",
       "  <tbody>\n",
       "    <tr>\n",
       "      <th>0</th>\n",
       "      <td>B</td>\n",
       "    </tr>\n",
       "    <tr>\n",
       "      <th>1</th>\n",
       "      <td>A</td>\n",
       "    </tr>\n",
       "  </tbody>\n",
       "</table>\n",
       "</div>"
      ],
      "text/plain": [
       "  maker\n",
       "0     B\n",
       "1     A"
      ]
     },
     "execution_count": 53,
     "metadata": {},
     "output_type": "execute_result"
    }
   ],
   "source": [
    "select(sql)"
   ]
  },
  {
   "cell_type": "markdown",
   "metadata": {},
   "source": [
    "### 24. Перечислите номера моделей любых типов, имеющих самую высокую цену по всей имеющейся в базе данных продукции."
   ]
  },
  {
   "cell_type": "code",
   "execution_count": 54,
   "metadata": {},
   "outputs": [],
   "source": [
    "sql = '''\n",
    "SELECT DISTINCT model\n",
    "FROM\n",
    "  (SELECT model,\n",
    "          max(mp)\n",
    "   FROM\n",
    "     (SELECT model,\n",
    "             max(price) mp\n",
    "      FROM pc\n",
    "      UNION ALL SELECT model,\n",
    "                       max(price) mp\n",
    "      FROM laptop\n",
    "      UNION ALL SELECT model,\n",
    "                       max(price) mp\n",
    "      FROM printer))\n",
    "'''"
   ]
  },
  {
   "cell_type": "code",
   "execution_count": 55,
   "metadata": {},
   "outputs": [
    {
     "data": {
      "text/html": [
       "<div>\n",
       "<style scoped>\n",
       "    .dataframe tbody tr th:only-of-type {\n",
       "        vertical-align: middle;\n",
       "    }\n",
       "\n",
       "    .dataframe tbody tr th {\n",
       "        vertical-align: top;\n",
       "    }\n",
       "\n",
       "    .dataframe thead th {\n",
       "        text-align: right;\n",
       "    }\n",
       "</style>\n",
       "<table border=\"1\" class=\"dataframe\">\n",
       "  <thead>\n",
       "    <tr style=\"text-align: right;\">\n",
       "      <th></th>\n",
       "      <th>model</th>\n",
       "    </tr>\n",
       "  </thead>\n",
       "  <tbody>\n",
       "    <tr>\n",
       "      <th>0</th>\n",
       "      <td>1750</td>\n",
       "    </tr>\n",
       "  </tbody>\n",
       "</table>\n",
       "</div>"
      ],
      "text/plain": [
       "  model\n",
       "0  1750"
      ]
     },
     "execution_count": 55,
     "metadata": {},
     "output_type": "execute_result"
    }
   ],
   "source": [
    "select(sql)"
   ]
  },
  {
   "cell_type": "markdown",
   "metadata": {},
   "source": [
    "### 25. Найдите производителей принтеров, которые производят ПК с наименьшим объемом RAM и с самым быстрым процессором среди всех ПК, имеющих наименьший объем RAM. Вывести: Maker."
   ]
  },
  {
   "cell_type": "code",
   "execution_count": 56,
   "metadata": {},
   "outputs": [],
   "source": [
    "sql = '''\n",
    "SELECT DISTINCT p.maker\n",
    "FROM product p\n",
    "LEFT JOIN pc ON p.model = pc.model\n",
    "WHERE pc.ram =\n",
    "    (SELECT min(ram)\n",
    "     FROM pc)\n",
    "  AND pc.speed =\n",
    "    (SELECT max(speed)\n",
    "     FROM pc\n",
    "     WHERE ram =\n",
    "         (SELECT min(ram)\n",
    "          FROM pc))\n",
    "  AND p.maker in\n",
    "    (SELECT maker\n",
    "     FROM product\n",
    "     WHERE TYPE = 'Printer')\n",
    "'''"
   ]
  },
  {
   "cell_type": "code",
   "execution_count": 57,
   "metadata": {},
   "outputs": [
    {
     "data": {
      "text/html": [
       "<div>\n",
       "<style scoped>\n",
       "    .dataframe tbody tr th:only-of-type {\n",
       "        vertical-align: middle;\n",
       "    }\n",
       "\n",
       "    .dataframe tbody tr th {\n",
       "        vertical-align: top;\n",
       "    }\n",
       "\n",
       "    .dataframe thead th {\n",
       "        text-align: right;\n",
       "    }\n",
       "</style>\n",
       "<table border=\"1\" class=\"dataframe\">\n",
       "  <thead>\n",
       "    <tr style=\"text-align: right;\">\n",
       "      <th></th>\n",
       "      <th>maker</th>\n",
       "    </tr>\n",
       "  </thead>\n",
       "  <tbody>\n",
       "    <tr>\n",
       "      <th>0</th>\n",
       "      <td>A</td>\n",
       "    </tr>\n",
       "    <tr>\n",
       "      <th>1</th>\n",
       "      <td>E</td>\n",
       "    </tr>\n",
       "  </tbody>\n",
       "</table>\n",
       "</div>"
      ],
      "text/plain": [
       "  maker\n",
       "0     A\n",
       "1     E"
      ]
     },
     "execution_count": 57,
     "metadata": {},
     "output_type": "execute_result"
    }
   ],
   "source": [
    "select(sql)"
   ]
  },
  {
   "cell_type": "markdown",
   "metadata": {},
   "source": [
    "### 26. Найдите среднюю цену ПК и ПК-блокнотов, выпущенных производителем A (латинская буква). Вывести: одна общая средняя цена."
   ]
  },
  {
   "cell_type": "code",
   "execution_count": 58,
   "metadata": {},
   "outputs": [],
   "source": [
    "sql = '''\n",
    "SELECT avg(a.price)\n",
    "FROM\n",
    "  (SELECT price\n",
    "   FROM product p,\n",
    "        pc\n",
    "   WHERE pc.model = p.model\n",
    "     AND p.maker = 'A'\n",
    "   UNION ALL SELECT price\n",
    "   FROM product p,\n",
    "        laptop l\n",
    "   WHERE l.model = p.model\n",
    "     AND p.maker = 'A') a\n",
    "'''"
   ]
  },
  {
   "cell_type": "code",
   "execution_count": 59,
   "metadata": {},
   "outputs": [
    {
     "data": {
      "text/html": [
       "<div>\n",
       "<style scoped>\n",
       "    .dataframe tbody tr th:only-of-type {\n",
       "        vertical-align: middle;\n",
       "    }\n",
       "\n",
       "    .dataframe tbody tr th {\n",
       "        vertical-align: top;\n",
       "    }\n",
       "\n",
       "    .dataframe thead th {\n",
       "        text-align: right;\n",
       "    }\n",
       "</style>\n",
       "<table border=\"1\" class=\"dataframe\">\n",
       "  <thead>\n",
       "    <tr style=\"text-align: right;\">\n",
       "      <th></th>\n",
       "      <th>avg(a.price)</th>\n",
       "    </tr>\n",
       "  </thead>\n",
       "  <tbody>\n",
       "    <tr>\n",
       "      <th>0</th>\n",
       "      <td>754.166667</td>\n",
       "    </tr>\n",
       "  </tbody>\n",
       "</table>\n",
       "</div>"
      ],
      "text/plain": [
       "   avg(a.price)\n",
       "0    754.166667"
      ]
     },
     "execution_count": 59,
     "metadata": {},
     "output_type": "execute_result"
    }
   ],
   "source": [
    "select(sql)"
   ]
  },
  {
   "cell_type": "markdown",
   "metadata": {},
   "source": [
    "### 27. Найдите средний размер диска ПК каждого из тех производителей, которые выпускают и принтеры. Вывести: maker, средний размер HD."
   ]
  },
  {
   "cell_type": "code",
   "execution_count": 60,
   "metadata": {},
   "outputs": [],
   "source": [
    "sql = '''\n",
    "SELECT p.maker,\n",
    "       avg(pc.hd)\n",
    "FROM product p,\n",
    "     pc\n",
    "WHERE pc.model = p.model\n",
    "  AND p.maker in\n",
    "    (SELECT maker\n",
    "     FROM product\n",
    "     WHERE TYPE = 'Printer')\n",
    "GROUP BY p.maker   \n",
    "'''"
   ]
  },
  {
   "cell_type": "code",
   "execution_count": 61,
   "metadata": {},
   "outputs": [
    {
     "data": {
      "text/html": [
       "<div>\n",
       "<style scoped>\n",
       "    .dataframe tbody tr th:only-of-type {\n",
       "        vertical-align: middle;\n",
       "    }\n",
       "\n",
       "    .dataframe tbody tr th {\n",
       "        vertical-align: top;\n",
       "    }\n",
       "\n",
       "    .dataframe thead th {\n",
       "        text-align: right;\n",
       "    }\n",
       "</style>\n",
       "<table border=\"1\" class=\"dataframe\">\n",
       "  <thead>\n",
       "    <tr style=\"text-align: right;\">\n",
       "      <th></th>\n",
       "      <th>maker</th>\n",
       "      <th>avg(pc.hd)</th>\n",
       "    </tr>\n",
       "  </thead>\n",
       "  <tbody>\n",
       "    <tr>\n",
       "      <th>0</th>\n",
       "      <td>A</td>\n",
       "      <td>14.75</td>\n",
       "    </tr>\n",
       "    <tr>\n",
       "      <th>1</th>\n",
       "      <td>E</td>\n",
       "      <td>10.00</td>\n",
       "    </tr>\n",
       "  </tbody>\n",
       "</table>\n",
       "</div>"
      ],
      "text/plain": [
       "  maker  avg(pc.hd)\n",
       "0     A       14.75\n",
       "1     E       10.00"
      ]
     },
     "execution_count": 61,
     "metadata": {},
     "output_type": "execute_result"
    }
   ],
   "source": [
    "select(sql)"
   ]
  },
  {
   "cell_type": "markdown",
   "metadata": {},
   "source": [
    "### 28. Используя таблицу Product, определить количество производителей, выпускающих по одной модели."
   ]
  },
  {
   "cell_type": "code",
   "execution_count": 62,
   "metadata": {},
   "outputs": [],
   "source": [
    "sql = '''\n",
    "select count(*) cnt\n",
    "from\n",
    "(SELECT maker, count(model)\n",
    "FROM product\n",
    "group by maker\n",
    "having count(model) = 1)   \n",
    "'''"
   ]
  },
  {
   "cell_type": "code",
   "execution_count": 63,
   "metadata": {},
   "outputs": [
    {
     "data": {
      "text/html": [
       "<div>\n",
       "<style scoped>\n",
       "    .dataframe tbody tr th:only-of-type {\n",
       "        vertical-align: middle;\n",
       "    }\n",
       "\n",
       "    .dataframe tbody tr th {\n",
       "        vertical-align: top;\n",
       "    }\n",
       "\n",
       "    .dataframe thead th {\n",
       "        text-align: right;\n",
       "    }\n",
       "</style>\n",
       "<table border=\"1\" class=\"dataframe\">\n",
       "  <thead>\n",
       "    <tr style=\"text-align: right;\">\n",
       "      <th></th>\n",
       "      <th>cnt</th>\n",
       "    </tr>\n",
       "  </thead>\n",
       "  <tbody>\n",
       "    <tr>\n",
       "      <th>0</th>\n",
       "      <td>1</td>\n",
       "    </tr>\n",
       "  </tbody>\n",
       "</table>\n",
       "</div>"
      ],
      "text/plain": [
       "   cnt\n",
       "0    1"
      ]
     },
     "execution_count": 63,
     "metadata": {},
     "output_type": "execute_result"
    }
   ],
   "source": [
    "select(sql)"
   ]
  },
  {
   "cell_type": "markdown",
   "metadata": {},
   "source": [
    "### 31. Для классов кораблей, калибр орудий которых не менее 16 дюймов, укажите класс и страну."
   ]
  },
  {
   "cell_type": "code",
   "execution_count": 64,
   "metadata": {},
   "outputs": [],
   "source": [
    "sql = '''\n",
    "SELECT class,\n",
    "       country\n",
    "FROM classes\n",
    "WHERE bore >= 16   \n",
    "'''"
   ]
  },
  {
   "cell_type": "code",
   "execution_count": 65,
   "metadata": {},
   "outputs": [
    {
     "data": {
      "text/html": [
       "<div>\n",
       "<style scoped>\n",
       "    .dataframe tbody tr th:only-of-type {\n",
       "        vertical-align: middle;\n",
       "    }\n",
       "\n",
       "    .dataframe tbody tr th {\n",
       "        vertical-align: top;\n",
       "    }\n",
       "\n",
       "    .dataframe thead th {\n",
       "        text-align: right;\n",
       "    }\n",
       "</style>\n",
       "<table border=\"1\" class=\"dataframe\">\n",
       "  <thead>\n",
       "    <tr style=\"text-align: right;\">\n",
       "      <th></th>\n",
       "      <th>class</th>\n",
       "      <th>country</th>\n",
       "    </tr>\n",
       "  </thead>\n",
       "  <tbody>\n",
       "    <tr>\n",
       "      <th>0</th>\n",
       "      <td>Iowa</td>\n",
       "      <td>USA</td>\n",
       "    </tr>\n",
       "    <tr>\n",
       "      <th>1</th>\n",
       "      <td>North Carolina</td>\n",
       "      <td>USA</td>\n",
       "    </tr>\n",
       "    <tr>\n",
       "      <th>2</th>\n",
       "      <td>Yamato</td>\n",
       "      <td>Japan</td>\n",
       "    </tr>\n",
       "  </tbody>\n",
       "</table>\n",
       "</div>"
      ],
      "text/plain": [
       "            class country\n",
       "0            Iowa     USA\n",
       "1  North Carolina     USA\n",
       "2          Yamato   Japan"
      ]
     },
     "execution_count": 65,
     "metadata": {},
     "output_type": "execute_result"
    }
   ],
   "source": [
    "select(sql)"
   ]
  },
  {
   "cell_type": "markdown",
   "metadata": {},
   "source": [
    "### 32. Одной из характеристик корабля является половина куба калибра его главных орудий (mw). С точностью до 2 десятичных знаков определите среднее значение mw для кораблей каждой страны, у которой есть корабли в базе данных."
   ]
  },
  {
   "cell_type": "code",
   "execution_count": 66,
   "metadata": {},
   "outputs": [],
   "source": [
    "sql = '''\n",
    "SELECT a.country,\n",
    "       cast(avg(a.bore*a.bore*a.bore/2) AS numeric(6, 2)) mw\n",
    "FROM\n",
    "  (SELECT c.country,\n",
    "          c.class,\n",
    "          c.bore,\n",
    "          s.name\n",
    "   FROM classes c\n",
    "   LEFT JOIN ships s ON c.class = s.class\n",
    "   UNION ALL SELECT c.country,\n",
    "                    c.class,\n",
    "                    c.bore,\n",
    "                    o.ship\n",
    "   FROM classes c\n",
    "   LEFT JOIN outcomes o ON c.class = o.ship\n",
    "   WHERE o.ship = c.class\n",
    "     AND o.ship not in\n",
    "       (SELECT name\n",
    "        FROM ships)) a\n",
    "WHERE name IS NOT NULL\n",
    "GROUP BY a.country\n",
    "'''"
   ]
  },
  {
   "cell_type": "code",
   "execution_count": 67,
   "metadata": {},
   "outputs": [
    {
     "data": {
      "text/html": [
       "<div>\n",
       "<style scoped>\n",
       "    .dataframe tbody tr th:only-of-type {\n",
       "        vertical-align: middle;\n",
       "    }\n",
       "\n",
       "    .dataframe tbody tr th {\n",
       "        vertical-align: top;\n",
       "    }\n",
       "\n",
       "    .dataframe thead th {\n",
       "        text-align: right;\n",
       "    }\n",
       "</style>\n",
       "<table border=\"1\" class=\"dataframe\">\n",
       "  <thead>\n",
       "    <tr style=\"text-align: right;\">\n",
       "      <th></th>\n",
       "      <th>country</th>\n",
       "      <th>mw</th>\n",
       "    </tr>\n",
       "  </thead>\n",
       "  <tbody>\n",
       "    <tr>\n",
       "      <th>0</th>\n",
       "      <td>Germany</td>\n",
       "      <td>1687.500000</td>\n",
       "    </tr>\n",
       "    <tr>\n",
       "      <th>1</th>\n",
       "      <td>Gt.Britain</td>\n",
       "      <td>1687.500000</td>\n",
       "    </tr>\n",
       "    <tr>\n",
       "      <th>2</th>\n",
       "      <td>Japan</td>\n",
       "      <td>1886.666667</td>\n",
       "    </tr>\n",
       "    <tr>\n",
       "      <th>3</th>\n",
       "      <td>USA</td>\n",
       "      <td>1897.777778</td>\n",
       "    </tr>\n",
       "  </tbody>\n",
       "</table>\n",
       "</div>"
      ],
      "text/plain": [
       "      country           mw\n",
       "0     Germany  1687.500000\n",
       "1  Gt.Britain  1687.500000\n",
       "2       Japan  1886.666667\n",
       "3         USA  1897.777778"
      ]
     },
     "execution_count": 67,
     "metadata": {},
     "output_type": "execute_result"
    }
   ],
   "source": [
    "select(sql)"
   ]
  },
  {
   "cell_type": "markdown",
   "metadata": {},
   "source": [
    "### 33. Укажите корабли, потопленные в сражениях в Северной Атлантике (North Atlantic). Вывод: ship."
   ]
  },
  {
   "cell_type": "code",
   "execution_count": 68,
   "metadata": {},
   "outputs": [],
   "source": [
    "sql = '''\n",
    "SELECT ship\n",
    "FROM outcomes\n",
    "WHERE battle = 'North Atlantic'\n",
    "  AND RESULT = 'sunk'   \n",
    "'''"
   ]
  },
  {
   "cell_type": "code",
   "execution_count": 69,
   "metadata": {},
   "outputs": [
    {
     "data": {
      "text/html": [
       "<div>\n",
       "<style scoped>\n",
       "    .dataframe tbody tr th:only-of-type {\n",
       "        vertical-align: middle;\n",
       "    }\n",
       "\n",
       "    .dataframe tbody tr th {\n",
       "        vertical-align: top;\n",
       "    }\n",
       "\n",
       "    .dataframe thead th {\n",
       "        text-align: right;\n",
       "    }\n",
       "</style>\n",
       "<table border=\"1\" class=\"dataframe\">\n",
       "  <thead>\n",
       "    <tr style=\"text-align: right;\">\n",
       "      <th></th>\n",
       "      <th>ship</th>\n",
       "    </tr>\n",
       "  </thead>\n",
       "  <tbody>\n",
       "    <tr>\n",
       "      <th>0</th>\n",
       "      <td>Bismarck</td>\n",
       "    </tr>\n",
       "    <tr>\n",
       "      <th>1</th>\n",
       "      <td>Hood</td>\n",
       "    </tr>\n",
       "  </tbody>\n",
       "</table>\n",
       "</div>"
      ],
      "text/plain": [
       "       ship\n",
       "0  Bismarck\n",
       "1      Hood"
      ]
     },
     "execution_count": 69,
     "metadata": {},
     "output_type": "execute_result"
    }
   ],
   "source": [
    "select(sql)"
   ]
  },
  {
   "cell_type": "markdown",
   "metadata": {},
   "source": [
    "### 34. По Вашингтонскому международному договору от начала 1922 г. запрещалось строить линейные корабли водоизмещением более 35 тыс.тонн. Укажите корабли, нарушившие этот договор (учитывать только корабли c известным годом спуска на воду). Вывести названия кораблей."
   ]
  },
  {
   "cell_type": "code",
   "execution_count": 70,
   "metadata": {},
   "outputs": [],
   "source": [
    "sql = '''\n",
    "SELECT name\n",
    "FROM classes c\n",
    "LEFT JOIN ships s ON c.class = s.class\n",
    "WHERE launched >= 1922\n",
    "  AND displacement > 35000\n",
    "  AND type = 'bb'\n",
    "'''"
   ]
  },
  {
   "cell_type": "code",
   "execution_count": 71,
   "metadata": {},
   "outputs": [
    {
     "data": {
      "text/html": [
       "<div>\n",
       "<style scoped>\n",
       "    .dataframe tbody tr th:only-of-type {\n",
       "        vertical-align: middle;\n",
       "    }\n",
       "\n",
       "    .dataframe tbody tr th {\n",
       "        vertical-align: top;\n",
       "    }\n",
       "\n",
       "    .dataframe thead th {\n",
       "        text-align: right;\n",
       "    }\n",
       "</style>\n",
       "<table border=\"1\" class=\"dataframe\">\n",
       "  <thead>\n",
       "    <tr style=\"text-align: right;\">\n",
       "      <th></th>\n",
       "      <th>name</th>\n",
       "    </tr>\n",
       "  </thead>\n",
       "  <tbody>\n",
       "    <tr>\n",
       "      <th>0</th>\n",
       "      <td>Iowa</td>\n",
       "    </tr>\n",
       "    <tr>\n",
       "      <th>1</th>\n",
       "      <td>Missouri</td>\n",
       "    </tr>\n",
       "    <tr>\n",
       "      <th>2</th>\n",
       "      <td>New Jersey</td>\n",
       "    </tr>\n",
       "    <tr>\n",
       "      <th>3</th>\n",
       "      <td>Wisconsin</td>\n",
       "    </tr>\n",
       "    <tr>\n",
       "      <th>4</th>\n",
       "      <td>North Carolina</td>\n",
       "    </tr>\n",
       "    <tr>\n",
       "      <th>5</th>\n",
       "      <td>South Dakota</td>\n",
       "    </tr>\n",
       "    <tr>\n",
       "      <th>6</th>\n",
       "      <td>Washington</td>\n",
       "    </tr>\n",
       "    <tr>\n",
       "      <th>7</th>\n",
       "      <td>Musashi</td>\n",
       "    </tr>\n",
       "    <tr>\n",
       "      <th>8</th>\n",
       "      <td>Yamato</td>\n",
       "    </tr>\n",
       "  </tbody>\n",
       "</table>\n",
       "</div>"
      ],
      "text/plain": [
       "             name\n",
       "0            Iowa\n",
       "1        Missouri\n",
       "2      New Jersey\n",
       "3       Wisconsin\n",
       "4  North Carolina\n",
       "5    South Dakota\n",
       "6      Washington\n",
       "7         Musashi\n",
       "8          Yamato"
      ]
     },
     "execution_count": 71,
     "metadata": {},
     "output_type": "execute_result"
    }
   ],
   "source": [
    "select(sql)"
   ]
  },
  {
   "cell_type": "markdown",
   "metadata": {},
   "source": [
    "### 35. В таблице Product найти модели, которые состоят только из цифр или только из латинских букв (A-Z, без учета регистра). Вывод: номер модели, тип модели."
   ]
  },
  {
   "cell_type": "code",
   "execution_count": 72,
   "metadata": {},
   "outputs": [],
   "source": [
    "sql = '''\n",
    "SELECT model,\n",
    "       type\n",
    "FROM product\n",
    "WHERE upper(model) NOT like '%[^A-Z]%'\n",
    "  OR model not like '%[^0-9]%'\n",
    "'''"
   ]
  },
  {
   "cell_type": "code",
   "execution_count": 73,
   "metadata": {},
   "outputs": [
    {
     "data": {
      "text/html": [
       "<div>\n",
       "<style scoped>\n",
       "    .dataframe tbody tr th:only-of-type {\n",
       "        vertical-align: middle;\n",
       "    }\n",
       "\n",
       "    .dataframe tbody tr th {\n",
       "        vertical-align: top;\n",
       "    }\n",
       "\n",
       "    .dataframe thead th {\n",
       "        text-align: right;\n",
       "    }\n",
       "</style>\n",
       "<table border=\"1\" class=\"dataframe\">\n",
       "  <thead>\n",
       "    <tr style=\"text-align: right;\">\n",
       "      <th></th>\n",
       "      <th>model</th>\n",
       "      <th>type</th>\n",
       "    </tr>\n",
       "  </thead>\n",
       "  <tbody>\n",
       "    <tr>\n",
       "      <th>0</th>\n",
       "      <td>1121</td>\n",
       "      <td>PC</td>\n",
       "    </tr>\n",
       "    <tr>\n",
       "      <th>1</th>\n",
       "      <td>1232</td>\n",
       "      <td>PC</td>\n",
       "    </tr>\n",
       "    <tr>\n",
       "      <th>2</th>\n",
       "      <td>1233</td>\n",
       "      <td>PC</td>\n",
       "    </tr>\n",
       "    <tr>\n",
       "      <th>3</th>\n",
       "      <td>1260</td>\n",
       "      <td>PC</td>\n",
       "    </tr>\n",
       "    <tr>\n",
       "      <th>4</th>\n",
       "      <td>1276</td>\n",
       "      <td>Printer</td>\n",
       "    </tr>\n",
       "    <tr>\n",
       "      <th>5</th>\n",
       "      <td>1288</td>\n",
       "      <td>Printer</td>\n",
       "    </tr>\n",
       "    <tr>\n",
       "      <th>6</th>\n",
       "      <td>1298</td>\n",
       "      <td>Laptop</td>\n",
       "    </tr>\n",
       "    <tr>\n",
       "      <th>7</th>\n",
       "      <td>1321</td>\n",
       "      <td>Laptop</td>\n",
       "    </tr>\n",
       "    <tr>\n",
       "      <th>8</th>\n",
       "      <td>1401</td>\n",
       "      <td>Printer</td>\n",
       "    </tr>\n",
       "    <tr>\n",
       "      <th>9</th>\n",
       "      <td>1408</td>\n",
       "      <td>Printer</td>\n",
       "    </tr>\n",
       "    <tr>\n",
       "      <th>10</th>\n",
       "      <td>1433</td>\n",
       "      <td>Printer</td>\n",
       "    </tr>\n",
       "    <tr>\n",
       "      <th>11</th>\n",
       "      <td>1434</td>\n",
       "      <td>Printer</td>\n",
       "    </tr>\n",
       "    <tr>\n",
       "      <th>12</th>\n",
       "      <td>1750</td>\n",
       "      <td>Laptop</td>\n",
       "    </tr>\n",
       "    <tr>\n",
       "      <th>13</th>\n",
       "      <td>1752</td>\n",
       "      <td>Laptop</td>\n",
       "    </tr>\n",
       "    <tr>\n",
       "      <th>14</th>\n",
       "      <td>2113</td>\n",
       "      <td>PC</td>\n",
       "    </tr>\n",
       "    <tr>\n",
       "      <th>15</th>\n",
       "      <td>2112</td>\n",
       "      <td>PC</td>\n",
       "    </tr>\n",
       "  </tbody>\n",
       "</table>\n",
       "</div>"
      ],
      "text/plain": [
       "   model     type\n",
       "0   1121       PC\n",
       "1   1232       PC\n",
       "2   1233       PC\n",
       "3   1260       PC\n",
       "4   1276  Printer\n",
       "5   1288  Printer\n",
       "6   1298   Laptop\n",
       "7   1321   Laptop\n",
       "8   1401  Printer\n",
       "9   1408  Printer\n",
       "10  1433  Printer\n",
       "11  1434  Printer\n",
       "12  1750   Laptop\n",
       "13  1752   Laptop\n",
       "14  2113       PC\n",
       "15  2112       PC"
      ]
     },
     "execution_count": 73,
     "metadata": {},
     "output_type": "execute_result"
    }
   ],
   "source": [
    "select(sql)"
   ]
  },
  {
   "cell_type": "markdown",
   "metadata": {},
   "source": [
    "### 36. Перечислите названия головных кораблей, имеющихся в базе данных (учесть корабли в Outcomes)."
   ]
  },
  {
   "cell_type": "code",
   "execution_count": 74,
   "metadata": {},
   "outputs": [],
   "source": [
    "sql = '''\n",
    "SELECT name\n",
    "FROM ships\n",
    "WHERE class = name\n",
    "UNION\n",
    "SELECT ship name\n",
    "FROM classes c,\n",
    "     outcomes o\n",
    "WHERE c.class = o.ship\n",
    "'''"
   ]
  },
  {
   "cell_type": "code",
   "execution_count": 75,
   "metadata": {},
   "outputs": [
    {
     "data": {
      "text/html": [
       "<div>\n",
       "<style scoped>\n",
       "    .dataframe tbody tr th:only-of-type {\n",
       "        vertical-align: middle;\n",
       "    }\n",
       "\n",
       "    .dataframe tbody tr th {\n",
       "        vertical-align: top;\n",
       "    }\n",
       "\n",
       "    .dataframe thead th {\n",
       "        text-align: right;\n",
       "    }\n",
       "</style>\n",
       "<table border=\"1\" class=\"dataframe\">\n",
       "  <thead>\n",
       "    <tr style=\"text-align: right;\">\n",
       "      <th></th>\n",
       "      <th>name</th>\n",
       "    </tr>\n",
       "  </thead>\n",
       "  <tbody>\n",
       "    <tr>\n",
       "      <th>0</th>\n",
       "      <td>Bismarck</td>\n",
       "    </tr>\n",
       "    <tr>\n",
       "      <th>1</th>\n",
       "      <td>Iowa</td>\n",
       "    </tr>\n",
       "    <tr>\n",
       "      <th>2</th>\n",
       "      <td>Kongo</td>\n",
       "    </tr>\n",
       "    <tr>\n",
       "      <th>3</th>\n",
       "      <td>North Carolina</td>\n",
       "    </tr>\n",
       "    <tr>\n",
       "      <th>4</th>\n",
       "      <td>Renown</td>\n",
       "    </tr>\n",
       "    <tr>\n",
       "      <th>5</th>\n",
       "      <td>Revenge</td>\n",
       "    </tr>\n",
       "    <tr>\n",
       "      <th>6</th>\n",
       "      <td>Tennessee</td>\n",
       "    </tr>\n",
       "    <tr>\n",
       "      <th>7</th>\n",
       "      <td>Yamato</td>\n",
       "    </tr>\n",
       "  </tbody>\n",
       "</table>\n",
       "</div>"
      ],
      "text/plain": [
       "             name\n",
       "0        Bismarck\n",
       "1            Iowa\n",
       "2           Kongo\n",
       "3  North Carolina\n",
       "4          Renown\n",
       "5         Revenge\n",
       "6       Tennessee\n",
       "7          Yamato"
      ]
     },
     "execution_count": 75,
     "metadata": {},
     "output_type": "execute_result"
    }
   ],
   "source": [
    "select(sql)"
   ]
  },
  {
   "cell_type": "markdown",
   "metadata": {},
   "source": [
    "### 37. Найдите классы, в которые входит только один корабль из базы данных (учесть также корабли в Outcomes)."
   ]
  },
  {
   "cell_type": "code",
   "execution_count": 76,
   "metadata": {},
   "outputs": [],
   "source": [
    "sql = '''\n",
    "SELECT c.class\n",
    "FROM classes c\n",
    "LEFT JOIN\n",
    "  (SELECT class,\n",
    "          name\n",
    "   FROM ships\n",
    "   UNION SELECT ship,\n",
    "                ship\n",
    "   FROM outcomes) s ON s.class = c.class\n",
    "GROUP BY c.class\n",
    "HAVING COUNT(s.name) = 1\n",
    "'''"
   ]
  },
  {
   "cell_type": "code",
   "execution_count": 77,
   "metadata": {},
   "outputs": [
    {
     "data": {
      "text/html": [
       "<div>\n",
       "<style scoped>\n",
       "    .dataframe tbody tr th:only-of-type {\n",
       "        vertical-align: middle;\n",
       "    }\n",
       "\n",
       "    .dataframe tbody tr th {\n",
       "        vertical-align: top;\n",
       "    }\n",
       "\n",
       "    .dataframe thead th {\n",
       "        text-align: right;\n",
       "    }\n",
       "</style>\n",
       "<table border=\"1\" class=\"dataframe\">\n",
       "  <thead>\n",
       "    <tr style=\"text-align: right;\">\n",
       "      <th></th>\n",
       "      <th>class</th>\n",
       "    </tr>\n",
       "  </thead>\n",
       "  <tbody>\n",
       "    <tr>\n",
       "      <th>0</th>\n",
       "      <td>Bismarck</td>\n",
       "    </tr>\n",
       "  </tbody>\n",
       "</table>\n",
       "</div>"
      ],
      "text/plain": [
       "      class\n",
       "0  Bismarck"
      ]
     },
     "execution_count": 77,
     "metadata": {},
     "output_type": "execute_result"
    }
   ],
   "source": [
    "select(sql)"
   ]
  },
  {
   "cell_type": "markdown",
   "metadata": {},
   "source": [
    "### 38. Найдите страны, имевшие когда-либо классы обычных боевых кораблей ('bb') и имевшие когда-либо классы крейсеров ('bc')."
   ]
  },
  {
   "cell_type": "code",
   "execution_count": 78,
   "metadata": {},
   "outputs": [],
   "source": [
    "sql = '''\n",
    "SELECT country\n",
    "FROM classes\n",
    "WHERE type = 'bb' INTERSECT\n",
    "  SELECT country\n",
    "  FROM classes WHERE type = 'bc'\n",
    "'''"
   ]
  },
  {
   "cell_type": "code",
   "execution_count": 79,
   "metadata": {},
   "outputs": [
    {
     "data": {
      "text/html": [
       "<div>\n",
       "<style scoped>\n",
       "    .dataframe tbody tr th:only-of-type {\n",
       "        vertical-align: middle;\n",
       "    }\n",
       "\n",
       "    .dataframe tbody tr th {\n",
       "        vertical-align: top;\n",
       "    }\n",
       "\n",
       "    .dataframe thead th {\n",
       "        text-align: right;\n",
       "    }\n",
       "</style>\n",
       "<table border=\"1\" class=\"dataframe\">\n",
       "  <thead>\n",
       "    <tr style=\"text-align: right;\">\n",
       "      <th></th>\n",
       "      <th>country</th>\n",
       "    </tr>\n",
       "  </thead>\n",
       "  <tbody>\n",
       "    <tr>\n",
       "      <th>0</th>\n",
       "      <td>Gt.Britain</td>\n",
       "    </tr>\n",
       "    <tr>\n",
       "      <th>1</th>\n",
       "      <td>Japan</td>\n",
       "    </tr>\n",
       "  </tbody>\n",
       "</table>\n",
       "</div>"
      ],
      "text/plain": [
       "      country\n",
       "0  Gt.Britain\n",
       "1       Japan"
      ]
     },
     "execution_count": 79,
     "metadata": {},
     "output_type": "execute_result"
    }
   ],
   "source": [
    "select(sql)"
   ]
  },
  {
   "cell_type": "markdown",
   "metadata": {},
   "source": [
    "### 39. Найдите корабли, сохранившиеся для будущих сражений, т.е. выведенные из строя в одной битве (damaged), они участвовали в другой, произошедшей позже."
   ]
  },
  {
   "cell_type": "code",
   "execution_count": 80,
   "metadata": {},
   "outputs": [],
   "source": [
    "sql = '''\n",
    "SELECT o.ship\n",
    "FROM outcomes o\n",
    "LEFT JOIN battles b ON b.name = o.battle\n",
    "WHERE o.result = 'damaged'\n",
    "  AND EXISTS\n",
    "    (SELECT *\n",
    "     FROM outcomes o2\n",
    "     LEFT JOIN battles b2 ON b2.name = o2.battle\n",
    "     WHERE o2.ship = o.ship\n",
    "       AND b2.date > b.date)\n",
    "'''"
   ]
  },
  {
   "cell_type": "code",
   "execution_count": 81,
   "metadata": {},
   "outputs": [
    {
     "data": {
      "text/html": [
       "<div>\n",
       "<style scoped>\n",
       "    .dataframe tbody tr th:only-of-type {\n",
       "        vertical-align: middle;\n",
       "    }\n",
       "\n",
       "    .dataframe tbody tr th {\n",
       "        vertical-align: top;\n",
       "    }\n",
       "\n",
       "    .dataframe thead th {\n",
       "        text-align: right;\n",
       "    }\n",
       "</style>\n",
       "<table border=\"1\" class=\"dataframe\">\n",
       "  <thead>\n",
       "    <tr style=\"text-align: right;\">\n",
       "      <th></th>\n",
       "      <th>ship</th>\n",
       "    </tr>\n",
       "  </thead>\n",
       "  <tbody>\n",
       "    <tr>\n",
       "      <th>0</th>\n",
       "      <td>California</td>\n",
       "    </tr>\n",
       "  </tbody>\n",
       "</table>\n",
       "</div>"
      ],
      "text/plain": [
       "         ship\n",
       "0  California"
      ]
     },
     "execution_count": 81,
     "metadata": {},
     "output_type": "execute_result"
    }
   ],
   "source": [
    "select(sql)"
   ]
  },
  {
   "cell_type": "markdown",
   "metadata": {},
   "source": [
    "### 40. Найти производителей, которые выпускают более одной модели, при этом все выпускаемые производителем модели являются продуктами одного типа. Вывести: maker, type."
   ]
  },
  {
   "cell_type": "code",
   "execution_count": 82,
   "metadata": {},
   "outputs": [],
   "source": [
    "sql = '''\n",
    "SELECT maker,\n",
    "       type\n",
    "FROM product\n",
    "WHERE maker in\n",
    "    (SELECT maker\n",
    "     FROM product\n",
    "     GROUP BY maker\n",
    "     HAVING count(DISTINCT type) = 1)\n",
    "GROUP BY maker,\n",
    "         type\n",
    "HAVING count(model) > 1\n",
    "'''"
   ]
  },
  {
   "cell_type": "code",
   "execution_count": 83,
   "metadata": {},
   "outputs": [
    {
     "data": {
      "text/html": [
       "<div>\n",
       "<style scoped>\n",
       "    .dataframe tbody tr th:only-of-type {\n",
       "        vertical-align: middle;\n",
       "    }\n",
       "\n",
       "    .dataframe tbody tr th {\n",
       "        vertical-align: top;\n",
       "    }\n",
       "\n",
       "    .dataframe thead th {\n",
       "        text-align: right;\n",
       "    }\n",
       "</style>\n",
       "<table border=\"1\" class=\"dataframe\">\n",
       "  <thead>\n",
       "    <tr style=\"text-align: right;\">\n",
       "      <th></th>\n",
       "      <th>maker</th>\n",
       "      <th>type</th>\n",
       "    </tr>\n",
       "  </thead>\n",
       "  <tbody>\n",
       "    <tr>\n",
       "      <th>0</th>\n",
       "      <td>D</td>\n",
       "      <td>Printer</td>\n",
       "    </tr>\n",
       "  </tbody>\n",
       "</table>\n",
       "</div>"
      ],
      "text/plain": [
       "  maker     type\n",
       "0     D  Printer"
      ]
     },
     "execution_count": 83,
     "metadata": {},
     "output_type": "execute_result"
    }
   ],
   "source": [
    "select(sql)"
   ]
  },
  {
   "cell_type": "markdown",
   "metadata": {},
   "source": [
    "### 41. Для каждого производителя, у которого присутствуют модели хотя бы в одной из таблиц PC, Laptop или Printer, определить максимальную цену на его продукцию. Вывод: имя производителя, если среди цен на продукцию данного производителя присутствует NULL, то выводить для этого производителя NULL, иначе максимальную цену."
   ]
  },
  {
   "cell_type": "code",
   "execution_count": 84,
   "metadata": {},
   "outputs": [],
   "source": [
    "sql = '''\n",
    "SELECT a.maker,\n",
    "       CASE\n",
    "           WHEN count(a.price) = count(*) THEN max(a.price)\n",
    "       END max\n",
    "FROM\n",
    "  (SELECT p.maker,\n",
    "          pc.model,\n",
    "          pc.price\n",
    "   FROM pc,\n",
    "        product p\n",
    "   WHERE pc.model = p.model\n",
    "   UNION ALL SELECT p.maker,\n",
    "                    l.model,\n",
    "                    l.price\n",
    "   FROM laptop l,\n",
    "        product p\n",
    "   WHERE l.model = p.model\n",
    "   UNION ALL SELECT p.maker,\n",
    "                    pr.model,\n",
    "                    pr.price\n",
    "   FROM printer pr,\n",
    "        product p\n",
    "   WHERE pr.model = p.model) a\n",
    "GROUP BY a.maker\n",
    "'''"
   ]
  },
  {
   "cell_type": "code",
   "execution_count": 85,
   "metadata": {},
   "outputs": [
    {
     "data": {
      "text/html": [
       "<div>\n",
       "<style scoped>\n",
       "    .dataframe tbody tr th:only-of-type {\n",
       "        vertical-align: middle;\n",
       "    }\n",
       "\n",
       "    .dataframe tbody tr th {\n",
       "        vertical-align: top;\n",
       "    }\n",
       "\n",
       "    .dataframe thead th {\n",
       "        text-align: right;\n",
       "    }\n",
       "</style>\n",
       "<table border=\"1\" class=\"dataframe\">\n",
       "  <thead>\n",
       "    <tr style=\"text-align: right;\">\n",
       "      <th></th>\n",
       "      <th>maker</th>\n",
       "      <th>max</th>\n",
       "    </tr>\n",
       "  </thead>\n",
       "  <tbody>\n",
       "    <tr>\n",
       "      <th>0</th>\n",
       "      <td>A</td>\n",
       "      <td>1150</td>\n",
       "    </tr>\n",
       "    <tr>\n",
       "      <th>1</th>\n",
       "      <td>B</td>\n",
       "      <td>1200</td>\n",
       "    </tr>\n",
       "    <tr>\n",
       "      <th>2</th>\n",
       "      <td>C</td>\n",
       "      <td>970</td>\n",
       "    </tr>\n",
       "    <tr>\n",
       "      <th>3</th>\n",
       "      <td>D</td>\n",
       "      <td>400</td>\n",
       "    </tr>\n",
       "    <tr>\n",
       "      <th>4</th>\n",
       "      <td>E</td>\n",
       "      <td>350</td>\n",
       "    </tr>\n",
       "  </tbody>\n",
       "</table>\n",
       "</div>"
      ],
      "text/plain": [
       "  maker   max\n",
       "0     A  1150\n",
       "1     B  1200\n",
       "2     C   970\n",
       "3     D   400\n",
       "4     E   350"
      ]
     },
     "execution_count": 85,
     "metadata": {},
     "output_type": "execute_result"
    }
   ],
   "source": [
    "select(sql)"
   ]
  },
  {
   "cell_type": "markdown",
   "metadata": {},
   "source": [
    "### 42. Найдите названия кораблей, потопленных в сражениях, и название сражения, в котором они были потоплены."
   ]
  },
  {
   "cell_type": "code",
   "execution_count": 86,
   "metadata": {},
   "outputs": [],
   "source": [
    "sql = '''\n",
    "SELECT ship,\n",
    "       battle\n",
    "FROM outcomes\n",
    "WHERE result = 'sunk'\n",
    "'''"
   ]
  },
  {
   "cell_type": "code",
   "execution_count": 87,
   "metadata": {},
   "outputs": [
    {
     "data": {
      "text/html": [
       "<div>\n",
       "<style scoped>\n",
       "    .dataframe tbody tr th:only-of-type {\n",
       "        vertical-align: middle;\n",
       "    }\n",
       "\n",
       "    .dataframe tbody tr th {\n",
       "        vertical-align: top;\n",
       "    }\n",
       "\n",
       "    .dataframe thead th {\n",
       "        text-align: right;\n",
       "    }\n",
       "</style>\n",
       "<table border=\"1\" class=\"dataframe\">\n",
       "  <thead>\n",
       "    <tr style=\"text-align: right;\">\n",
       "      <th></th>\n",
       "      <th>ship</th>\n",
       "      <th>battle</th>\n",
       "    </tr>\n",
       "  </thead>\n",
       "  <tbody>\n",
       "    <tr>\n",
       "      <th>0</th>\n",
       "      <td>Bismarck</td>\n",
       "      <td>North Atlantic</td>\n",
       "    </tr>\n",
       "    <tr>\n",
       "      <th>1</th>\n",
       "      <td>Fuso</td>\n",
       "      <td>Surigao Strait</td>\n",
       "    </tr>\n",
       "    <tr>\n",
       "      <th>2</th>\n",
       "      <td>Hood</td>\n",
       "      <td>North Atlantic</td>\n",
       "    </tr>\n",
       "    <tr>\n",
       "      <th>3</th>\n",
       "      <td>Kirishima</td>\n",
       "      <td>Guadalcanal</td>\n",
       "    </tr>\n",
       "    <tr>\n",
       "      <th>4</th>\n",
       "      <td>Schamhorst</td>\n",
       "      <td>North Cape</td>\n",
       "    </tr>\n",
       "    <tr>\n",
       "      <th>5</th>\n",
       "      <td>Yamashiro</td>\n",
       "      <td>Surigao Strait</td>\n",
       "    </tr>\n",
       "  </tbody>\n",
       "</table>\n",
       "</div>"
      ],
      "text/plain": [
       "         ship          battle\n",
       "0    Bismarck  North Atlantic\n",
       "1        Fuso  Surigao Strait\n",
       "2        Hood  North Atlantic\n",
       "3   Kirishima     Guadalcanal\n",
       "4  Schamhorst      North Cape\n",
       "5   Yamashiro  Surigao Strait"
      ]
     },
     "execution_count": 87,
     "metadata": {},
     "output_type": "execute_result"
    }
   ],
   "source": [
    "select(sql)"
   ]
  },
  {
   "cell_type": "markdown",
   "metadata": {},
   "source": [
    "### 43. Укажите сражения, которые произошли в годы, не совпадающие ни с одним из годов спуска кораблей на воду."
   ]
  },
  {
   "cell_type": "code",
   "execution_count": 88,
   "metadata": {},
   "outputs": [],
   "source": [
    "sql = '''\n",
    "SELECT name\n",
    "FROM battles\n",
    "WHERE\n",
    "    (SELECT cast(cast(date AS date)/10000 AS integer)) not in\n",
    "    (SELECT launched\n",
    "     FROM ships)\n",
    "'''"
   ]
  },
  {
   "cell_type": "code",
   "execution_count": 89,
   "metadata": {},
   "outputs": [
    {
     "data": {
      "text/html": [
       "<div>\n",
       "<style scoped>\n",
       "    .dataframe tbody tr th:only-of-type {\n",
       "        vertical-align: middle;\n",
       "    }\n",
       "\n",
       "    .dataframe tbody tr th {\n",
       "        vertical-align: top;\n",
       "    }\n",
       "\n",
       "    .dataframe thead th {\n",
       "        text-align: right;\n",
       "    }\n",
       "</style>\n",
       "<table border=\"1\" class=\"dataframe\">\n",
       "  <thead>\n",
       "    <tr style=\"text-align: right;\">\n",
       "      <th></th>\n",
       "      <th>name</th>\n",
       "    </tr>\n",
       "  </thead>\n",
       "  <tbody>\n",
       "    <tr>\n",
       "      <th>0</th>\n",
       "      <td>#Cuba62a</td>\n",
       "    </tr>\n",
       "    <tr>\n",
       "      <th>1</th>\n",
       "      <td>#Cuba62b</td>\n",
       "    </tr>\n",
       "  </tbody>\n",
       "</table>\n",
       "</div>"
      ],
      "text/plain": [
       "       name\n",
       "0  #Cuba62a\n",
       "1  #Cuba62b"
      ]
     },
     "execution_count": 89,
     "metadata": {},
     "output_type": "execute_result"
    }
   ],
   "source": [
    "select(sql)"
   ]
  },
  {
   "cell_type": "markdown",
   "metadata": {},
   "source": [
    "### 44. Найдите названия всех кораблей в базе данных, начинающихся с буквы R."
   ]
  },
  {
   "cell_type": "code",
   "execution_count": 90,
   "metadata": {},
   "outputs": [],
   "source": [
    "sql = '''\n",
    "SELECT name\n",
    "FROM ships\n",
    "WHERE name like 'R%'\n",
    "UNION\n",
    "SELECT ship\n",
    "FROM outcomes\n",
    "WHERE ship like 'R%'         \n",
    "'''"
   ]
  },
  {
   "cell_type": "code",
   "execution_count": 91,
   "metadata": {},
   "outputs": [
    {
     "data": {
      "text/html": [
       "<div>\n",
       "<style scoped>\n",
       "    .dataframe tbody tr th:only-of-type {\n",
       "        vertical-align: middle;\n",
       "    }\n",
       "\n",
       "    .dataframe tbody tr th {\n",
       "        vertical-align: top;\n",
       "    }\n",
       "\n",
       "    .dataframe thead th {\n",
       "        text-align: right;\n",
       "    }\n",
       "</style>\n",
       "<table border=\"1\" class=\"dataframe\">\n",
       "  <thead>\n",
       "    <tr style=\"text-align: right;\">\n",
       "      <th></th>\n",
       "      <th>name</th>\n",
       "    </tr>\n",
       "  </thead>\n",
       "  <tbody>\n",
       "    <tr>\n",
       "      <th>0</th>\n",
       "      <td>Ramillies</td>\n",
       "    </tr>\n",
       "    <tr>\n",
       "      <th>1</th>\n",
       "      <td>Renown</td>\n",
       "    </tr>\n",
       "    <tr>\n",
       "      <th>2</th>\n",
       "      <td>Repulse</td>\n",
       "    </tr>\n",
       "    <tr>\n",
       "      <th>3</th>\n",
       "      <td>Resolution</td>\n",
       "    </tr>\n",
       "    <tr>\n",
       "      <th>4</th>\n",
       "      <td>Revenge</td>\n",
       "    </tr>\n",
       "    <tr>\n",
       "      <th>5</th>\n",
       "      <td>Rodney</td>\n",
       "    </tr>\n",
       "    <tr>\n",
       "      <th>6</th>\n",
       "      <td>Royal Oak</td>\n",
       "    </tr>\n",
       "    <tr>\n",
       "      <th>7</th>\n",
       "      <td>Royal Sovereign</td>\n",
       "    </tr>\n",
       "  </tbody>\n",
       "</table>\n",
       "</div>"
      ],
      "text/plain": [
       "              name\n",
       "0        Ramillies\n",
       "1           Renown\n",
       "2          Repulse\n",
       "3       Resolution\n",
       "4          Revenge\n",
       "5           Rodney\n",
       "6        Royal Oak\n",
       "7  Royal Sovereign"
      ]
     },
     "execution_count": 91,
     "metadata": {},
     "output_type": "execute_result"
    }
   ],
   "source": [
    "select(sql)"
   ]
  },
  {
   "cell_type": "markdown",
   "metadata": {},
   "source": [
    "### 45. Найдите названия всех кораблей в базе данных, состоящие из трех и более слов (например, King George V). Считать, что слова в названиях разделяются единичными пробелами, и нет концевых пробелов."
   ]
  },
  {
   "cell_type": "code",
   "execution_count": 92,
   "metadata": {},
   "outputs": [],
   "source": [
    "sql = '''\n",
    "SELECT name\n",
    "FROM ships\n",
    "WHERE name like '% % %'\n",
    "UNION\n",
    "SELECT ship\n",
    "FROM outcomes\n",
    "WHERE ship like '% % %'         \n",
    "'''"
   ]
  },
  {
   "cell_type": "code",
   "execution_count": 93,
   "metadata": {},
   "outputs": [
    {
     "data": {
      "text/html": [
       "<div>\n",
       "<style scoped>\n",
       "    .dataframe tbody tr th:only-of-type {\n",
       "        vertical-align: middle;\n",
       "    }\n",
       "\n",
       "    .dataframe tbody tr th {\n",
       "        vertical-align: top;\n",
       "    }\n",
       "\n",
       "    .dataframe thead th {\n",
       "        text-align: right;\n",
       "    }\n",
       "</style>\n",
       "<table border=\"1\" class=\"dataframe\">\n",
       "  <thead>\n",
       "    <tr style=\"text-align: right;\">\n",
       "      <th></th>\n",
       "      <th>name</th>\n",
       "    </tr>\n",
       "  </thead>\n",
       "  <tbody>\n",
       "    <tr>\n",
       "      <th>0</th>\n",
       "      <td>Duke of York</td>\n",
       "    </tr>\n",
       "    <tr>\n",
       "      <th>1</th>\n",
       "      <td>King George V</td>\n",
       "    </tr>\n",
       "    <tr>\n",
       "      <th>2</th>\n",
       "      <td>Prince of Wales</td>\n",
       "    </tr>\n",
       "  </tbody>\n",
       "</table>\n",
       "</div>"
      ],
      "text/plain": [
       "              name\n",
       "0     Duke of York\n",
       "1    King George V\n",
       "2  Prince of Wales"
      ]
     },
     "execution_count": 93,
     "metadata": {},
     "output_type": "execute_result"
    }
   ],
   "source": [
    "select(sql)"
   ]
  },
  {
   "cell_type": "markdown",
   "metadata": {},
   "source": [
    "### 46. Для каждого корабля, участвовавшего в сражении при Гвадалканале (Guadalcanal), вывести название, водоизмещение и число орудий."
   ]
  },
  {
   "cell_type": "code",
   "execution_count": 94,
   "metadata": {},
   "outputs": [],
   "source": [
    "sql = '''\n",
    "SELECT a.name,\n",
    "       c.displacement,\n",
    "       c.numGuns\n",
    "FROM\n",
    "  (SELECT o.ship name,\n",
    "          s.class\n",
    "   FROM outcomes o,\n",
    "        ships s\n",
    "   WHERE o.battle = 'Guadalcanal'\n",
    "     AND o.ship = s.name) a\n",
    "LEFT JOIN classes c ON c.class = a.class\n",
    "UNION\n",
    "SELECT o.ship,\n",
    "       c.displacement,\n",
    "       c. numGuns\n",
    "FROM outcomes o\n",
    "LEFT JOIN classes c ON o.ship = c.class\n",
    "WHERE battle = 'Guadalcanal'\n",
    "  AND o.ship not in\n",
    "    (SELECT name\n",
    "     FROM ships)\n",
    "'''"
   ]
  },
  {
   "cell_type": "code",
   "execution_count": 95,
   "metadata": {},
   "outputs": [
    {
     "data": {
      "text/html": [
       "<div>\n",
       "<style scoped>\n",
       "    .dataframe tbody tr th:only-of-type {\n",
       "        vertical-align: middle;\n",
       "    }\n",
       "\n",
       "    .dataframe tbody tr th {\n",
       "        vertical-align: top;\n",
       "    }\n",
       "\n",
       "    .dataframe thead th {\n",
       "        text-align: right;\n",
       "    }\n",
       "</style>\n",
       "<table border=\"1\" class=\"dataframe\">\n",
       "  <thead>\n",
       "    <tr style=\"text-align: right;\">\n",
       "      <th></th>\n",
       "      <th>name</th>\n",
       "      <th>displacement</th>\n",
       "      <th>numGuns</th>\n",
       "    </tr>\n",
       "  </thead>\n",
       "  <tbody>\n",
       "    <tr>\n",
       "      <th>0</th>\n",
       "      <td>California</td>\n",
       "      <td>32000</td>\n",
       "      <td>12</td>\n",
       "    </tr>\n",
       "    <tr>\n",
       "      <th>1</th>\n",
       "      <td>Kirishima</td>\n",
       "      <td>32000</td>\n",
       "      <td>8</td>\n",
       "    </tr>\n",
       "    <tr>\n",
       "      <th>2</th>\n",
       "      <td>South Dakota</td>\n",
       "      <td>37000</td>\n",
       "      <td>12</td>\n",
       "    </tr>\n",
       "    <tr>\n",
       "      <th>3</th>\n",
       "      <td>Washington</td>\n",
       "      <td>37000</td>\n",
       "      <td>12</td>\n",
       "    </tr>\n",
       "  </tbody>\n",
       "</table>\n",
       "</div>"
      ],
      "text/plain": [
       "           name  displacement  numGuns\n",
       "0    California         32000       12\n",
       "1     Kirishima         32000        8\n",
       "2  South Dakota         37000       12\n",
       "3    Washington         37000       12"
      ]
     },
     "execution_count": 95,
     "metadata": {},
     "output_type": "execute_result"
    }
   ],
   "source": [
    "select(sql)"
   ]
  },
  {
   "cell_type": "markdown",
   "metadata": {},
   "source": [
    "### 48. Найдите классы кораблей, в которых хотя бы один корабль был потоплен в сражении."
   ]
  },
  {
   "cell_type": "code",
   "execution_count": 96,
   "metadata": {},
   "outputs": [],
   "source": [
    "sql = '''\n",
    "SELECT class\n",
    "FROM classes c\n",
    "LEFT JOIN outcomes o ON c.class = o.ship\n",
    "WHERE result = 'sunk'\n",
    "UNION\n",
    "SELECT class\n",
    "FROM ships s\n",
    "LEFT JOIN outcomes o ON s.name = o.ship\n",
    "WHERE result = 'sunk'\n",
    "'''"
   ]
  },
  {
   "cell_type": "code",
   "execution_count": 97,
   "metadata": {},
   "outputs": [
    {
     "data": {
      "text/html": [
       "<div>\n",
       "<style scoped>\n",
       "    .dataframe tbody tr th:only-of-type {\n",
       "        vertical-align: middle;\n",
       "    }\n",
       "\n",
       "    .dataframe tbody tr th {\n",
       "        vertical-align: top;\n",
       "    }\n",
       "\n",
       "    .dataframe thead th {\n",
       "        text-align: right;\n",
       "    }\n",
       "</style>\n",
       "<table border=\"1\" class=\"dataframe\">\n",
       "  <thead>\n",
       "    <tr style=\"text-align: right;\">\n",
       "      <th></th>\n",
       "      <th>class</th>\n",
       "    </tr>\n",
       "  </thead>\n",
       "  <tbody>\n",
       "    <tr>\n",
       "      <th>0</th>\n",
       "      <td>Bismarck</td>\n",
       "    </tr>\n",
       "    <tr>\n",
       "      <th>1</th>\n",
       "      <td>Kongo</td>\n",
       "    </tr>\n",
       "  </tbody>\n",
       "</table>\n",
       "</div>"
      ],
      "text/plain": [
       "      class\n",
       "0  Bismarck\n",
       "1     Kongo"
      ]
     },
     "execution_count": 97,
     "metadata": {},
     "output_type": "execute_result"
    }
   ],
   "source": [
    "select(sql)"
   ]
  },
  {
   "cell_type": "markdown",
   "metadata": {},
   "source": [
    "### 49. Найдите названия кораблей с орудиями калибра 16 дюймов (учесть корабли из таблицы Outcomes)."
   ]
  },
  {
   "cell_type": "code",
   "execution_count": 98,
   "metadata": {},
   "outputs": [],
   "source": [
    "sql = '''\n",
    "SELECT s.name\n",
    "FROM ships s\n",
    "LEFT JOIN classes c ON c.class = s.class\n",
    "WHERE c.bore = 16\n",
    "UNION\n",
    "SELECT o.ship\n",
    "FROM outcomes o\n",
    "LEFT JOIN classes c ON c.class = o.ship\n",
    "WHERE c.bore = 16\n",
    "'''"
   ]
  },
  {
   "cell_type": "code",
   "execution_count": 99,
   "metadata": {},
   "outputs": [
    {
     "data": {
      "text/html": [
       "<div>\n",
       "<style scoped>\n",
       "    .dataframe tbody tr th:only-of-type {\n",
       "        vertical-align: middle;\n",
       "    }\n",
       "\n",
       "    .dataframe tbody tr th {\n",
       "        vertical-align: top;\n",
       "    }\n",
       "\n",
       "    .dataframe thead th {\n",
       "        text-align: right;\n",
       "    }\n",
       "</style>\n",
       "<table border=\"1\" class=\"dataframe\">\n",
       "  <thead>\n",
       "    <tr style=\"text-align: right;\">\n",
       "      <th></th>\n",
       "      <th>name</th>\n",
       "    </tr>\n",
       "  </thead>\n",
       "  <tbody>\n",
       "    <tr>\n",
       "      <th>0</th>\n",
       "      <td>Iowa</td>\n",
       "    </tr>\n",
       "    <tr>\n",
       "      <th>1</th>\n",
       "      <td>Missouri</td>\n",
       "    </tr>\n",
       "    <tr>\n",
       "      <th>2</th>\n",
       "      <td>New Jersey</td>\n",
       "    </tr>\n",
       "    <tr>\n",
       "      <th>3</th>\n",
       "      <td>North Carolina</td>\n",
       "    </tr>\n",
       "    <tr>\n",
       "      <th>4</th>\n",
       "      <td>South Dakota</td>\n",
       "    </tr>\n",
       "    <tr>\n",
       "      <th>5</th>\n",
       "      <td>Washington</td>\n",
       "    </tr>\n",
       "    <tr>\n",
       "      <th>6</th>\n",
       "      <td>Wisconsin</td>\n",
       "    </tr>\n",
       "  </tbody>\n",
       "</table>\n",
       "</div>"
      ],
      "text/plain": [
       "             name\n",
       "0            Iowa\n",
       "1        Missouri\n",
       "2      New Jersey\n",
       "3  North Carolina\n",
       "4    South Dakota\n",
       "5      Washington\n",
       "6       Wisconsin"
      ]
     },
     "execution_count": 99,
     "metadata": {},
     "output_type": "execute_result"
    }
   ],
   "source": [
    "select(sql)"
   ]
  },
  {
   "cell_type": "markdown",
   "metadata": {},
   "source": [
    "### 50. Найдите сражения, в которых участвовали корабли класса Kongo из таблицы Ships."
   ]
  },
  {
   "cell_type": "code",
   "execution_count": 100,
   "metadata": {},
   "outputs": [],
   "source": [
    "sql = '''\n",
    "SELECT DISTINCT battle\n",
    "FROM outcomes\n",
    "WHERE ship in\n",
    "    (SELECT name\n",
    "     FROM ships\n",
    "     WHERE class = 'Kongo')\n",
    "'''"
   ]
  },
  {
   "cell_type": "code",
   "execution_count": 101,
   "metadata": {},
   "outputs": [
    {
     "data": {
      "text/html": [
       "<div>\n",
       "<style scoped>\n",
       "    .dataframe tbody tr th:only-of-type {\n",
       "        vertical-align: middle;\n",
       "    }\n",
       "\n",
       "    .dataframe tbody tr th {\n",
       "        vertical-align: top;\n",
       "    }\n",
       "\n",
       "    .dataframe thead th {\n",
       "        text-align: right;\n",
       "    }\n",
       "</style>\n",
       "<table border=\"1\" class=\"dataframe\">\n",
       "  <thead>\n",
       "    <tr style=\"text-align: right;\">\n",
       "      <th></th>\n",
       "      <th>battle</th>\n",
       "    </tr>\n",
       "  </thead>\n",
       "  <tbody>\n",
       "    <tr>\n",
       "      <th>0</th>\n",
       "      <td>Guadalcanal</td>\n",
       "    </tr>\n",
       "  </tbody>\n",
       "</table>\n",
       "</div>"
      ],
      "text/plain": [
       "        battle\n",
       "0  Guadalcanal"
      ]
     },
     "execution_count": 101,
     "metadata": {},
     "output_type": "execute_result"
    }
   ],
   "source": [
    "select(sql)"
   ]
  },
  {
   "cell_type": "markdown",
   "metadata": {},
   "source": [
    "### 51. Найдите названия кораблей, имеющих наибольшее число орудий среди всех имеющихся кораблей такого же водоизмещения (учесть корабли из таблицы Outcomes)."
   ]
  },
  {
   "cell_type": "code",
   "execution_count": 102,
   "metadata": {},
   "outputs": [],
   "source": [
    "sql = '''\n",
    "SELECT a.name\n",
    "FROM\n",
    "  (SELECT s.name,\n",
    "          c.numGuns,\n",
    "          c.displacement\n",
    "   FROM ships s\n",
    "   INNER JOIN classes c ON c.class = s.class\n",
    "   UNION SELECT o.ship,\n",
    "                c.numGuns,\n",
    "                c.displacement\n",
    "   FROM outcomes o\n",
    "   INNER JOIN classes c ON c.class = o.ship) a\n",
    "WHERE a.numGuns =\n",
    "    (SELECT MAX(b.numGuns)\n",
    "     FROM\n",
    "       (SELECT s.name,\n",
    "               c.numGuns,\n",
    "               c.displacement\n",
    "        FROM ships s\n",
    "        INNER JOIN classes c ON c.class = s.class\n",
    "        UNION SELECT o.ship,\n",
    "                     c.numGuns,\n",
    "                     c.displacement\n",
    "        FROM outcomes o\n",
    "        INNER JOIN classes c ON c.class = o.ship) b\n",
    "     WHERE a.displacement = b.displacement)\n",
    "'''"
   ]
  },
  {
   "cell_type": "code",
   "execution_count": 103,
   "metadata": {},
   "outputs": [
    {
     "data": {
      "text/html": [
       "<div>\n",
       "<style scoped>\n",
       "    .dataframe tbody tr th:only-of-type {\n",
       "        vertical-align: middle;\n",
       "    }\n",
       "\n",
       "    .dataframe tbody tr th {\n",
       "        vertical-align: top;\n",
       "    }\n",
       "\n",
       "    .dataframe thead th {\n",
       "        text-align: right;\n",
       "    }\n",
       "</style>\n",
       "<table border=\"1\" class=\"dataframe\">\n",
       "  <thead>\n",
       "    <tr style=\"text-align: right;\">\n",
       "      <th></th>\n",
       "      <th>name</th>\n",
       "    </tr>\n",
       "  </thead>\n",
       "  <tbody>\n",
       "    <tr>\n",
       "      <th>0</th>\n",
       "      <td>Bismarck</td>\n",
       "    </tr>\n",
       "    <tr>\n",
       "      <th>1</th>\n",
       "      <td>California</td>\n",
       "    </tr>\n",
       "    <tr>\n",
       "      <th>2</th>\n",
       "      <td>Iowa</td>\n",
       "    </tr>\n",
       "    <tr>\n",
       "      <th>3</th>\n",
       "      <td>Missouri</td>\n",
       "    </tr>\n",
       "    <tr>\n",
       "      <th>4</th>\n",
       "      <td>Musashi</td>\n",
       "    </tr>\n",
       "    <tr>\n",
       "      <th>5</th>\n",
       "      <td>New Jersey</td>\n",
       "    </tr>\n",
       "    <tr>\n",
       "      <th>6</th>\n",
       "      <td>North Carolina</td>\n",
       "    </tr>\n",
       "    <tr>\n",
       "      <th>7</th>\n",
       "      <td>Ramillies</td>\n",
       "    </tr>\n",
       "    <tr>\n",
       "      <th>8</th>\n",
       "      <td>Revenge</td>\n",
       "    </tr>\n",
       "    <tr>\n",
       "      <th>9</th>\n",
       "      <td>Royal Oak</td>\n",
       "    </tr>\n",
       "    <tr>\n",
       "      <th>10</th>\n",
       "      <td>Royal Sovereign</td>\n",
       "    </tr>\n",
       "    <tr>\n",
       "      <th>11</th>\n",
       "      <td>South Dakota</td>\n",
       "    </tr>\n",
       "    <tr>\n",
       "      <th>12</th>\n",
       "      <td>Tennessee</td>\n",
       "    </tr>\n",
       "    <tr>\n",
       "      <th>13</th>\n",
       "      <td>Washington</td>\n",
       "    </tr>\n",
       "    <tr>\n",
       "      <th>14</th>\n",
       "      <td>Wisconsin</td>\n",
       "    </tr>\n",
       "    <tr>\n",
       "      <th>15</th>\n",
       "      <td>Yamato</td>\n",
       "    </tr>\n",
       "  </tbody>\n",
       "</table>\n",
       "</div>"
      ],
      "text/plain": [
       "               name\n",
       "0          Bismarck\n",
       "1        California\n",
       "2              Iowa\n",
       "3          Missouri\n",
       "4           Musashi\n",
       "5        New Jersey\n",
       "6    North Carolina\n",
       "7         Ramillies\n",
       "8           Revenge\n",
       "9         Royal Oak\n",
       "10  Royal Sovereign\n",
       "11     South Dakota\n",
       "12        Tennessee\n",
       "13       Washington\n",
       "14        Wisconsin\n",
       "15           Yamato"
      ]
     },
     "execution_count": 103,
     "metadata": {},
     "output_type": "execute_result"
    }
   ],
   "source": [
    "select(sql)"
   ]
  },
  {
   "cell_type": "markdown",
   "metadata": {},
   "source": [
    "### 52. Определить названия всех кораблей из таблицы Ships, которые могут быть линейным японским кораблем, имеющим число главных орудий не менее девяти, калибр орудий менее 19 дюймов и водоизмещение не более 65 тыс.тонн"
   ]
  },
  {
   "cell_type": "code",
   "execution_count": 104,
   "metadata": {},
   "outputs": [],
   "source": [
    "sql = '''\n",
    "SELECT name\n",
    "FROM ships s\n",
    "INNER JOIN classes c ON c.class = s.class\n",
    "WHERE type = 'bb'\n",
    "  AND country = 'Japan'\n",
    "  AND (numGuns >= 9\n",
    "       OR numGuns IS NULL)\n",
    "  AND (bore < 19\n",
    "       OR bore IS NULL)\n",
    "  AND (displacement <= 65000\n",
    "       OR displacement IS NULL)\n",
    "   '''"
   ]
  },
  {
   "cell_type": "code",
   "execution_count": 105,
   "metadata": {},
   "outputs": [
    {
     "data": {
      "text/html": [
       "<div>\n",
       "<style scoped>\n",
       "    .dataframe tbody tr th:only-of-type {\n",
       "        vertical-align: middle;\n",
       "    }\n",
       "\n",
       "    .dataframe tbody tr th {\n",
       "        vertical-align: top;\n",
       "    }\n",
       "\n",
       "    .dataframe thead th {\n",
       "        text-align: right;\n",
       "    }\n",
       "</style>\n",
       "<table border=\"1\" class=\"dataframe\">\n",
       "  <thead>\n",
       "    <tr style=\"text-align: right;\">\n",
       "      <th></th>\n",
       "      <th>name</th>\n",
       "    </tr>\n",
       "  </thead>\n",
       "  <tbody>\n",
       "    <tr>\n",
       "      <th>0</th>\n",
       "      <td>Musashi</td>\n",
       "    </tr>\n",
       "    <tr>\n",
       "      <th>1</th>\n",
       "      <td>Yamato</td>\n",
       "    </tr>\n",
       "  </tbody>\n",
       "</table>\n",
       "</div>"
      ],
      "text/plain": [
       "      name\n",
       "0  Musashi\n",
       "1   Yamato"
      ]
     },
     "execution_count": 105,
     "metadata": {},
     "output_type": "execute_result"
    }
   ],
   "source": [
    "select(sql)"
   ]
  },
  {
   "cell_type": "markdown",
   "metadata": {},
   "source": [
    "### 53. Определите среднее число орудий для классов линейных кораблей. Получить результат с точностью до 2-х десятичных знаков."
   ]
  },
  {
   "cell_type": "code",
   "execution_count": 106,
   "metadata": {},
   "outputs": [],
   "source": [
    "sql = '''\n",
    "SELECT cast(avg(numGuns) AS numeric(4, 2)) AVG\n",
    "FROM classes\n",
    "WHERE type = 'bb'\n",
    "'''"
   ]
  },
  {
   "cell_type": "code",
   "execution_count": 107,
   "metadata": {},
   "outputs": [
    {
     "data": {
      "text/html": [
       "<div>\n",
       "<style scoped>\n",
       "    .dataframe tbody tr th:only-of-type {\n",
       "        vertical-align: middle;\n",
       "    }\n",
       "\n",
       "    .dataframe tbody tr th {\n",
       "        vertical-align: top;\n",
       "    }\n",
       "\n",
       "    .dataframe thead th {\n",
       "        text-align: right;\n",
       "    }\n",
       "</style>\n",
       "<table border=\"1\" class=\"dataframe\">\n",
       "  <thead>\n",
       "    <tr style=\"text-align: right;\">\n",
       "      <th></th>\n",
       "      <th>AVG</th>\n",
       "    </tr>\n",
       "  </thead>\n",
       "  <tbody>\n",
       "    <tr>\n",
       "      <th>0</th>\n",
       "      <td>9.666667</td>\n",
       "    </tr>\n",
       "  </tbody>\n",
       "</table>\n",
       "</div>"
      ],
      "text/plain": [
       "        AVG\n",
       "0  9.666667"
      ]
     },
     "execution_count": 107,
     "metadata": {},
     "output_type": "execute_result"
    }
   ],
   "source": [
    "select(sql)"
   ]
  }
 ],
 "metadata": {
  "kernelspec": {
   "display_name": "Python 3",
   "language": "python",
   "name": "python3"
  },
  "language_info": {
   "codemirror_mode": {
    "name": "ipython",
    "version": 3
   },
   "file_extension": ".py",
   "mimetype": "text/x-python",
   "name": "python",
   "nbconvert_exporter": "python",
   "pygments_lexer": "ipython3",
   "version": "3.8.3"
  }
 },
 "nbformat": 4,
 "nbformat_minor": 4
}
