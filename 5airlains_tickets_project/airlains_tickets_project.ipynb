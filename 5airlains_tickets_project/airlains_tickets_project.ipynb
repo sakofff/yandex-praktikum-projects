{
 "cells": [
  {
   "cell_type": "markdown",
   "metadata": {},
   "source": [
    "# Аналитика в авиакомпании"
   ]
  },
  {
   "cell_type": "markdown",
   "metadata": {},
   "source": [
    "## ОГЛАВЛЕНИЕ"
   ]
  },
  {
   "cell_type": "markdown",
   "metadata": {},
   "source": [
    "1. [Описание проекта](#projekt) \n",
    "2. [Цель и задачи проекта](#purpose)     \n",
    "3. [Описание данных](#data)    \n",
    "4. [Открытие данных и изучение общей информации](#start)\n",
    "5. [Предобработка и подготовка данных](#preprocessing)\n",
    "6. [Парсинг и работа с базой данных](#parsing)\n",
    "7. [Анализ данных средствами Python](#analysis)   \n",
    "8. [Общий вывод](#conclusion)"
   ]
  },
  {
   "cell_type": "markdown",
   "metadata": {},
   "source": [
    "### Описание проекта\n",
    "<a name=\"projekt\"></a>"
   ]
  },
  {
   "cell_type": "markdown",
   "metadata": {},
   "source": [
    "«F9» — это российская авиакомпания, выполняющая внутренние пассажирские авиаперевозки. Необходимо понять предпочтения пользователей, покупающих билеты на те или иные направления."
   ]
  },
  {
   "cell_type": "markdown",
   "metadata": {},
   "source": [
    "### Цель и задачи проекта\n",
    "<a name=\"purpose\"></a>"
   ]
  },
  {
   "cell_type": "markdown",
   "metadata": {},
   "source": [
    "Цель проекта - изучить базу данных и проанализировать спрос пассажиров на рейсы в города, где проходят крупнейшие фестивали.   \n",
    "<br>Для этого необходимо:  \n",
    "1. Написать парсер для сбора с сайта данных о крупнейших фестивалях 2018 года.     \n",
    "2. Провести исследовательский анализ данных:   \n",
    "  - найти количество рейсов с вылетом в сентябре 2018 года на каждой модели самолёта;   \n",
    "  - посчитать количество рейсов по всем моделям самолетов Boeing и Airbus в сентябре 2018 года;  \n",
    "  - посчитать среднее количество прибывающих рейсов в день для каждого города за август 2018 года.    \n",
    "3. Проверить гипотезу, что количество рейсов во время фестивалей увеличивается:\n",
    "  - установить фестивали, которые проходили с 23 июля по 30 сентября 2018 года в Москве, и номер недели, в которую они проходили;\n",
    "  - для каждой недели с 23 июля по 30 сентября 2018 года посчитать количество билетов, купленных на рейсы в Москву.   \n",
    "4. Проанализировать данные средствами Python:   \n",
    "  - выбрать топ-10 городов по количеству рейсов;  \n",
    "  - построить графики: модели самолетов и количество рейсов, города и количество рейсов, топ-10 городов и количество рейсов."
   ]
  },
  {
   "cell_type": "markdown",
   "metadata": {},
   "source": [
    "### Описание данных\n",
    "<a name=\"data\"></a>"
   ]
  },
  {
   "cell_type": "markdown",
   "metadata": {},
   "source": [
    "#### База данных об авиаперевозках:\n",
    "##### Таблица airports — информация об аэропортах:   \n",
    "airport_code — трёхбуквенный код аэропорта   \n",
    "airport_name — название аэропорта   \n",
    "city — город   \n",
    "timezone — временная зона   \n",
    "##### Таблица aircrafts — информация о самолётах:   \n",
    "aircraft_code — код модели самолёта     \n",
    "model — модель самолёта   \n",
    "range — количество самолётов \n",
    "##### Таблица tickets — информация о билетах:    \n",
    "ticket_no — уникальный номер билета  \n",
    "passenger_id — персональный идентификатор пассажира   \n",
    "passenger_name — имя и фамилия пассажира   \n",
    "##### Таблица flights — информация о рейсах:   \n",
    "flight_id — уникальный идентификатор рейса   \n",
    "departure_airport — аэропорт вылета   \n",
    "departure_time — дата и время вылета   \n",
    "arrival_airport — аэропорт прилёта   \n",
    "arrival_time — дата и время прилёта   \n",
    "aircraft_code – id самолёта   \n",
    "##### Таблица ticket_flights — стыковая таблица «рейсы-билеты»   \n",
    "ticket_no — номер билета   \n",
    "flight_id — идентификатор рейса   \n",
    "##### Таблица festivals — информация о фестивалях   \n",
    "festival_id — уникальный номер фестиваля   \n",
    "festival_date — дата проведения фестиваля   \n",
    "festival_city — город проведения фестиваля   \n",
    "festival_name — название фестиваля   \n",
    "#### Схема таблиц в базе данных:    \n",
    "![relationship_of_the_tables](https://pictures.s3.yandex.net/resources/photo_2019-11-08_14-08-31_1573733426.jpg)   \n",
    "#### Результаты выполненных запросов:\n",
    "##### Таблица model_flights — информация о полетах по моделям   \n",
    "model — модель самолета   \n",
    "flights_amount — количество рейсов для каждой модели самолетов в сентябре 2018 года     \n",
    "##### Таблица city_flights — информация о полетах по городам   \n",
    "city — город   \n",
    "average_flights — среднее количество рейсов, прибывающих в город за день в августе 2018 года     "
   ]
  },
  {
   "cell_type": "markdown",
   "metadata": {},
   "source": [
    "### Открытие данных и изучение общей информации\n",
    "<a name=\"start\"></a>"
   ]
  },
  {
   "cell_type": "code",
   "execution_count": 1,
   "metadata": {},
   "outputs": [],
   "source": [
    "# импортируем необходимые библиотеки\n",
    "import pandas as pd\n",
    "%matplotlib inline\n",
    "import matplotlib.pyplot as plt\n",
    "plt.rcParams.update({'font.size': 14})\n",
    "import matplotlib\n",
    "matplotlib.style.use('seaborn-dark')\n",
    "from pylab import rcParams\n",
    "rcParams['figure.figsize'] = 15, 9\n",
    "import numpy as np\n",
    "import warnings\n",
    "warnings.filterwarnings('ignore')\n",
    "import requests\n",
    "from bs4 import BeautifulSoup"
   ]
  },
  {
   "cell_type": "code",
   "execution_count": 2,
   "metadata": {},
   "outputs": [
    {
     "data": {
      "text/html": [
       "<style type=\"text/css\">\n",
       "table.dataframe td, table.dataframe th {\n",
       "   border: 1px  black solid !important;\n",
       "  color: black !important;}\n"
      ],
      "text/plain": [
       "<IPython.core.display.HTML object>"
      ]
     },
     "metadata": {},
     "output_type": "display_data"
    }
   ],
   "source": [
    "%%HTML\n",
    "<style type=\"text/css\">\n",
    "table.dataframe td, table.dataframe th {\n",
    "   border: 1px  black solid !important;\n",
    "  color: black !important;}"
   ]
  },
  {
   "cell_type": "markdown",
   "metadata": {},
   "source": [
    "##### Таблица model_flights "
   ]
  },
  {
   "cell_type": "code",
   "execution_count": 3,
   "metadata": {},
   "outputs": [
    {
     "data": {
      "text/html": [
       "<div>\n",
       "<style scoped>\n",
       "    .dataframe tbody tr th:only-of-type {\n",
       "        vertical-align: middle;\n",
       "    }\n",
       "\n",
       "    .dataframe tbody tr th {\n",
       "        vertical-align: top;\n",
       "    }\n",
       "\n",
       "    .dataframe thead th {\n",
       "        text-align: right;\n",
       "    }\n",
       "</style>\n",
       "<table border=\"1\" class=\"dataframe\">\n",
       "  <thead>\n",
       "    <tr style=\"text-align: right;\">\n",
       "      <th></th>\n",
       "      <th>model</th>\n",
       "      <th>flights_amount</th>\n",
       "    </tr>\n",
       "  </thead>\n",
       "  <tbody>\n",
       "    <tr>\n",
       "      <th>0</th>\n",
       "      <td>Airbus A319-100</td>\n",
       "      <td>607</td>\n",
       "    </tr>\n",
       "    <tr>\n",
       "      <th>1</th>\n",
       "      <td>Airbus A321-200</td>\n",
       "      <td>960</td>\n",
       "    </tr>\n",
       "    <tr>\n",
       "      <th>2</th>\n",
       "      <td>Boeing 737-300</td>\n",
       "      <td>630</td>\n",
       "    </tr>\n",
       "    <tr>\n",
       "      <th>3</th>\n",
       "      <td>Boeing 767-300</td>\n",
       "      <td>600</td>\n",
       "    </tr>\n",
       "    <tr>\n",
       "      <th>4</th>\n",
       "      <td>Boeing 777-300</td>\n",
       "      <td>300</td>\n",
       "    </tr>\n",
       "    <tr>\n",
       "      <th>5</th>\n",
       "      <td>Bombardier CRJ-200</td>\n",
       "      <td>4446</td>\n",
       "    </tr>\n",
       "    <tr>\n",
       "      <th>6</th>\n",
       "      <td>Cessna 208 Caravan</td>\n",
       "      <td>4557</td>\n",
       "    </tr>\n",
       "    <tr>\n",
       "      <th>7</th>\n",
       "      <td>Sukhoi SuperJet-100</td>\n",
       "      <td>4185</td>\n",
       "    </tr>\n",
       "  </tbody>\n",
       "</table>\n",
       "</div>"
      ],
      "text/plain": [
       "                 model  flights_amount\n",
       "0      Airbus A319-100             607\n",
       "1      Airbus A321-200             960\n",
       "2       Boeing 737-300             630\n",
       "3       Boeing 767-300             600\n",
       "4       Boeing 777-300             300\n",
       "5   Bombardier CRJ-200            4446\n",
       "6   Cessna 208 Caravan            4557\n",
       "7  Sukhoi SuperJet-100            4185"
      ]
     },
     "execution_count": 3,
     "metadata": {},
     "output_type": "execute_result"
    }
   ],
   "source": [
    "# прочитаем DataFrame\n",
    "try:\n",
    "    model_flights = pd.read_csv('query_1.csv')  # локальный путь\n",
    "except:\n",
    "    model_flights = pd.read_csv('/datasets/query_1.csv')  # путь на сервере\n",
    "model_flights"
   ]
  },
  {
   "cell_type": "code",
   "execution_count": 4,
   "metadata": {},
   "outputs": [
    {
     "data": {
      "text/html": [
       "<div>\n",
       "<style scoped>\n",
       "    .dataframe tbody tr th:only-of-type {\n",
       "        vertical-align: middle;\n",
       "    }\n",
       "\n",
       "    .dataframe tbody tr th {\n",
       "        vertical-align: top;\n",
       "    }\n",
       "\n",
       "    .dataframe thead th {\n",
       "        text-align: right;\n",
       "    }\n",
       "</style>\n",
       "<table border=\"1\" class=\"dataframe\">\n",
       "  <thead>\n",
       "    <tr style=\"text-align: right;\">\n",
       "      <th></th>\n",
       "      <th>flights_amount</th>\n",
       "    </tr>\n",
       "  </thead>\n",
       "  <tbody>\n",
       "    <tr>\n",
       "      <th>count</th>\n",
       "      <td>8.000000</td>\n",
       "    </tr>\n",
       "    <tr>\n",
       "      <th>mean</th>\n",
       "      <td>2035.625000</td>\n",
       "    </tr>\n",
       "    <tr>\n",
       "      <th>std</th>\n",
       "      <td>1965.203947</td>\n",
       "    </tr>\n",
       "    <tr>\n",
       "      <th>min</th>\n",
       "      <td>300.000000</td>\n",
       "    </tr>\n",
       "    <tr>\n",
       "      <th>25%</th>\n",
       "      <td>605.250000</td>\n",
       "    </tr>\n",
       "    <tr>\n",
       "      <th>50%</th>\n",
       "      <td>795.000000</td>\n",
       "    </tr>\n",
       "    <tr>\n",
       "      <th>75%</th>\n",
       "      <td>4250.250000</td>\n",
       "    </tr>\n",
       "    <tr>\n",
       "      <th>max</th>\n",
       "      <td>4557.000000</td>\n",
       "    </tr>\n",
       "  </tbody>\n",
       "</table>\n",
       "</div>"
      ],
      "text/plain": [
       "       flights_amount\n",
       "count        8.000000\n",
       "mean      2035.625000\n",
       "std       1965.203947\n",
       "min        300.000000\n",
       "25%        605.250000\n",
       "50%        795.000000\n",
       "75%       4250.250000\n",
       "max       4557.000000"
      ]
     },
     "execution_count": 4,
     "metadata": {},
     "output_type": "execute_result"
    }
   ],
   "source": [
    "# проведем базовую проверку столбцов таблицы с количественными переменными \n",
    "model_flights.describe()"
   ]
  },
  {
   "cell_type": "code",
   "execution_count": 5,
   "metadata": {},
   "outputs": [
    {
     "data": {
      "text/plain": [
       "array(['Airbus A319-100', 'Airbus A321-200', 'Boeing 737-300',\n",
       "       'Boeing 767-300', 'Boeing 777-300', 'Bombardier CRJ-200',\n",
       "       'Cessna 208 Caravan', 'Sukhoi SuperJet-100'], dtype=object)"
      ]
     },
     "execution_count": 5,
     "metadata": {},
     "output_type": "execute_result"
    }
   ],
   "source": [
    "# посмотрим уникальые значения столбца таблицы с категориальными переменными \n",
    "model_flights['model'].unique()"
   ]
  },
  {
   "cell_type": "code",
   "execution_count": 6,
   "metadata": {},
   "outputs": [
    {
     "name": "stdout",
     "output_type": "stream",
     "text": [
      "<class 'pandas.core.frame.DataFrame'>\n",
      "RangeIndex: 8 entries, 0 to 7\n",
      "Data columns (total 2 columns):\n",
      " #   Column          Non-Null Count  Dtype \n",
      "---  ------          --------------  ----- \n",
      " 0   model           8 non-null      object\n",
      " 1   flights_amount  8 non-null      int64 \n",
      "dtypes: int64(1), object(1)\n",
      "memory usage: 256.0+ bytes\n"
     ]
    }
   ],
   "source": [
    "# посмотрим сводную информацию таблицы\n",
    "model_flights.info()"
   ]
  },
  {
   "cell_type": "code",
   "execution_count": 7,
   "metadata": {},
   "outputs": [
    {
     "data": {
      "text/plain": [
       "model             0\n",
       "flights_amount    0\n",
       "dtype: int64"
      ]
     },
     "execution_count": 7,
     "metadata": {},
     "output_type": "execute_result"
    }
   ],
   "source": [
    "# определим количество пропущенных значений в таблице\n",
    "model_flights.isnull().sum()"
   ]
  },
  {
   "cell_type": "code",
   "execution_count": 8,
   "metadata": {},
   "outputs": [
    {
     "data": {
      "text/plain": [
       "0"
      ]
     },
     "execution_count": 8,
     "metadata": {},
     "output_type": "execute_result"
    }
   ],
   "source": [
    "# посчитаем количество дубликатов\n",
    "model_flights.duplicated().sum()"
   ]
  },
  {
   "cell_type": "markdown",
   "metadata": {},
   "source": [
    "##### Таблица city_flights"
   ]
  },
  {
   "cell_type": "code",
   "execution_count": 9,
   "metadata": {},
   "outputs": [
    {
     "data": {
      "text/html": [
       "<div>\n",
       "<style scoped>\n",
       "    .dataframe tbody tr th:only-of-type {\n",
       "        vertical-align: middle;\n",
       "    }\n",
       "\n",
       "    .dataframe tbody tr th {\n",
       "        vertical-align: top;\n",
       "    }\n",
       "\n",
       "    .dataframe thead th {\n",
       "        text-align: right;\n",
       "    }\n",
       "</style>\n",
       "<table border=\"1\" class=\"dataframe\">\n",
       "  <thead>\n",
       "    <tr style=\"text-align: right;\">\n",
       "      <th></th>\n",
       "      <th>city</th>\n",
       "      <th>average_flights</th>\n",
       "    </tr>\n",
       "  </thead>\n",
       "  <tbody>\n",
       "    <tr>\n",
       "      <th>0</th>\n",
       "      <td>Абакан</td>\n",
       "      <td>3.870968</td>\n",
       "    </tr>\n",
       "    <tr>\n",
       "      <th>1</th>\n",
       "      <td>Анадырь</td>\n",
       "      <td>1.000000</td>\n",
       "    </tr>\n",
       "    <tr>\n",
       "      <th>2</th>\n",
       "      <td>Анапа</td>\n",
       "      <td>2.161290</td>\n",
       "    </tr>\n",
       "    <tr>\n",
       "      <th>3</th>\n",
       "      <td>Архангельск</td>\n",
       "      <td>5.354839</td>\n",
       "    </tr>\n",
       "    <tr>\n",
       "      <th>4</th>\n",
       "      <td>Астрахань</td>\n",
       "      <td>2.451613</td>\n",
       "    </tr>\n",
       "    <tr>\n",
       "      <th>5</th>\n",
       "      <td>Барнаул</td>\n",
       "      <td>2.612903</td>\n",
       "    </tr>\n",
       "    <tr>\n",
       "      <th>6</th>\n",
       "      <td>Белгород</td>\n",
       "      <td>6.000000</td>\n",
       "    </tr>\n",
       "    <tr>\n",
       "      <th>7</th>\n",
       "      <td>Белоярский</td>\n",
       "      <td>2.000000</td>\n",
       "    </tr>\n",
       "    <tr>\n",
       "      <th>8</th>\n",
       "      <td>Благовещенск</td>\n",
       "      <td>1.000000</td>\n",
       "    </tr>\n",
       "    <tr>\n",
       "      <th>9</th>\n",
       "      <td>Братск</td>\n",
       "      <td>1.000000</td>\n",
       "    </tr>\n",
       "  </tbody>\n",
       "</table>\n",
       "</div>"
      ],
      "text/plain": [
       "           city  average_flights\n",
       "0        Абакан         3.870968\n",
       "1       Анадырь         1.000000\n",
       "2         Анапа         2.161290\n",
       "3   Архангельск         5.354839\n",
       "4     Астрахань         2.451613\n",
       "5       Барнаул         2.612903\n",
       "6      Белгород         6.000000\n",
       "7    Белоярский         2.000000\n",
       "8  Благовещенск         1.000000\n",
       "9        Братск         1.000000"
      ]
     },
     "execution_count": 9,
     "metadata": {},
     "output_type": "execute_result"
    }
   ],
   "source": [
    "# прочитаем DataFrame\n",
    "try:\n",
    "    city_flights = pd.read_csv('query_3.csv')  # локальный путь\n",
    "except:\n",
    "    city_flights = pd.read_csv('/datasets/query_3.csv')  # путь на сервере\n",
    "city_flights.head(10)"
   ]
  },
  {
   "cell_type": "code",
   "execution_count": 10,
   "metadata": {},
   "outputs": [
    {
     "data": {
      "text/html": [
       "<div>\n",
       "<style scoped>\n",
       "    .dataframe tbody tr th:only-of-type {\n",
       "        vertical-align: middle;\n",
       "    }\n",
       "\n",
       "    .dataframe tbody tr th {\n",
       "        vertical-align: top;\n",
       "    }\n",
       "\n",
       "    .dataframe thead th {\n",
       "        text-align: right;\n",
       "    }\n",
       "</style>\n",
       "<table border=\"1\" class=\"dataframe\">\n",
       "  <thead>\n",
       "    <tr style=\"text-align: right;\">\n",
       "      <th></th>\n",
       "      <th>average_flights</th>\n",
       "    </tr>\n",
       "  </thead>\n",
       "  <tbody>\n",
       "    <tr>\n",
       "      <th>count</th>\n",
       "      <td>101.000000</td>\n",
       "    </tr>\n",
       "    <tr>\n",
       "      <th>mean</th>\n",
       "      <td>5.494189</td>\n",
       "    </tr>\n",
       "    <tr>\n",
       "      <th>std</th>\n",
       "      <td>13.119790</td>\n",
       "    </tr>\n",
       "    <tr>\n",
       "      <th>min</th>\n",
       "      <td>1.000000</td>\n",
       "    </tr>\n",
       "    <tr>\n",
       "      <th>25%</th>\n",
       "      <td>2.000000</td>\n",
       "    </tr>\n",
       "    <tr>\n",
       "      <th>50%</th>\n",
       "      <td>3.000000</td>\n",
       "    </tr>\n",
       "    <tr>\n",
       "      <th>75%</th>\n",
       "      <td>5.870968</td>\n",
       "    </tr>\n",
       "    <tr>\n",
       "      <th>max</th>\n",
       "      <td>129.774194</td>\n",
       "    </tr>\n",
       "  </tbody>\n",
       "</table>\n",
       "</div>"
      ],
      "text/plain": [
       "       average_flights\n",
       "count       101.000000\n",
       "mean          5.494189\n",
       "std          13.119790\n",
       "min           1.000000\n",
       "25%           2.000000\n",
       "50%           3.000000\n",
       "75%           5.870968\n",
       "max         129.774194"
      ]
     },
     "execution_count": 10,
     "metadata": {},
     "output_type": "execute_result"
    }
   ],
   "source": [
    "# проведем базовую проверку столбцов таблицы с количественными переменными \n",
    "city_flights.describe()"
   ]
  },
  {
   "cell_type": "code",
   "execution_count": 11,
   "metadata": {},
   "outputs": [
    {
     "data": {
      "text/plain": [
       "array(['Абакан', 'Анадырь', 'Анапа', 'Архангельск', 'Астрахань',\n",
       "       'Барнаул', 'Белгород', 'Белоярский', 'Благовещенск', 'Братск',\n",
       "       'Брянск', 'Бугульма', 'Владивосток', 'Владикавказ', 'Волгоград',\n",
       "       'Воркута', 'Воронеж', 'Геленджик', 'Горно-Алтайск', 'Грозный',\n",
       "       'Екатеринбург', 'Иваново', 'Ижевск', 'Иркутск', 'Йошкар-Ола',\n",
       "       'Казань', 'Калининград', 'Калуга', 'Кемерово', 'Киров', 'Когалым',\n",
       "       'Комсомольск-на-Амуре', 'Краснодар', 'Красноярск', 'Курган',\n",
       "       'Курск', 'Кызыл', 'Липецк', 'Магадан', 'Магнитогорск', 'Махачкала',\n",
       "       'Минеральные Воды', 'Мирный', 'Москва', 'Мурманск', 'Надым',\n",
       "       'Нальчик', 'Нарьян-Мар', 'Нерюнгри', 'Нефтеюганск',\n",
       "       'Нижневартовск', 'Нижнекамск', 'Нижний Новгород', 'Новокузнецк',\n",
       "       'Новосибирск', 'Новый Уренгой', 'Норильск', 'Ноябрьск', 'Нягань',\n",
       "       'Омск', 'Оренбург', 'Орск', 'Пенза', 'Пермь', 'Петрозаводск',\n",
       "       'Петропавловск-Камчатский', 'Псков', 'Ростов-на-Дону', 'Салехард',\n",
       "       'Самара', 'Санкт-Петербург', 'Саранск', 'Саратов', 'Советский',\n",
       "       'Сочи', 'Ставрополь', 'Стрежевой', 'Сургут', 'Сыктывкар', 'Тамбов',\n",
       "       'Томск', 'Тюмень', 'Удачный', 'Улан-Удэ', 'Ульяновск', 'Урай',\n",
       "       'Усинск', 'Усть-Илимск', 'Усть-Кут', 'Уфа', 'Ухта', 'Хабаровск',\n",
       "       'Ханты-Мансийск', 'Чебоксары', 'Челябинск', 'Череповец', 'Чита',\n",
       "       'Элиста', 'Южно-Сахалинск', 'Якутск', 'Ярославль'], dtype=object)"
      ]
     },
     "execution_count": 11,
     "metadata": {},
     "output_type": "execute_result"
    }
   ],
   "source": [
    "# посмотрим уникальые значения столбца таблицы с категориальными переменными \n",
    "city_flights['city'].unique()"
   ]
  },
  {
   "cell_type": "code",
   "execution_count": 12,
   "metadata": {},
   "outputs": [
    {
     "name": "stdout",
     "output_type": "stream",
     "text": [
      "<class 'pandas.core.frame.DataFrame'>\n",
      "RangeIndex: 101 entries, 0 to 100\n",
      "Data columns (total 2 columns):\n",
      " #   Column           Non-Null Count  Dtype  \n",
      "---  ------           --------------  -----  \n",
      " 0   city             101 non-null    object \n",
      " 1   average_flights  101 non-null    float64\n",
      "dtypes: float64(1), object(1)\n",
      "memory usage: 1.7+ KB\n"
     ]
    }
   ],
   "source": [
    "# посмотрим сводную информацию таблицы\n",
    "city_flights.info()"
   ]
  },
  {
   "cell_type": "code",
   "execution_count": 13,
   "metadata": {},
   "outputs": [
    {
     "data": {
      "text/plain": [
       "city               0\n",
       "average_flights    0\n",
       "dtype: int64"
      ]
     },
     "execution_count": 13,
     "metadata": {},
     "output_type": "execute_result"
    }
   ],
   "source": [
    "# определим количество пропущенных значений в таблице\n",
    "city_flights.isnull().sum()"
   ]
  },
  {
   "cell_type": "code",
   "execution_count": 14,
   "metadata": {},
   "outputs": [
    {
     "data": {
      "text/plain": [
       "0"
      ]
     },
     "execution_count": 14,
     "metadata": {},
     "output_type": "execute_result"
    }
   ],
   "source": [
    "# посчитаем количество дубликатов\n",
    "city_flights.duplicated().sum()"
   ]
  },
  {
   "cell_type": "markdown",
   "metadata": {},
   "source": [
    "### Вывод"
   ]
  },
  {
   "cell_type": "markdown",
   "metadata": {},
   "source": [
    "1. В таблице `model_flights` 8 строк и 2 столбца с данными о количестве рейсов на каждой модели самолёта с вылетом в сентябре 2018 года, значения в одном столбце относятся к строковому типу, в другом - к целочисленному. Пропусков и дубликатов в данных нет, замена типа данных не требуется.   \n",
    "2. В таблице `city_flights` 101 строка и 2 столбца с данными о среднем количестве прибывающих рейсов в день для каждого города за август 2018 года, значения в одном столбце относятся к строковому типу, в другом - к вешественному. Пропусков и дубликатов в данных нет, замена типа данных также не требуется. В то же время целесообразно округлить значения среднего количества рейсов до двух знаков после запятой."
   ]
  },
  {
   "cell_type": "markdown",
   "metadata": {},
   "source": [
    "### Предобработка и подготовка данных\n",
    "<a name=\"preprocessing\"></a>"
   ]
  },
  {
   "cell_type": "code",
   "execution_count": 15,
   "metadata": {},
   "outputs": [
    {
     "data": {
      "text/html": [
       "<div>\n",
       "<style scoped>\n",
       "    .dataframe tbody tr th:only-of-type {\n",
       "        vertical-align: middle;\n",
       "    }\n",
       "\n",
       "    .dataframe tbody tr th {\n",
       "        vertical-align: top;\n",
       "    }\n",
       "\n",
       "    .dataframe thead th {\n",
       "        text-align: right;\n",
       "    }\n",
       "</style>\n",
       "<table border=\"1\" class=\"dataframe\">\n",
       "  <thead>\n",
       "    <tr style=\"text-align: right;\">\n",
       "      <th></th>\n",
       "      <th>city</th>\n",
       "      <th>average_flights</th>\n",
       "    </tr>\n",
       "  </thead>\n",
       "  <tbody>\n",
       "    <tr>\n",
       "      <th>0</th>\n",
       "      <td>Абакан</td>\n",
       "      <td>3.87</td>\n",
       "    </tr>\n",
       "    <tr>\n",
       "      <th>1</th>\n",
       "      <td>Анадырь</td>\n",
       "      <td>1.00</td>\n",
       "    </tr>\n",
       "    <tr>\n",
       "      <th>2</th>\n",
       "      <td>Анапа</td>\n",
       "      <td>2.16</td>\n",
       "    </tr>\n",
       "    <tr>\n",
       "      <th>3</th>\n",
       "      <td>Архангельск</td>\n",
       "      <td>5.35</td>\n",
       "    </tr>\n",
       "    <tr>\n",
       "      <th>4</th>\n",
       "      <td>Астрахань</td>\n",
       "      <td>2.45</td>\n",
       "    </tr>\n",
       "    <tr>\n",
       "      <th>5</th>\n",
       "      <td>Барнаул</td>\n",
       "      <td>2.61</td>\n",
       "    </tr>\n",
       "    <tr>\n",
       "      <th>6</th>\n",
       "      <td>Белгород</td>\n",
       "      <td>6.00</td>\n",
       "    </tr>\n",
       "    <tr>\n",
       "      <th>7</th>\n",
       "      <td>Белоярский</td>\n",
       "      <td>2.00</td>\n",
       "    </tr>\n",
       "    <tr>\n",
       "      <th>8</th>\n",
       "      <td>Благовещенск</td>\n",
       "      <td>1.00</td>\n",
       "    </tr>\n",
       "    <tr>\n",
       "      <th>9</th>\n",
       "      <td>Братск</td>\n",
       "      <td>1.00</td>\n",
       "    </tr>\n",
       "  </tbody>\n",
       "</table>\n",
       "</div>"
      ],
      "text/plain": [
       "           city  average_flights\n",
       "0        Абакан             3.87\n",
       "1       Анадырь             1.00\n",
       "2         Анапа             2.16\n",
       "3   Архангельск             5.35\n",
       "4     Астрахань             2.45\n",
       "5       Барнаул             2.61\n",
       "6      Белгород             6.00\n",
       "7    Белоярский             2.00\n",
       "8  Благовещенск             1.00\n",
       "9        Братск             1.00"
      ]
     },
     "execution_count": 15,
     "metadata": {},
     "output_type": "execute_result"
    }
   ],
   "source": [
    "# округлим значения среднего количества рейсов до двух знаков после запятой\n",
    "city_flights['average_flights'] = round(city_flights['average_flights'], 2)\n",
    "city_flights.head(10)"
   ]
  },
  {
   "cell_type": "markdown",
   "metadata": {},
   "source": [
    "По условиям задания анализ необходимо провести не по среднему количеству рейсов, а по общему, поэтому создадим соответствующий столбец."
   ]
  },
  {
   "cell_type": "code",
   "execution_count": 16,
   "metadata": {},
   "outputs": [
    {
     "data": {
      "text/html": [
       "<div>\n",
       "<style scoped>\n",
       "    .dataframe tbody tr th:only-of-type {\n",
       "        vertical-align: middle;\n",
       "    }\n",
       "\n",
       "    .dataframe tbody tr th {\n",
       "        vertical-align: top;\n",
       "    }\n",
       "\n",
       "    .dataframe thead th {\n",
       "        text-align: right;\n",
       "    }\n",
       "</style>\n",
       "<table border=\"1\" class=\"dataframe\">\n",
       "  <thead>\n",
       "    <tr style=\"text-align: right;\">\n",
       "      <th></th>\n",
       "      <th>city</th>\n",
       "      <th>average_flights</th>\n",
       "      <th>total_flights</th>\n",
       "    </tr>\n",
       "  </thead>\n",
       "  <tbody>\n",
       "    <tr>\n",
       "      <th>0</th>\n",
       "      <td>Абакан</td>\n",
       "      <td>3.87</td>\n",
       "      <td>120</td>\n",
       "    </tr>\n",
       "    <tr>\n",
       "      <th>1</th>\n",
       "      <td>Анадырь</td>\n",
       "      <td>1.00</td>\n",
       "      <td>31</td>\n",
       "    </tr>\n",
       "    <tr>\n",
       "      <th>2</th>\n",
       "      <td>Анапа</td>\n",
       "      <td>2.16</td>\n",
       "      <td>67</td>\n",
       "    </tr>\n",
       "    <tr>\n",
       "      <th>3</th>\n",
       "      <td>Архангельск</td>\n",
       "      <td>5.35</td>\n",
       "      <td>166</td>\n",
       "    </tr>\n",
       "    <tr>\n",
       "      <th>4</th>\n",
       "      <td>Астрахань</td>\n",
       "      <td>2.45</td>\n",
       "      <td>76</td>\n",
       "    </tr>\n",
       "    <tr>\n",
       "      <th>5</th>\n",
       "      <td>Барнаул</td>\n",
       "      <td>2.61</td>\n",
       "      <td>81</td>\n",
       "    </tr>\n",
       "    <tr>\n",
       "      <th>6</th>\n",
       "      <td>Белгород</td>\n",
       "      <td>6.00</td>\n",
       "      <td>186</td>\n",
       "    </tr>\n",
       "    <tr>\n",
       "      <th>7</th>\n",
       "      <td>Белоярский</td>\n",
       "      <td>2.00</td>\n",
       "      <td>62</td>\n",
       "    </tr>\n",
       "    <tr>\n",
       "      <th>8</th>\n",
       "      <td>Благовещенск</td>\n",
       "      <td>1.00</td>\n",
       "      <td>31</td>\n",
       "    </tr>\n",
       "    <tr>\n",
       "      <th>9</th>\n",
       "      <td>Братск</td>\n",
       "      <td>1.00</td>\n",
       "      <td>31</td>\n",
       "    </tr>\n",
       "  </tbody>\n",
       "</table>\n",
       "</div>"
      ],
      "text/plain": [
       "           city  average_flights  total_flights\n",
       "0        Абакан             3.87            120\n",
       "1       Анадырь             1.00             31\n",
       "2         Анапа             2.16             67\n",
       "3   Архангельск             5.35            166\n",
       "4     Астрахань             2.45             76\n",
       "5       Барнаул             2.61             81\n",
       "6      Белгород             6.00            186\n",
       "7    Белоярский             2.00             62\n",
       "8  Благовещенск             1.00             31\n",
       "9        Братск             1.00             31"
      ]
     },
     "execution_count": 16,
     "metadata": {},
     "output_type": "execute_result"
    }
   ],
   "source": [
    "# создадим столбец количества рейсов по городам\n",
    "city_flights['total_flights'] = (city_flights['average_flights'] * 31).round(0)\\\n",
    "                                                                      .astype('int')\n",
    "city_flights.head(10)"
   ]
  },
  {
   "cell_type": "markdown",
   "metadata": {},
   "source": [
    "### Вывод"
   ]
  },
  {
   "cell_type": "markdown",
   "metadata": {},
   "source": [
    "Для удобства в дальнейшем исследовании в таблице `city_flights` значения среднего количества рейсов округлили до двух знаков после запятой. Кроме того, создали столбец с общим количеством рейсов по городам, значения в котором привели к целым числам."
   ]
  },
  {
   "cell_type": "markdown",
   "metadata": {},
   "source": [
    "### Парсинг и работа с базой данных\n",
    "<a name=\"parsing\"></a> \n"
   ]
  },
  {
   "cell_type": "markdown",
   "metadata": {},
   "source": [
    "Напишем парсер для сбора с [сайта](https://code.s3.yandex.net/learning-materials/data-analyst/festival_news/index.html) данных о крупнейших фестивалях 2018 года."
   ]
  },
  {
   "cell_type": "code",
   "execution_count": 17,
   "metadata": {},
   "outputs": [
    {
     "data": {
      "text/html": [
       "<div>\n",
       "<style scoped>\n",
       "    .dataframe tbody tr th:only-of-type {\n",
       "        vertical-align: middle;\n",
       "    }\n",
       "\n",
       "    .dataframe tbody tr th {\n",
       "        vertical-align: top;\n",
       "    }\n",
       "\n",
       "    .dataframe thead th {\n",
       "        text-align: right;\n",
       "    }\n",
       "</style>\n",
       "<table border=\"1\" class=\"dataframe\">\n",
       "  <thead>\n",
       "    <tr style=\"text-align: right;\">\n",
       "      <th></th>\n",
       "      <th>Название фестиваля</th>\n",
       "      <th>Место проведения</th>\n",
       "      <th>Дата проведения</th>\n",
       "    </tr>\n",
       "  </thead>\n",
       "  <tbody>\n",
       "    <tr>\n",
       "      <th>0</th>\n",
       "      <td>Музыкальный фестиваль «Усадьба Jazz»</td>\n",
       "      <td>Екатеринбург</td>\n",
       "      <td>01.07.2018</td>\n",
       "    </tr>\n",
       "    <tr>\n",
       "      <th>1</th>\n",
       "      <td>Фестиваль музыки и технологий Alfa Future People</td>\n",
       "      <td>Нижний Новгород</td>\n",
       "      <td>10.08.2018</td>\n",
       "    </tr>\n",
       "    <tr>\n",
       "      <th>2</th>\n",
       "      <td>Фестиваль еды «О, да! Еда!»</td>\n",
       "      <td>Санкт-Петербург</td>\n",
       "      <td>21.07.2018</td>\n",
       "    </tr>\n",
       "    <tr>\n",
       "      <th>3</th>\n",
       "      <td>Доброфест</td>\n",
       "      <td>Ярославль</td>\n",
       "      <td>29.07.2018</td>\n",
       "    </tr>\n",
       "    <tr>\n",
       "      <th>4</th>\n",
       "      <td>Park Live</td>\n",
       "      <td>Москва</td>\n",
       "      <td>28.07.2018</td>\n",
       "    </tr>\n",
       "    <tr>\n",
       "      <th>5</th>\n",
       "      <td>Пикник Афиши</td>\n",
       "      <td>Москва</td>\n",
       "      <td>04.08.2018</td>\n",
       "    </tr>\n",
       "    <tr>\n",
       "      <th>6</th>\n",
       "      <td>VK FEST</td>\n",
       "      <td>Санкт-Петербург</td>\n",
       "      <td>29.07.2018</td>\n",
       "    </tr>\n",
       "    <tr>\n",
       "      <th>7</th>\n",
       "      <td>Фестиваль «О, да! Еда!»</td>\n",
       "      <td>Иркутск</td>\n",
       "      <td>25.08.2018</td>\n",
       "    </tr>\n",
       "    <tr>\n",
       "      <th>8</th>\n",
       "      <td>Фестиваль «О, да! Еда!»</td>\n",
       "      <td>Владивосток</td>\n",
       "      <td>02.09.2018</td>\n",
       "    </tr>\n",
       "    <tr>\n",
       "      <th>9</th>\n",
       "      <td>Видфест</td>\n",
       "      <td>Москва</td>\n",
       "      <td>08.09.2018</td>\n",
       "    </tr>\n",
       "    <tr>\n",
       "      <th>10</th>\n",
       "      <td>«Нашествие 2018»</td>\n",
       "      <td>Тверь</td>\n",
       "      <td>05.08.2018</td>\n",
       "    </tr>\n",
       "  </tbody>\n",
       "</table>\n",
       "</div>"
      ],
      "text/plain": [
       "                                  Название фестиваля Место проведения  \\\n",
       "0               Музыкальный фестиваль «Усадьба Jazz»     Екатеринбург   \n",
       "1   Фестиваль музыки и технологий Alfa Future People  Нижний Новгород   \n",
       "2                        Фестиваль еды «О, да! Еда!»  Санкт-Петербург   \n",
       "3                                          Доброфест        Ярославль   \n",
       "4                                          Park Live           Москва   \n",
       "5                                       Пикник Афиши           Москва   \n",
       "6                                            VK FEST  Санкт-Петербург   \n",
       "7                            Фестиваль «О, да! Еда!»          Иркутск   \n",
       "8                            Фестиваль «О, да! Еда!»      Владивосток   \n",
       "9                                            Видфест           Москва   \n",
       "10                                  «Нашествие 2018»            Тверь   \n",
       "\n",
       "   Дата проведения  \n",
       "0       01.07.2018  \n",
       "1       10.08.2018  \n",
       "2       21.07.2018  \n",
       "3       29.07.2018  \n",
       "4       28.07.2018  \n",
       "5       04.08.2018  \n",
       "6       29.07.2018  \n",
       "7       25.08.2018  \n",
       "8       02.09.2018  \n",
       "9       08.09.2018  \n",
       "10      05.08.2018  "
      ]
     },
     "execution_count": 17,
     "metadata": {},
     "output_type": "execute_result"
    }
   ],
   "source": [
    "# напишем парсер\n",
    "URL = 'https://code.s3.yandex.net/learning-materials/data-analyst/festival_news/index.html'\n",
    "req = requests.get(URL)\n",
    "soup = BeautifulSoup(req.text, 'lxml')\n",
    "fest_head = []\n",
    "for row in soup.find_all('th'):\n",
    "    fest_head.append(row.text)\n",
    "fest_content = []\n",
    "for row in soup.find_all('tr'):\n",
    "    if not row.find_all('th'):\n",
    "        fest_content.append([element.text for element in row.find_all('td')])\n",
    "festivals = pd.DataFrame(fest_content, columns = fest_head)        \n",
    "festivals"
   ]
  },
  {
   "cell_type": "markdown",
   "metadata": {},
   "source": [
    "Работа с базой данных осуществлена в тренажере.   \n",
    "<br>Результаты работы с базой данных:  \n",
    "1. Изучена таблица `airports` и выведен список городов, в которых есть аэропорты.     \n",
    "2. Изучена таблица `flights` и подсчитано количество вылетов из каждого аэропорта вылета. Установлено, что количество вылетов варьируется от 34 до 6 376, то есть загруженность аэропортов значительно различается между собой.     \n",
    "3. Найдено количество рейсов на каждой модели самолёта с вылетом в сентябре 2018 года. Результаты запроса сохранены в таблице `model_flights` для дальнейшего анализа.  \n",
    "4. Подсчитано количество рейсов по всем моделям самолётов \"Boeing\", \"Airbus\" и другим в сентябре 2018 года. Установлено, что для \"Airbus\" оно составило 1 567, для \"Boeing\" - 1 530, других моделей - 13 188.  \n",
    "5. Подсчитано среднее количество прибывающих рейсов в день для каждого города за август 2018 года. Результаты запроса сохранены в таблице `city_flights` для дальнейшего анализа. \n",
    "6. Установлены фестивали, которые проходили с 23 июля по 30 сентября 2018 года в Москве, и номер недели, в которую они проходили. Выявлено три таких фестиваля: \"Park Live\" в тридцатую неделю, \"Пикник Афиши\" - в тридцать первую, \"Видфест\" - в тридцать шестую.  \n",
    "7. Для каждой недели с 23 июля по 30 сентября 2018 года подсчитано количество билетов, купленных на рейсы в Москву. Гипотеза, что количество рейсов во время фестивалей увеличивается, не нашла своего подверждения.  "
   ]
  },
  {
   "cell_type": "markdown",
   "metadata": {},
   "source": [
    "### Анализ данных средствами Python\n",
    "<a name=\"analysis\"></a>"
   ]
  },
  {
   "cell_type": "markdown",
   "metadata": {},
   "source": [
    "##### Анализ зависимости количества рейсов от города"
   ]
  },
  {
   "cell_type": "markdown",
   "metadata": {},
   "source": [
    "Чтобы проанализировать зависимость количества рейсов от города, необходимо провести категоризацию городов. Целесообразней всего категорировать города по численности населения. Для этого напишем парсер для сбора с [сайта](https://zema.su/blog/polnyi-spisok-vsekh-gorodov-rossii-po-chislennosti-naseleniya) данных о населении по городам России."
   ]
  },
  {
   "cell_type": "code",
   "execution_count": 18,
   "metadata": {},
   "outputs": [
    {
     "data": {
      "text/html": [
       "<div>\n",
       "<style scoped>\n",
       "    .dataframe tbody tr th:only-of-type {\n",
       "        vertical-align: middle;\n",
       "    }\n",
       "\n",
       "    .dataframe tbody tr th {\n",
       "        vertical-align: top;\n",
       "    }\n",
       "\n",
       "    .dataframe thead th {\n",
       "        text-align: right;\n",
       "    }\n",
       "</style>\n",
       "<table border=\"1\" class=\"dataframe\">\n",
       "  <thead>\n",
       "    <tr style=\"text-align: right;\">\n",
       "      <th></th>\n",
       "      <th>city</th>\n",
       "      <th>population</th>\n",
       "    </tr>\n",
       "  </thead>\n",
       "  <tbody>\n",
       "    <tr>\n",
       "      <th>0</th>\n",
       "      <td>Москва</td>\n",
       "      <td>11514330</td>\n",
       "    </tr>\n",
       "    <tr>\n",
       "      <th>1</th>\n",
       "      <td>Санкт-Петербург</td>\n",
       "      <td>4848742</td>\n",
       "    </tr>\n",
       "    <tr>\n",
       "      <th>2</th>\n",
       "      <td>Новосибирск</td>\n",
       "      <td>1473737</td>\n",
       "    </tr>\n",
       "    <tr>\n",
       "      <th>3</th>\n",
       "      <td>Екатеринбург</td>\n",
       "      <td>1350136</td>\n",
       "    </tr>\n",
       "    <tr>\n",
       "      <th>4</th>\n",
       "      <td>Нижний Новгород</td>\n",
       "      <td>1250615</td>\n",
       "    </tr>\n",
       "    <tr>\n",
       "      <th>5</th>\n",
       "      <td>Самара</td>\n",
       "      <td>1164896</td>\n",
       "    </tr>\n",
       "    <tr>\n",
       "      <th>6</th>\n",
       "      <td>Омск</td>\n",
       "      <td>1153971</td>\n",
       "    </tr>\n",
       "    <tr>\n",
       "      <th>7</th>\n",
       "      <td>Казань</td>\n",
       "      <td>1143546</td>\n",
       "    </tr>\n",
       "    <tr>\n",
       "      <th>8</th>\n",
       "      <td>Челябинск</td>\n",
       "      <td>1130273</td>\n",
       "    </tr>\n",
       "    <tr>\n",
       "      <th>9</th>\n",
       "      <td>Ростов-на-Дону</td>\n",
       "      <td>1089851</td>\n",
       "    </tr>\n",
       "  </tbody>\n",
       "</table>\n",
       "</div>"
      ],
      "text/plain": [
       "              city population\n",
       "0           Москва   11514330\n",
       "1  Санкт-Петербург    4848742\n",
       "2      Новосибирск    1473737\n",
       "3     Екатеринбург    1350136\n",
       "4  Нижний Новгород    1250615\n",
       "5           Самара    1164896\n",
       "6             Омск    1153971\n",
       "7           Казань    1143546\n",
       "8        Челябинск    1130273\n",
       "9   Ростов-на-Дону    1089851"
      ]
     },
     "execution_count": 18,
     "metadata": {},
     "output_type": "execute_result"
    }
   ],
   "source": [
    "# напишем парсер\n",
    "URL = 'https://zema.su/blog/polnyi-spisok-vsekh-gorodov-rossii-po-chislennosti-naseleniya'\n",
    "req = requests.get(URL)\n",
    "soup = BeautifulSoup(req.text, 'lxml')\n",
    "head = ['#', 'city', 'population']\n",
    "content = []\n",
    "for row in soup.find_all('tr'):\n",
    "    content.append([element.text for element in row.find_all('p', attrs = {'class':'rtecenter'})])\n",
    "city_population = pd.DataFrame(content, columns = head)\n",
    "city_population = city_population.drop(['#'], axis = 1)\n",
    "city_population = city_population.drop(index = [0]).reset_index(drop = True)\n",
    "city_population.head(10)"
   ]
  },
  {
   "cell_type": "code",
   "execution_count": 19,
   "metadata": {},
   "outputs": [
    {
     "name": "stdout",
     "output_type": "stream",
     "text": [
      "<class 'pandas.core.frame.DataFrame'>\n",
      "RangeIndex: 1109 entries, 0 to 1108\n",
      "Data columns (total 2 columns):\n",
      " #   Column      Non-Null Count  Dtype \n",
      "---  ------      --------------  ----- \n",
      " 0   city        1109 non-null   object\n",
      " 1   population  1109 non-null   object\n",
      "dtypes: object(2)\n",
      "memory usage: 17.5+ KB\n"
     ]
    }
   ],
   "source": [
    "# посмотрим сводную информацию полученной таблицы\n",
    "city_population.info()"
   ]
  },
  {
   "cell_type": "markdown",
   "metadata": {},
   "source": [
    "Значения численности населения относятся к строковому типу, необходимо привести их к целым числам."
   ]
  },
  {
   "cell_type": "code",
   "execution_count": 20,
   "metadata": {},
   "outputs": [
    {
     "name": "stdout",
     "output_type": "stream",
     "text": [
      "<class 'pandas.core.frame.DataFrame'>\n",
      "RangeIndex: 1109 entries, 0 to 1108\n",
      "Data columns (total 2 columns):\n",
      " #   Column      Non-Null Count  Dtype \n",
      "---  ------      --------------  ----- \n",
      " 0   city        1109 non-null   object\n",
      " 1   population  1109 non-null   int32 \n",
      "dtypes: int32(1), object(1)\n",
      "memory usage: 13.1+ KB\n"
     ]
    }
   ],
   "source": [
    "# приведем значения столбца таблицы с численностью населения к целым числам\n",
    "city_population['population'] = city_population['population'].astype('int')\n",
    "city_population.info()"
   ]
  },
  {
   "cell_type": "markdown",
   "metadata": {},
   "source": [
    "Предположим, что имеются города с одинаковым названием."
   ]
  },
  {
   "cell_type": "code",
   "execution_count": 21,
   "metadata": {},
   "outputs": [
    {
     "data": {
      "text/plain": [
       "Советск           3\n",
       "Радужный          2\n",
       "Фокино            2\n",
       "Красноармейск     2\n",
       "Берёзовский       2\n",
       "Приморск          2\n",
       "Павловск          2\n",
       "Гурьевск          2\n",
       "Никольск          2\n",
       "Михайловск        2\n",
       "Зеленогорск       2\n",
       "Кировск           2\n",
       "Краснослободск    2\n",
       "Железногорск      2\n",
       "Мирный            2\n",
       "Благовещенск      2\n",
       "Краснознаменск    2\n",
       "Озёрск            2\n",
       "Заречный          2\n",
       "Троицк            2\n",
       "Киров             2\n",
       "Зубцов            1\n",
       "Пугачёв           1\n",
       "Владивосток       1\n",
       "Муравленко        1\n",
       "Name: city, dtype: int64"
      ]
     },
     "execution_count": 21,
     "metadata": {},
     "output_type": "execute_result"
    }
   ],
   "source": [
    "# найдем повторяющиеся навания городов в таблице\n",
    "city_population['city'].value_counts().head(25)"
   ]
  },
  {
   "cell_type": "code",
   "execution_count": 22,
   "metadata": {},
   "outputs": [
    {
     "data": {
      "text/plain": [
       "['Советск',\n",
       " 'Радужный',\n",
       " 'Фокино',\n",
       " 'Красноармейск',\n",
       " 'Берёзовский',\n",
       " 'Приморск',\n",
       " 'Павловск',\n",
       " 'Гурьевск',\n",
       " 'Никольск',\n",
       " 'Михайловск',\n",
       " 'Зеленогорск',\n",
       " 'Кировск',\n",
       " 'Краснослободск',\n",
       " 'Железногорск',\n",
       " 'Мирный',\n",
       " 'Благовещенск',\n",
       " 'Краснознаменск',\n",
       " 'Озёрск',\n",
       " 'Заречный',\n",
       " 'Троицк',\n",
       " 'Киров']"
      ]
     },
     "execution_count": 22,
     "metadata": {},
     "output_type": "execute_result"
    }
   ],
   "source": [
    "# составим список городов с повторяющимися наваниями\n",
    "city_duplicates = city_population['city'].value_counts().head(21).index.to_list()\n",
    "city_duplicates"
   ]
  },
  {
   "cell_type": "code",
   "execution_count": 23,
   "metadata": {},
   "outputs": [
    {
     "data": {
      "text/html": [
       "<div>\n",
       "<style scoped>\n",
       "    .dataframe tbody tr th:only-of-type {\n",
       "        vertical-align: middle;\n",
       "    }\n",
       "\n",
       "    .dataframe tbody tr th {\n",
       "        vertical-align: top;\n",
       "    }\n",
       "\n",
       "    .dataframe thead th {\n",
       "        text-align: right;\n",
       "    }\n",
       "</style>\n",
       "<table border=\"1\" class=\"dataframe\">\n",
       "  <thead>\n",
       "    <tr style=\"text-align: right;\">\n",
       "      <th></th>\n",
       "      <th>city</th>\n",
       "      <th>average_flights</th>\n",
       "      <th>total_flights</th>\n",
       "      <th>population</th>\n",
       "    </tr>\n",
       "  </thead>\n",
       "  <tbody>\n",
       "    <tr>\n",
       "      <th>0</th>\n",
       "      <td>Абакан</td>\n",
       "      <td>3.87</td>\n",
       "      <td>120</td>\n",
       "      <td>165183</td>\n",
       "    </tr>\n",
       "    <tr>\n",
       "      <th>1</th>\n",
       "      <td>Анадырь</td>\n",
       "      <td>1.00</td>\n",
       "      <td>31</td>\n",
       "      <td>13053</td>\n",
       "    </tr>\n",
       "    <tr>\n",
       "      <th>2</th>\n",
       "      <td>Анапа</td>\n",
       "      <td>2.16</td>\n",
       "      <td>67</td>\n",
       "      <td>58983</td>\n",
       "    </tr>\n",
       "    <tr>\n",
       "      <th>3</th>\n",
       "      <td>Архангельск</td>\n",
       "      <td>5.35</td>\n",
       "      <td>166</td>\n",
       "      <td>348716</td>\n",
       "    </tr>\n",
       "    <tr>\n",
       "      <th>4</th>\n",
       "      <td>Астрахань</td>\n",
       "      <td>2.45</td>\n",
       "      <td>76</td>\n",
       "      <td>520662</td>\n",
       "    </tr>\n",
       "  </tbody>\n",
       "</table>\n",
       "</div>"
      ],
      "text/plain": [
       "          city  average_flights  total_flights  population\n",
       "0       Абакан             3.87            120      165183\n",
       "1      Анадырь             1.00             31       13053\n",
       "2        Анапа             2.16             67       58983\n",
       "3  Архангельск             5.35            166      348716\n",
       "4    Астрахань             2.45             76      520662"
      ]
     },
     "execution_count": 23,
     "metadata": {},
     "output_type": "execute_result"
    }
   ],
   "source": [
    "# добавим в таблицу столбец с численностью населения\n",
    "city_flights = city_flights.merge(city_population,\n",
    "                                  on = 'city',\n",
    "                                  how ='left')\n",
    "city_flights.head()"
   ]
  },
  {
   "cell_type": "code",
   "execution_count": 24,
   "metadata": {},
   "outputs": [
    {
     "data": {
      "text/html": [
       "<div>\n",
       "<style scoped>\n",
       "    .dataframe tbody tr th:only-of-type {\n",
       "        vertical-align: middle;\n",
       "    }\n",
       "\n",
       "    .dataframe tbody tr th {\n",
       "        vertical-align: top;\n",
       "    }\n",
       "\n",
       "    .dataframe thead th {\n",
       "        text-align: right;\n",
       "    }\n",
       "</style>\n",
       "<table border=\"1\" class=\"dataframe\">\n",
       "  <thead>\n",
       "    <tr style=\"text-align: right;\">\n",
       "      <th></th>\n",
       "      <th>city</th>\n",
       "      <th>average_flights</th>\n",
       "      <th>total_flights</th>\n",
       "      <th>population</th>\n",
       "    </tr>\n",
       "  </thead>\n",
       "  <tbody>\n",
       "    <tr>\n",
       "      <th>8</th>\n",
       "      <td>Благовещенск</td>\n",
       "      <td>1.00</td>\n",
       "      <td>31</td>\n",
       "      <td>214397</td>\n",
       "    </tr>\n",
       "    <tr>\n",
       "      <th>9</th>\n",
       "      <td>Благовещенск</td>\n",
       "      <td>1.00</td>\n",
       "      <td>31</td>\n",
       "      <td>34246</td>\n",
       "    </tr>\n",
       "    <tr>\n",
       "      <th>30</th>\n",
       "      <td>Киров</td>\n",
       "      <td>6.00</td>\n",
       "      <td>186</td>\n",
       "      <td>473668</td>\n",
       "    </tr>\n",
       "    <tr>\n",
       "      <th>31</th>\n",
       "      <td>Киров</td>\n",
       "      <td>6.00</td>\n",
       "      <td>186</td>\n",
       "      <td>31888</td>\n",
       "    </tr>\n",
       "    <tr>\n",
       "      <th>44</th>\n",
       "      <td>Мирный</td>\n",
       "      <td>6.29</td>\n",
       "      <td>195</td>\n",
       "      <td>37179</td>\n",
       "    </tr>\n",
       "    <tr>\n",
       "      <th>45</th>\n",
       "      <td>Мирный</td>\n",
       "      <td>6.29</td>\n",
       "      <td>195</td>\n",
       "      <td>30259</td>\n",
       "    </tr>\n",
       "  </tbody>\n",
       "</table>\n",
       "</div>"
      ],
      "text/plain": [
       "            city  average_flights  total_flights  population\n",
       "8   Благовещенск             1.00             31      214397\n",
       "9   Благовещенск             1.00             31       34246\n",
       "30         Киров             6.00            186      473668\n",
       "31         Киров             6.00            186       31888\n",
       "44        Мирный             6.29            195       37179\n",
       "45        Мирный             6.29            195       30259"
      ]
     },
     "execution_count": 24,
     "metadata": {},
     "output_type": "execute_result"
    }
   ],
   "source": [
    "# найдем в таблице города с повторяющимися наваниями\n",
    "city_flights.loc[city_flights['city'].isin(city_duplicates)]"
   ]
  },
  {
   "cell_type": "markdown",
   "metadata": {},
   "source": [
    "В таблице обнаружилось 3 города с повторяющимся названием."
   ]
  },
  {
   "cell_type": "code",
   "execution_count": 25,
   "metadata": {},
   "outputs": [
    {
     "name": "stdout",
     "output_type": "stream",
     "text": [
      "<class 'pandas.core.frame.DataFrame'>\n",
      "RangeIndex: 101 entries, 0 to 100\n",
      "Data columns (total 4 columns):\n",
      " #   Column           Non-Null Count  Dtype  \n",
      "---  ------           --------------  -----  \n",
      " 0   city             101 non-null    object \n",
      " 1   average_flights  101 non-null    float64\n",
      " 2   total_flights    101 non-null    int32  \n",
      " 3   population       101 non-null    int32  \n",
      "dtypes: float64(1), int32(2), object(1)\n",
      "memory usage: 2.5+ KB\n"
     ]
    }
   ],
   "source": [
    "# удалим строки с городами с повторяющимися наваниями\n",
    "city_flights = city_flights.drop(index = [9, 31, 45]).reset_index(drop = True)\n",
    "city_flights.info()"
   ]
  },
  {
   "cell_type": "markdown",
   "metadata": {},
   "source": [
    "Согласно [классификации](https://ru.wikipedia.org/wiki/Населённые_пункты_в_России) города подразделяются на:   \n",
    "  - крупнейшие —  с населением свыше 1 млн. чел.;   \n",
    "  - крупные —  от 250 тыс. чел. до 1 млн. чел. (в том числе подкатегории от 250 тыс. до 500 тыс. и от 500 тыс. до 1 млн. чел.);  \n",
    "  - большие —  от 100 тыс. до 250 тыс. чел.;  \n",
    "  - средние —  от 50 тыс. до 100 тыс. чел.;  \n",
    "  - малые —  до 50 тыс. чел.   \n",
    "\n",
    "Учитывая очень большое количество рейсов в Москву, выделим ее в отдельную категорию."
   ]
  },
  {
   "cell_type": "code",
   "execution_count": 26,
   "metadata": {},
   "outputs": [
    {
     "data": {
      "text/plain": [
       "от 250 000 до 500 000      26\n",
       "от 500 000 до 1 000 000    21\n",
       "от 100 000 до 250 000      17\n",
       "от 50 000 до 100 000       13\n",
       "до 50 000                  12\n",
       "свыше 1 000 000            11\n",
       "Москва                      1\n",
       "Name: city_group, dtype: int64"
      ]
     },
     "execution_count": 26,
     "metadata": {},
     "output_type": "execute_result"
    }
   ],
   "source": [
    "# создадим функцию и применим ее для категоризации городов по численности населения\n",
    "def city_categorized(population, city):\n",
    "    if population <= 50000:\n",
    "        return 'до 50 000'\n",
    "    if 50000 < population <= 100000:\n",
    "        return 'от 50 000 до 100 000'\n",
    "    if 100000 < population <= 250000:\n",
    "        return 'от 100 000 до 250 000'\n",
    "    if 250000 < population <= 500000:\n",
    "        return 'от 250 000 до 500 000'\n",
    "    if 500000 < population <= 1000000:\n",
    "         return 'от 500 000 до 1 000 000'\n",
    "    if population > 1000000 and city != 'Москва':\n",
    "         return 'свыше 1 000 000'    \n",
    "    return 'Москва'\n",
    "city_flights['city_group'] = city_flights.apply(lambda x: city_categorized(x['population'], x['city']), axis =  1)\n",
    "city_flights['city_group'].value_counts()"
   ]
  },
  {
   "cell_type": "code",
   "execution_count": 27,
   "metadata": {},
   "outputs": [
    {
     "data": {
      "text/html": [
       "<div>\n",
       "<style scoped>\n",
       "    .dataframe tbody tr th:only-of-type {\n",
       "        vertical-align: middle;\n",
       "    }\n",
       "\n",
       "    .dataframe tbody tr th {\n",
       "        vertical-align: top;\n",
       "    }\n",
       "\n",
       "    .dataframe thead th {\n",
       "        text-align: right;\n",
       "    }\n",
       "</style>\n",
       "<table border=\"1\" class=\"dataframe\">\n",
       "  <thead>\n",
       "    <tr style=\"text-align: right;\">\n",
       "      <th></th>\n",
       "      <th>city_group</th>\n",
       "      <th>city_count</th>\n",
       "      <th>total_flights</th>\n",
       "    </tr>\n",
       "  </thead>\n",
       "  <tbody>\n",
       "    <tr>\n",
       "      <th>0</th>\n",
       "      <td>Москва</td>\n",
       "      <td>1</td>\n",
       "      <td>4023</td>\n",
       "    </tr>\n",
       "    <tr>\n",
       "      <th>1</th>\n",
       "      <td>свыше 1 000 000</td>\n",
       "      <td>11</td>\n",
       "      <td>3349</td>\n",
       "    </tr>\n",
       "    <tr>\n",
       "      <th>2</th>\n",
       "      <td>от 250 000 до 500 000</td>\n",
       "      <td>26</td>\n",
       "      <td>3015</td>\n",
       "    </tr>\n",
       "    <tr>\n",
       "      <th>3</th>\n",
       "      <td>от 500 000 до 1 000 000</td>\n",
       "      <td>21</td>\n",
       "      <td>3005</td>\n",
       "    </tr>\n",
       "    <tr>\n",
       "      <th>4</th>\n",
       "      <td>от 100 000 до 250 000</td>\n",
       "      <td>17</td>\n",
       "      <td>1556</td>\n",
       "    </tr>\n",
       "    <tr>\n",
       "      <th>5</th>\n",
       "      <td>от 50 000 до 100 000</td>\n",
       "      <td>13</td>\n",
       "      <td>1225</td>\n",
       "    </tr>\n",
       "    <tr>\n",
       "      <th>6</th>\n",
       "      <td>до 50 000</td>\n",
       "      <td>12</td>\n",
       "      <td>1029</td>\n",
       "    </tr>\n",
       "  </tbody>\n",
       "</table>\n",
       "</div>"
      ],
      "text/plain": [
       "                city_group  city_count  total_flights\n",
       "0                   Москва           1           4023\n",
       "1          свыше 1 000 000          11           3349\n",
       "2    от 250 000 до 500 000          26           3015\n",
       "3  от 500 000 до 1 000 000          21           3005\n",
       "4    от 100 000 до 250 000          17           1556\n",
       "5     от 50 000 до 100 000          13           1225\n",
       "6                до 50 000          12           1029"
      ]
     },
     "execution_count": 27,
     "metadata": {},
     "output_type": "execute_result"
    }
   ],
   "source": [
    "# создадим сводную таблицу с группировкой по категории городов по численности населения\n",
    "pivot_city_flights = city_flights.pivot_table(index = ['city_group'],\n",
    "                                              values = ['total_flights', 'city'],\n",
    "                                              aggfunc = {'total_flights' : 'sum', 'city' : 'count'})\\\n",
    "                                 .rename(columns = {'city' : 'city_count'})\n",
    "pivot_city_flights = pivot_city_flights.sort_values(by = 'total_flights',\n",
    "                                                    ascending = False)\\\n",
    "                                       .reset_index()\n",
    "pivot_city_flights   "
   ]
  },
  {
   "cell_type": "code",
   "execution_count": 28,
   "metadata": {},
   "outputs": [
    {
     "data": {
      "image/png": "[encoded data removed]",
      "text/plain": [
       "<Figure size 1080x648 with 1 Axes>"
      ]
     },
     "metadata": {},
     "output_type": "display_data"
    }
   ],
   "source": [
    "# посмотрим на зависимость количества рейсов от численности населения\n",
    "pivot_city_flights.plot(x = 'city_group',\n",
    "                        y = 'total_flights',\n",
    "                        kind = 'barh',\n",
    "                        cmap = 'coolwarm',\n",
    "                        legend = None) \n",
    "plt.xlabel('Количество рейсов')\n",
    "plt.ylabel('Численность населения, человек')\n",
    "plt.grid(True)\n",
    "plt.title('Зависимость количества рейсов от численности населения')\n",
    "plt.show()"
   ]
  },
  {
   "cell_type": "code",
   "execution_count": 29,
   "metadata": {},
   "outputs": [
    {
     "data": {
      "image/png": "[encoded data removed]",
      "text/plain": [
       "<Figure size 1080x648 with 4 Axes>"
      ]
     },
     "metadata": {},
     "output_type": "display_data"
    }
   ],
   "source": [
    "# построим матрицу рассеяния по значениям численности населения и количества рейсов\n",
    "pd.plotting.scatter_matrix(city_flights.query('city != \"Москва\"')[['population', 'total_flights']])\n",
    "plt.show()"
   ]
  },
  {
   "cell_type": "code",
   "execution_count": 30,
   "metadata": {},
   "outputs": [
    {
     "data": {
      "text/html": [
       "<style  type=\"text/css\" >\n",
       "    #T_2a88982e_32ce_11eb_b75a_342387b8371crow0_col0 {\n",
       "            background-color:  #b40426;\n",
       "            color:  #f1f1f1;\n",
       "        }    #T_2a88982e_32ce_11eb_b75a_342387b8371crow0_col1 {\n",
       "            background-color:  #3b4cc0;\n",
       "            color:  #f1f1f1;\n",
       "        }    #T_2a88982e_32ce_11eb_b75a_342387b8371crow1_col0 {\n",
       "            background-color:  #3b4cc0;\n",
       "            color:  #f1f1f1;\n",
       "        }    #T_2a88982e_32ce_11eb_b75a_342387b8371crow1_col1 {\n",
       "            background-color:  #b40426;\n",
       "            color:  #f1f1f1;\n",
       "        }</style><table id=\"T_2a88982e_32ce_11eb_b75a_342387b8371c\" ><thead>    <tr>        <th class=\"blank level0\" ></th>        <th class=\"col_heading level0 col0\" >population</th>        <th class=\"col_heading level0 col1\" >total_flights</th>    </tr></thead><tbody>\n",
       "                <tr>\n",
       "                        <th id=\"T_2a88982e_32ce_11eb_b75a_342387b8371clevel0_row0\" class=\"row_heading level0 row0\" >population</th>\n",
       "                        <td id=\"T_2a88982e_32ce_11eb_b75a_342387b8371crow0_col0\" class=\"data row0 col0\" >1.000000</td>\n",
       "                        <td id=\"T_2a88982e_32ce_11eb_b75a_342387b8371crow0_col1\" class=\"data row0 col1\" >0.770000</td>\n",
       "            </tr>\n",
       "            <tr>\n",
       "                        <th id=\"T_2a88982e_32ce_11eb_b75a_342387b8371clevel0_row1\" class=\"row_heading level0 row1\" >total_flights</th>\n",
       "                        <td id=\"T_2a88982e_32ce_11eb_b75a_342387b8371crow1_col0\" class=\"data row1 col0\" >0.770000</td>\n",
       "                        <td id=\"T_2a88982e_32ce_11eb_b75a_342387b8371crow1_col1\" class=\"data row1 col1\" >1.000000</td>\n",
       "            </tr>\n",
       "    </tbody></table>"
      ],
      "text/plain": [
       "<pandas.io.formats.style.Styler at 0x2508cb7f730>"
      ]
     },
     "execution_count": 30,
     "metadata": {},
     "output_type": "execute_result"
    }
   ],
   "source": [
    "# рассчитаем коэффициенты корреляции значений численности населения и количества рейсов\n",
    "corr = city_flights.query('city != \"Москва\"')[['population', 'total_flights']].corr().round(2)\n",
    "corr.style.background_gradient(cmap = 'coolwarm')"
   ]
  },
  {
   "cell_type": "markdown",
   "metadata": {},
   "source": [
    "График зависимости количества рейсов от численности населения, матрица рассеяния и рассчитанный коэффициент корреляции показывают высокую прямую зависимость между категорией населенного пункта и количеством рейсов в него: чем крупнее город, тем больше в него рейсов."
   ]
  },
  {
   "cell_type": "markdown",
   "metadata": {},
   "source": [
    "Проанализируем топ-10 городов с наибольшим количеством рейсов."
   ]
  },
  {
   "cell_type": "code",
   "execution_count": 31,
   "metadata": {},
   "outputs": [
    {
     "data": {
      "text/html": [
       "<div>\n",
       "<style scoped>\n",
       "    .dataframe tbody tr th:only-of-type {\n",
       "        vertical-align: middle;\n",
       "    }\n",
       "\n",
       "    .dataframe tbody tr th {\n",
       "        vertical-align: top;\n",
       "    }\n",
       "\n",
       "    .dataframe thead th {\n",
       "        text-align: right;\n",
       "    }\n",
       "</style>\n",
       "<table border=\"1\" class=\"dataframe\">\n",
       "  <thead>\n",
       "    <tr style=\"text-align: right;\">\n",
       "      <th></th>\n",
       "      <th>city</th>\n",
       "      <th>average_flights</th>\n",
       "      <th>total_flights</th>\n",
       "      <th>population</th>\n",
       "      <th>city_group</th>\n",
       "    </tr>\n",
       "  </thead>\n",
       "  <tbody>\n",
       "    <tr>\n",
       "      <th>0</th>\n",
       "      <td>Москва</td>\n",
       "      <td>129.77</td>\n",
       "      <td>4023</td>\n",
       "      <td>11514330</td>\n",
       "      <td>Москва</td>\n",
       "    </tr>\n",
       "    <tr>\n",
       "      <th>1</th>\n",
       "      <td>Санкт-Петербург</td>\n",
       "      <td>31.16</td>\n",
       "      <td>966</td>\n",
       "      <td>4848742</td>\n",
       "      <td>свыше 1 000 000</td>\n",
       "    </tr>\n",
       "    <tr>\n",
       "      <th>2</th>\n",
       "      <td>Новосибирск</td>\n",
       "      <td>17.32</td>\n",
       "      <td>537</td>\n",
       "      <td>1473737</td>\n",
       "      <td>свыше 1 000 000</td>\n",
       "    </tr>\n",
       "    <tr>\n",
       "      <th>3</th>\n",
       "      <td>Красноярск</td>\n",
       "      <td>11.58</td>\n",
       "      <td>359</td>\n",
       "      <td>973891</td>\n",
       "      <td>от 500 000 до 1 000 000</td>\n",
       "    </tr>\n",
       "    <tr>\n",
       "      <th>4</th>\n",
       "      <td>Екатеринбург</td>\n",
       "      <td>11.32</td>\n",
       "      <td>351</td>\n",
       "      <td>1350136</td>\n",
       "      <td>свыше 1 000 000</td>\n",
       "    </tr>\n",
       "    <tr>\n",
       "      <th>5</th>\n",
       "      <td>Ростов-на-Дону</td>\n",
       "      <td>10.19</td>\n",
       "      <td>316</td>\n",
       "      <td>1089851</td>\n",
       "      <td>свыше 1 000 000</td>\n",
       "    </tr>\n",
       "    <tr>\n",
       "      <th>6</th>\n",
       "      <td>Пермь</td>\n",
       "      <td>10.13</td>\n",
       "      <td>314</td>\n",
       "      <td>991530</td>\n",
       "      <td>от 500 000 до 1 000 000</td>\n",
       "    </tr>\n",
       "    <tr>\n",
       "      <th>7</th>\n",
       "      <td>Брянск</td>\n",
       "      <td>10.00</td>\n",
       "      <td>310</td>\n",
       "      <td>415640</td>\n",
       "      <td>от 250 000 до 500 000</td>\n",
       "    </tr>\n",
       "    <tr>\n",
       "      <th>8</th>\n",
       "      <td>Сочи</td>\n",
       "      <td>9.61</td>\n",
       "      <td>298</td>\n",
       "      <td>343285</td>\n",
       "      <td>от 250 000 до 500 000</td>\n",
       "    </tr>\n",
       "    <tr>\n",
       "      <th>9</th>\n",
       "      <td>Ульяновск</td>\n",
       "      <td>9.58</td>\n",
       "      <td>297</td>\n",
       "      <td>613793</td>\n",
       "      <td>от 500 000 до 1 000 000</td>\n",
       "    </tr>\n",
       "  </tbody>\n",
       "</table>\n",
       "</div>"
      ],
      "text/plain": [
       "              city  average_flights  total_flights  population  \\\n",
       "0           Москва           129.77           4023    11514330   \n",
       "1  Санкт-Петербург            31.16            966     4848742   \n",
       "2      Новосибирск            17.32            537     1473737   \n",
       "3       Красноярск            11.58            359      973891   \n",
       "4     Екатеринбург            11.32            351     1350136   \n",
       "5   Ростов-на-Дону            10.19            316     1089851   \n",
       "6            Пермь            10.13            314      991530   \n",
       "7           Брянск            10.00            310      415640   \n",
       "8             Сочи             9.61            298      343285   \n",
       "9        Ульяновск             9.58            297      613793   \n",
       "\n",
       "                city_group  \n",
       "0                   Москва  \n",
       "1          свыше 1 000 000  \n",
       "2          свыше 1 000 000  \n",
       "3  от 500 000 до 1 000 000  \n",
       "4          свыше 1 000 000  \n",
       "5          свыше 1 000 000  \n",
       "6  от 500 000 до 1 000 000  \n",
       "7    от 250 000 до 500 000  \n",
       "8    от 250 000 до 500 000  \n",
       "9  от 500 000 до 1 000 000  "
      ]
     },
     "execution_count": 31,
     "metadata": {},
     "output_type": "execute_result"
    }
   ],
   "source": [
    "# выделим топ-10 городов с наибольшим количеством рейсов\n",
    "top_city_flights = city_flights.sort_values(by = 'total_flights',\n",
    "                                            ascending = False)\\\n",
    "                               .head(10)\\\n",
    "                               .reset_index(drop = True)\n",
    "top_city_flights"
   ]
  },
  {
   "cell_type": "code",
   "execution_count": 32,
   "metadata": {},
   "outputs": [
    {
     "data": {
      "image/png": "[encoded data removed]",
      "text/plain": [
       "<Figure size 1080x648 with 1 Axes>"
      ]
     },
     "metadata": {},
     "output_type": "display_data"
    }
   ],
   "source": [
    "# посмотрим на зависимость количества рейсов от города\n",
    "top_city_flights.plot(x = 'city',\n",
    "                      y = 'total_flights',\n",
    "                      kind = 'barh',\n",
    "                      cmap = 'coolwarm',\n",
    "                      legend = None) \n",
    "plt.xlabel('Количество рейсов')\n",
    "plt.ylabel('Город')\n",
    "plt.grid(True)\n",
    "plt.title('Зависимость количества рейсов от города')\n",
    "plt.show()"
   ]
  },
  {
   "cell_type": "markdown",
   "metadata": {},
   "source": [
    "Наибольшее количество рейсов осуществляется в Москву. Москва имеет несколько аэропортов, каждый из которых является хабом для различных авиакомпаний, принимая не только внутренние, но и международные рейсы. Для авиакомпании «F9», скорее всего, существует большое число рейсов, стыковка которых осуществляется в Москве. Присутствие остальных городов в топ-10 по количеству рейсов в основном подтверждает изложенную ранее закономерность: чем крупнее город, тем больше в него рейсов."
   ]
  },
  {
   "cell_type": "markdown",
   "metadata": {},
   "source": [
    "Проанализируем топ-10 городов с наибольшим количеством рейсов на 1 000 населения."
   ]
  },
  {
   "cell_type": "code",
   "execution_count": 33,
   "metadata": {},
   "outputs": [
    {
     "data": {
      "text/html": [
       "<div>\n",
       "<style scoped>\n",
       "    .dataframe tbody tr th:only-of-type {\n",
       "        vertical-align: middle;\n",
       "    }\n",
       "\n",
       "    .dataframe tbody tr th {\n",
       "        vertical-align: top;\n",
       "    }\n",
       "\n",
       "    .dataframe thead th {\n",
       "        text-align: right;\n",
       "    }\n",
       "</style>\n",
       "<table border=\"1\" class=\"dataframe\">\n",
       "  <thead>\n",
       "    <tr style=\"text-align: right;\">\n",
       "      <th></th>\n",
       "      <th>city</th>\n",
       "      <th>average_flights</th>\n",
       "      <th>total_flights</th>\n",
       "      <th>population</th>\n",
       "      <th>city_group</th>\n",
       "      <th>flights_per_thousand_population</th>\n",
       "    </tr>\n",
       "  </thead>\n",
       "  <tbody>\n",
       "    <tr>\n",
       "      <th>0</th>\n",
       "      <td>Абакан</td>\n",
       "      <td>3.87</td>\n",
       "      <td>120</td>\n",
       "      <td>165183</td>\n",
       "      <td>от 100 000 до 250 000</td>\n",
       "      <td>0.73</td>\n",
       "    </tr>\n",
       "    <tr>\n",
       "      <th>1</th>\n",
       "      <td>Анадырь</td>\n",
       "      <td>1.00</td>\n",
       "      <td>31</td>\n",
       "      <td>13053</td>\n",
       "      <td>до 50 000</td>\n",
       "      <td>2.37</td>\n",
       "    </tr>\n",
       "    <tr>\n",
       "      <th>2</th>\n",
       "      <td>Анапа</td>\n",
       "      <td>2.16</td>\n",
       "      <td>67</td>\n",
       "      <td>58983</td>\n",
       "      <td>от 50 000 до 100 000</td>\n",
       "      <td>1.14</td>\n",
       "    </tr>\n",
       "    <tr>\n",
       "      <th>3</th>\n",
       "      <td>Архангельск</td>\n",
       "      <td>5.35</td>\n",
       "      <td>166</td>\n",
       "      <td>348716</td>\n",
       "      <td>от 250 000 до 500 000</td>\n",
       "      <td>0.48</td>\n",
       "    </tr>\n",
       "    <tr>\n",
       "      <th>4</th>\n",
       "      <td>Астрахань</td>\n",
       "      <td>2.45</td>\n",
       "      <td>76</td>\n",
       "      <td>520662</td>\n",
       "      <td>от 500 000 до 1 000 000</td>\n",
       "      <td>0.15</td>\n",
       "    </tr>\n",
       "  </tbody>\n",
       "</table>\n",
       "</div>"
      ],
      "text/plain": [
       "          city  average_flights  total_flights  population  \\\n",
       "0       Абакан             3.87            120      165183   \n",
       "1      Анадырь             1.00             31       13053   \n",
       "2        Анапа             2.16             67       58983   \n",
       "3  Архангельск             5.35            166      348716   \n",
       "4    Астрахань             2.45             76      520662   \n",
       "\n",
       "                city_group  flights_per_thousand_population  \n",
       "0    от 100 000 до 250 000                             0.73  \n",
       "1                до 50 000                             2.37  \n",
       "2     от 50 000 до 100 000                             1.14  \n",
       "3    от 250 000 до 500 000                             0.48  \n",
       "4  от 500 000 до 1 000 000                             0.15  "
      ]
     },
     "execution_count": 33,
     "metadata": {},
     "output_type": "execute_result"
    }
   ],
   "source": [
    "# добавим в таблицу столбец с количеством рейсов на 1 000 населения\n",
    "city_flights['flights_per_thousand_population'] = (city_flights['total_flights'] / city_flights['population'] * 1000).round(2)\n",
    "city_flights.head()"
   ]
  },
  {
   "cell_type": "code",
   "execution_count": 34,
   "metadata": {},
   "outputs": [
    {
     "data": {
      "text/html": [
       "<div>\n",
       "<style scoped>\n",
       "    .dataframe tbody tr th:only-of-type {\n",
       "        vertical-align: middle;\n",
       "    }\n",
       "\n",
       "    .dataframe tbody tr th {\n",
       "        vertical-align: top;\n",
       "    }\n",
       "\n",
       "    .dataframe thead th {\n",
       "        text-align: right;\n",
       "    }\n",
       "</style>\n",
       "<table border=\"1\" class=\"dataframe\">\n",
       "  <thead>\n",
       "    <tr style=\"text-align: right;\">\n",
       "      <th></th>\n",
       "      <th>city</th>\n",
       "      <th>average_flights</th>\n",
       "      <th>total_flights</th>\n",
       "      <th>population</th>\n",
       "      <th>city_group</th>\n",
       "      <th>flights_per_thousand_population</th>\n",
       "    </tr>\n",
       "  </thead>\n",
       "  <tbody>\n",
       "    <tr>\n",
       "      <th>0</th>\n",
       "      <td>Советский</td>\n",
       "      <td>9.00</td>\n",
       "      <td>279</td>\n",
       "      <td>26434</td>\n",
       "      <td>до 50 000</td>\n",
       "      <td>10.55</td>\n",
       "    </tr>\n",
       "    <tr>\n",
       "      <th>1</th>\n",
       "      <td>Удачный</td>\n",
       "      <td>3.00</td>\n",
       "      <td>93</td>\n",
       "      <td>12611</td>\n",
       "      <td>до 50 000</td>\n",
       "      <td>7.37</td>\n",
       "    </tr>\n",
       "    <tr>\n",
       "      <th>2</th>\n",
       "      <td>Мирный</td>\n",
       "      <td>6.29</td>\n",
       "      <td>195</td>\n",
       "      <td>37179</td>\n",
       "      <td>до 50 000</td>\n",
       "      <td>5.24</td>\n",
       "    </tr>\n",
       "    <tr>\n",
       "      <th>3</th>\n",
       "      <td>Нарьян-Мар</td>\n",
       "      <td>2.61</td>\n",
       "      <td>81</td>\n",
       "      <td>21296</td>\n",
       "      <td>до 50 000</td>\n",
       "      <td>3.80</td>\n",
       "    </tr>\n",
       "    <tr>\n",
       "      <th>4</th>\n",
       "      <td>Ханты-Мансийск</td>\n",
       "      <td>8.42</td>\n",
       "      <td>261</td>\n",
       "      <td>79410</td>\n",
       "      <td>от 50 000 до 100 000</td>\n",
       "      <td>3.29</td>\n",
       "    </tr>\n",
       "    <tr>\n",
       "      <th>5</th>\n",
       "      <td>Белоярский</td>\n",
       "      <td>2.00</td>\n",
       "      <td>62</td>\n",
       "      <td>20283</td>\n",
       "      <td>до 50 000</td>\n",
       "      <td>3.06</td>\n",
       "    </tr>\n",
       "    <tr>\n",
       "      <th>6</th>\n",
       "      <td>Новый Уренгой</td>\n",
       "      <td>8.29</td>\n",
       "      <td>257</td>\n",
       "      <td>104144</td>\n",
       "      <td>от 100 000 до 250 000</td>\n",
       "      <td>2.47</td>\n",
       "    </tr>\n",
       "    <tr>\n",
       "      <th>7</th>\n",
       "      <td>Анадырь</td>\n",
       "      <td>1.00</td>\n",
       "      <td>31</td>\n",
       "      <td>13053</td>\n",
       "      <td>до 50 000</td>\n",
       "      <td>2.37</td>\n",
       "    </tr>\n",
       "    <tr>\n",
       "      <th>8</th>\n",
       "      <td>Воркута</td>\n",
       "      <td>4.58</td>\n",
       "      <td>142</td>\n",
       "      <td>70551</td>\n",
       "      <td>от 50 000 до 100 000</td>\n",
       "      <td>2.01</td>\n",
       "    </tr>\n",
       "    <tr>\n",
       "      <th>9</th>\n",
       "      <td>Когалым</td>\n",
       "      <td>3.16</td>\n",
       "      <td>98</td>\n",
       "      <td>58192</td>\n",
       "      <td>от 50 000 до 100 000</td>\n",
       "      <td>1.68</td>\n",
       "    </tr>\n",
       "  </tbody>\n",
       "</table>\n",
       "</div>"
      ],
      "text/plain": [
       "             city  average_flights  total_flights  population  \\\n",
       "0       Советский             9.00            279       26434   \n",
       "1         Удачный             3.00             93       12611   \n",
       "2          Мирный             6.29            195       37179   \n",
       "3      Нарьян-Мар             2.61             81       21296   \n",
       "4  Ханты-Мансийск             8.42            261       79410   \n",
       "5      Белоярский             2.00             62       20283   \n",
       "6   Новый Уренгой             8.29            257      104144   \n",
       "7         Анадырь             1.00             31       13053   \n",
       "8         Воркута             4.58            142       70551   \n",
       "9         Когалым             3.16             98       58192   \n",
       "\n",
       "              city_group  flights_per_thousand_population  \n",
       "0              до 50 000                            10.55  \n",
       "1              до 50 000                             7.37  \n",
       "2              до 50 000                             5.24  \n",
       "3              до 50 000                             3.80  \n",
       "4   от 50 000 до 100 000                             3.29  \n",
       "5              до 50 000                             3.06  \n",
       "6  от 100 000 до 250 000                             2.47  \n",
       "7              до 50 000                             2.37  \n",
       "8   от 50 000 до 100 000                             2.01  \n",
       "9   от 50 000 до 100 000                             1.68  "
      ]
     },
     "execution_count": 34,
     "metadata": {},
     "output_type": "execute_result"
    }
   ],
   "source": [
    "# выделим топ-10 городов с наибольшим количеством рейсов на 1 000 населения\n",
    "top_city_flights_per_thousand = city_flights.sort_values(by = 'flights_per_thousand_population',\n",
    "                                                         ascending = False)\\\n",
    "                                            .head(10)\\\n",
    "                                            .reset_index(drop = True)\n",
    "top_city_flights_per_thousand"
   ]
  },
  {
   "cell_type": "code",
   "execution_count": 35,
   "metadata": {},
   "outputs": [
    {
     "data": {
      "image/png": "[encoded data removed]",
      "text/plain": [
       "<Figure size 1080x648 with 1 Axes>"
      ]
     },
     "metadata": {},
     "output_type": "display_data"
    }
   ],
   "source": [
    "# посмотрим на зависимость количества рейсов на 1 000 населения от города\n",
    "top_city_flights_per_thousand.plot(x = 'city',\n",
    "                      y = 'flights_per_thousand_population',\n",
    "                      kind = 'barh',\n",
    "                      cmap = 'coolwarm',\n",
    "                      legend = None) \n",
    "plt.xlabel('Количество рейсов на 1 000 населения')\n",
    "plt.ylabel('Город')\n",
    "plt.grid(True)\n",
    "plt.title('Зависимость количества рейсов на 1 000 населения от города')\n",
    "plt.show()"
   ]
  },
  {
   "cell_type": "markdown",
   "metadata": {},
   "source": [
    "В отличие от топ-10 городов с наибольшим количеством рейсов, в топ-10 городов с наибольшим количеством рейсов на 1 000 населения попали в основном малые и средние города. Все эти города находятся в труднодоступных местах, транспортное сообщение с ними осуществляется в основном посредством авиации."
   ]
  },
  {
   "cell_type": "markdown",
   "metadata": {},
   "source": [
    "##### Анализ зависимости количества рейсов от моделей самолетов"
   ]
  },
  {
   "cell_type": "code",
   "execution_count": 36,
   "metadata": {},
   "outputs": [
    {
     "data": {
      "image/png": "[encoded data removed]",
      "text/plain": [
       "<Figure size 1080x648 with 1 Axes>"
      ]
     },
     "metadata": {},
     "output_type": "display_data"
    }
   ],
   "source": [
    "# посмотрим на зависимость количества рейсов от модели самолета\n",
    "model_flights.sort_values(by = 'flights_amount',\n",
    "                          ascending = False)\\\n",
    "             .plot(x = 'model',\n",
    "                   y = 'flights_amount',\n",
    "                   kind = 'barh',\n",
    "                   cmap = 'coolwarm',\n",
    "                   legend = None) \n",
    "plt.xlabel('Количество рейсов')\n",
    "plt.ylabel('Модель самолета')\n",
    "plt.grid(True)\n",
    "plt.title('Зависимость количества рейсов от модели самолета')\n",
    "plt.show()"
   ]
  },
  {
   "cell_type": "markdown",
   "metadata": {},
   "source": [
    "Наибольшее количество рейсов было осуществлено на самолетах малой (\"Cessna 208 Caravan\") и средней (\"Bombardier CRJ-200\", \"Sukhoi SuperJet-100\") вместимости, наименьшее - на самых крупных самолетах (\"Boeing 777-300\")."
   ]
  },
  {
   "cell_type": "markdown",
   "metadata": {},
   "source": [
    "Проанализируем количество превезенных пассажиров по моделям самолетов."
   ]
  },
  {
   "cell_type": "markdown",
   "metadata": {},
   "source": [
    "[Найдем](http://www.airwar.ru/canow.html) информацию о примерной вместимости салона различных моделей самолетов."
   ]
  },
  {
   "cell_type": "code",
   "execution_count": 37,
   "metadata": {},
   "outputs": [
    {
     "data": {
      "text/html": [
       "<div>\n",
       "<style scoped>\n",
       "    .dataframe tbody tr th:only-of-type {\n",
       "        vertical-align: middle;\n",
       "    }\n",
       "\n",
       "    .dataframe tbody tr th {\n",
       "        vertical-align: top;\n",
       "    }\n",
       "\n",
       "    .dataframe thead th {\n",
       "        text-align: right;\n",
       "    }\n",
       "</style>\n",
       "<table border=\"1\" class=\"dataframe\">\n",
       "  <thead>\n",
       "    <tr style=\"text-align: right;\">\n",
       "      <th></th>\n",
       "      <th>model</th>\n",
       "      <th>capacity</th>\n",
       "    </tr>\n",
       "  </thead>\n",
       "  <tbody>\n",
       "    <tr>\n",
       "      <th>0</th>\n",
       "      <td>Airbus A319-100</td>\n",
       "      <td>124</td>\n",
       "    </tr>\n",
       "    <tr>\n",
       "      <th>1</th>\n",
       "      <td>Airbus A321-200</td>\n",
       "      <td>185</td>\n",
       "    </tr>\n",
       "    <tr>\n",
       "      <th>2</th>\n",
       "      <td>Boeing 737-300</td>\n",
       "      <td>130</td>\n",
       "    </tr>\n",
       "    <tr>\n",
       "      <th>3</th>\n",
       "      <td>Boeing 767-300</td>\n",
       "      <td>216</td>\n",
       "    </tr>\n",
       "    <tr>\n",
       "      <th>4</th>\n",
       "      <td>Boeing 777-300</td>\n",
       "      <td>450</td>\n",
       "    </tr>\n",
       "    <tr>\n",
       "      <th>5</th>\n",
       "      <td>Bombardier CRJ-200</td>\n",
       "      <td>50</td>\n",
       "    </tr>\n",
       "    <tr>\n",
       "      <th>6</th>\n",
       "      <td>Cessna 208 Caravan</td>\n",
       "      <td>9</td>\n",
       "    </tr>\n",
       "    <tr>\n",
       "      <th>7</th>\n",
       "      <td>Sukhoi SuperJet-100</td>\n",
       "      <td>95</td>\n",
       "    </tr>\n",
       "  </tbody>\n",
       "</table>\n",
       "</div>"
      ],
      "text/plain": [
       "                 model  capacity\n",
       "0      Airbus A319-100       124\n",
       "1      Airbus A321-200       185\n",
       "2       Boeing 737-300       130\n",
       "3       Boeing 767-300       216\n",
       "4       Boeing 777-300       450\n",
       "5   Bombardier CRJ-200        50\n",
       "6   Cessna 208 Caravan         9\n",
       "7  Sukhoi SuperJet-100        95"
      ]
     },
     "execution_count": 37,
     "metadata": {},
     "output_type": "execute_result"
    }
   ],
   "source": [
    "# содадим Dataframe с вместимостью салона по моделям самолетов\n",
    "model_capacity = [['Airbus A319-100', 124],\n",
    "                  ['Airbus A321-200', 185],\n",
    "                  ['Boeing 737-300', 130],\n",
    "                  ['Boeing 767-300', 216],                  \n",
    "                  ['Boeing 777-300', 450],\n",
    "                  ['Bombardier CRJ-200', 50],\n",
    "                  ['Cessna 208 Caravan', 9],\n",
    "                  ['Sukhoi SuperJet-100', 95]]\n",
    "model_flights_capacity = pd.DataFrame(model_capacity,\n",
    "                                      columns = ['model',\n",
    "                                                 'capacity'])\n",
    "model_flights_capacity"
   ]
  },
  {
   "cell_type": "code",
   "execution_count": 38,
   "metadata": {},
   "outputs": [
    {
     "data": {
      "text/html": [
       "<div>\n",
       "<style scoped>\n",
       "    .dataframe tbody tr th:only-of-type {\n",
       "        vertical-align: middle;\n",
       "    }\n",
       "\n",
       "    .dataframe tbody tr th {\n",
       "        vertical-align: top;\n",
       "    }\n",
       "\n",
       "    .dataframe thead th {\n",
       "        text-align: right;\n",
       "    }\n",
       "</style>\n",
       "<table border=\"1\" class=\"dataframe\">\n",
       "  <thead>\n",
       "    <tr style=\"text-align: right;\">\n",
       "      <th></th>\n",
       "      <th>model</th>\n",
       "      <th>flights_amount</th>\n",
       "      <th>capacity</th>\n",
       "    </tr>\n",
       "  </thead>\n",
       "  <tbody>\n",
       "    <tr>\n",
       "      <th>0</th>\n",
       "      <td>Airbus A319-100</td>\n",
       "      <td>607</td>\n",
       "      <td>124</td>\n",
       "    </tr>\n",
       "    <tr>\n",
       "      <th>1</th>\n",
       "      <td>Airbus A321-200</td>\n",
       "      <td>960</td>\n",
       "      <td>185</td>\n",
       "    </tr>\n",
       "    <tr>\n",
       "      <th>2</th>\n",
       "      <td>Boeing 737-300</td>\n",
       "      <td>630</td>\n",
       "      <td>130</td>\n",
       "    </tr>\n",
       "    <tr>\n",
       "      <th>3</th>\n",
       "      <td>Boeing 767-300</td>\n",
       "      <td>600</td>\n",
       "      <td>216</td>\n",
       "    </tr>\n",
       "    <tr>\n",
       "      <th>4</th>\n",
       "      <td>Boeing 777-300</td>\n",
       "      <td>300</td>\n",
       "      <td>450</td>\n",
       "    </tr>\n",
       "    <tr>\n",
       "      <th>5</th>\n",
       "      <td>Bombardier CRJ-200</td>\n",
       "      <td>4446</td>\n",
       "      <td>50</td>\n",
       "    </tr>\n",
       "    <tr>\n",
       "      <th>6</th>\n",
       "      <td>Cessna 208 Caravan</td>\n",
       "      <td>4557</td>\n",
       "      <td>9</td>\n",
       "    </tr>\n",
       "    <tr>\n",
       "      <th>7</th>\n",
       "      <td>Sukhoi SuperJet-100</td>\n",
       "      <td>4185</td>\n",
       "      <td>95</td>\n",
       "    </tr>\n",
       "  </tbody>\n",
       "</table>\n",
       "</div>"
      ],
      "text/plain": [
       "                 model  flights_amount  capacity\n",
       "0      Airbus A319-100             607       124\n",
       "1      Airbus A321-200             960       185\n",
       "2       Boeing 737-300             630       130\n",
       "3       Boeing 767-300             600       216\n",
       "4       Boeing 777-300             300       450\n",
       "5   Bombardier CRJ-200            4446        50\n",
       "6   Cessna 208 Caravan            4557         9\n",
       "7  Sukhoi SuperJet-100            4185        95"
      ]
     },
     "execution_count": 38,
     "metadata": {},
     "output_type": "execute_result"
    }
   ],
   "source": [
    "# добавим в таблицу столбец с вместимостью салона\n",
    "model_flights = model_flights.merge(model_flights_capacity,\n",
    "                                    on = 'model',\n",
    "                                    how ='outer')\n",
    "model_flights"
   ]
  },
  {
   "cell_type": "code",
   "execution_count": 39,
   "metadata": {},
   "outputs": [
    {
     "data": {
      "text/html": [
       "<style  type=\"text/css\" >\n",
       "    #T_2b3c6d63_32ce_11eb_bfed_342387b8371crow0_col0 {\n",
       "            background-color:  #b40426;\n",
       "            color:  #f1f1f1;\n",
       "        }    #T_2b3c6d63_32ce_11eb_bfed_342387b8371crow0_col1 {\n",
       "            background-color:  #3b4cc0;\n",
       "            color:  #f1f1f1;\n",
       "        }    #T_2b3c6d63_32ce_11eb_bfed_342387b8371crow1_col0 {\n",
       "            background-color:  #3b4cc0;\n",
       "            color:  #f1f1f1;\n",
       "        }    #T_2b3c6d63_32ce_11eb_bfed_342387b8371crow1_col1 {\n",
       "            background-color:  #b40426;\n",
       "            color:  #f1f1f1;\n",
       "        }</style><table id=\"T_2b3c6d63_32ce_11eb_bfed_342387b8371c\" ><thead>    <tr>        <th class=\"blank level0\" ></th>        <th class=\"col_heading level0 col0\" >capacity</th>        <th class=\"col_heading level0 col1\" >flights_amount</th>    </tr></thead><tbody>\n",
       "                <tr>\n",
       "                        <th id=\"T_2b3c6d63_32ce_11eb_bfed_342387b8371clevel0_row0\" class=\"row_heading level0 row0\" >capacity</th>\n",
       "                        <td id=\"T_2b3c6d63_32ce_11eb_bfed_342387b8371crow0_col0\" class=\"data row0 col0\" >1.000000</td>\n",
       "                        <td id=\"T_2b3c6d63_32ce_11eb_bfed_342387b8371crow0_col1\" class=\"data row0 col1\" >-0.700000</td>\n",
       "            </tr>\n",
       "            <tr>\n",
       "                        <th id=\"T_2b3c6d63_32ce_11eb_bfed_342387b8371clevel0_row1\" class=\"row_heading level0 row1\" >flights_amount</th>\n",
       "                        <td id=\"T_2b3c6d63_32ce_11eb_bfed_342387b8371crow1_col0\" class=\"data row1 col0\" >-0.700000</td>\n",
       "                        <td id=\"T_2b3c6d63_32ce_11eb_bfed_342387b8371crow1_col1\" class=\"data row1 col1\" >1.000000</td>\n",
       "            </tr>\n",
       "    </tbody></table>"
      ],
      "text/plain": [
       "<pandas.io.formats.style.Styler at 0x2508c9d5520>"
      ]
     },
     "execution_count": 39,
     "metadata": {},
     "output_type": "execute_result"
    }
   ],
   "source": [
    "# рассчитаем коэффициенты корреляции значений вместимости салона и количества рейсов\n",
    "corr = model_flights[['capacity', 'flights_amount']].corr().round(2)\n",
    "corr.style.background_gradient(cmap = 'coolwarm')"
   ]
  },
  {
   "cell_type": "markdown",
   "metadata": {},
   "source": [
    "Рассчитанный коэффициент корреляции показывает высокую обратную зависимость между вместимостью салона самолета и количеством рейсов на нем: чем крупнее самолет, тем меньше на нем рейсов."
   ]
  },
  {
   "cell_type": "markdown",
   "metadata": {},
   "source": [
    "По [сведениям](https://www.atorus.ru/news/press-centre/new/45800.html) Росавиации процент занятости пассажирских кресел в 2018 году составил 83,8%. В авиакомпании «F9» данные аналогичны."
   ]
  },
  {
   "cell_type": "code",
   "execution_count": 40,
   "metadata": {},
   "outputs": [
    {
     "data": {
      "text/html": [
       "<div>\n",
       "<style scoped>\n",
       "    .dataframe tbody tr th:only-of-type {\n",
       "        vertical-align: middle;\n",
       "    }\n",
       "\n",
       "    .dataframe tbody tr th {\n",
       "        vertical-align: top;\n",
       "    }\n",
       "\n",
       "    .dataframe thead th {\n",
       "        text-align: right;\n",
       "    }\n",
       "</style>\n",
       "<table border=\"1\" class=\"dataframe\">\n",
       "  <thead>\n",
       "    <tr style=\"text-align: right;\">\n",
       "      <th></th>\n",
       "      <th>model</th>\n",
       "      <th>flights_amount</th>\n",
       "      <th>capacity</th>\n",
       "      <th>approximate_passenger</th>\n",
       "    </tr>\n",
       "  </thead>\n",
       "  <tbody>\n",
       "    <tr>\n",
       "      <th>0</th>\n",
       "      <td>Airbus A319-100</td>\n",
       "      <td>607</td>\n",
       "      <td>124</td>\n",
       "      <td>63075</td>\n",
       "    </tr>\n",
       "    <tr>\n",
       "      <th>1</th>\n",
       "      <td>Airbus A321-200</td>\n",
       "      <td>960</td>\n",
       "      <td>185</td>\n",
       "      <td>148829</td>\n",
       "    </tr>\n",
       "    <tr>\n",
       "      <th>2</th>\n",
       "      <td>Boeing 737-300</td>\n",
       "      <td>630</td>\n",
       "      <td>130</td>\n",
       "      <td>68632</td>\n",
       "    </tr>\n",
       "    <tr>\n",
       "      <th>3</th>\n",
       "      <td>Boeing 767-300</td>\n",
       "      <td>600</td>\n",
       "      <td>216</td>\n",
       "      <td>108605</td>\n",
       "    </tr>\n",
       "    <tr>\n",
       "      <th>4</th>\n",
       "      <td>Boeing 777-300</td>\n",
       "      <td>300</td>\n",
       "      <td>450</td>\n",
       "      <td>113130</td>\n",
       "    </tr>\n",
       "    <tr>\n",
       "      <th>5</th>\n",
       "      <td>Bombardier CRJ-200</td>\n",
       "      <td>4446</td>\n",
       "      <td>50</td>\n",
       "      <td>186287</td>\n",
       "    </tr>\n",
       "    <tr>\n",
       "      <th>6</th>\n",
       "      <td>Cessna 208 Caravan</td>\n",
       "      <td>4557</td>\n",
       "      <td>9</td>\n",
       "      <td>34369</td>\n",
       "    </tr>\n",
       "    <tr>\n",
       "      <th>7</th>\n",
       "      <td>Sukhoi SuperJet-100</td>\n",
       "      <td>4185</td>\n",
       "      <td>95</td>\n",
       "      <td>333168</td>\n",
       "    </tr>\n",
       "  </tbody>\n",
       "</table>\n",
       "</div>"
      ],
      "text/plain": [
       "                 model  flights_amount  capacity  approximate_passenger\n",
       "0      Airbus A319-100             607       124                  63075\n",
       "1      Airbus A321-200             960       185                 148829\n",
       "2       Boeing 737-300             630       130                  68632\n",
       "3       Boeing 767-300             600       216                 108605\n",
       "4       Boeing 777-300             300       450                 113130\n",
       "5   Bombardier CRJ-200            4446        50                 186287\n",
       "6   Cessna 208 Caravan            4557         9                  34369\n",
       "7  Sukhoi SuperJet-100            4185        95                 333168"
      ]
     },
     "execution_count": 40,
     "metadata": {},
     "output_type": "execute_result"
    }
   ],
   "source": [
    "# добавим в таблицу столбец с ориентировочным количеством перевезенных пассажиров\n",
    "model_flights['approximate_passenger'] =(model_flights['flights_amount'] * model_flights['capacity'] * 0.838).round(0)\\\n",
    "                                                                                                             .astype('int')\n",
    "model_flights"
   ]
  },
  {
   "cell_type": "code",
   "execution_count": 41,
   "metadata": {},
   "outputs": [
    {
     "data": {
      "image/png": "[encoded data removed]",
      "text/plain": [
       "<Figure size 1080x648 with 1 Axes>"
      ]
     },
     "metadata": {},
     "output_type": "display_data"
    }
   ],
   "source": [
    "# посмотрим на зависимость ориентировочного количество перевезенных пассажиров от модели самолета\n",
    "model_flights.sort_values(by = 'approximate_passenger',\n",
    "                          ascending = False)\\\n",
    "             .plot(x = 'model',\n",
    "                   y = 'approximate_passenger',\n",
    "                   kind = 'barh',\n",
    "                   cmap = 'coolwarm',\n",
    "                   legend = None) \n",
    "plt.xlabel('Ориентировочное количество перевезенных пассажиров')\n",
    "plt.ylabel('Модель самолета')\n",
    "plt.grid(True)\n",
    "plt.title('Зависимость ориентировочного количества перевезенных пассажиров от модели самолета')\n",
    "plt.show()"
   ]
  },
  {
   "cell_type": "markdown",
   "metadata": {},
   "source": [
    "Наибольшее количество пассажиров было перевезено на самолетах средней вместимости (\"Sukhoi SuperJet-100\", \"Bombardier CRJ-200\"), наименьшее - на самых маленьких самолетах (\"Cessna 208 Caravan\")."
   ]
  },
  {
   "cell_type": "markdown",
   "metadata": {},
   "source": [
    "### Вывод"
   ]
  },
  {
   "cell_type": "markdown",
   "metadata": {},
   "source": [
    "1. Имеется высокая прямая зависимость между категорией населенного пункта и количеством рейсов в него: чем крупнее город, тем больше в него рейсов.   \n",
    "2. Наибольшее количество рейсов осуществляется в Москву. В ней имеется несколько аэропортов, каждый из которых является хабом для различных авиакомпаний, принимая не только внутренние, но и международные рейсы. Для авиакомпании «F9», скорее всего, существует большое число рейсов, стыковка которых осуществляется в Москве. Присутствие остальных городов в топ-10 по количеству рейсов в основном подтверждает изложенную ранее закономерность: чем крупнее город, тем больше в него рейсов.   \n",
    "3. В отличие от топ-10 городов с наибольшим количеством рейсов, в топ-10 городов с наибольшим количеством рейсов на 1 000 населения попали в основном малые и средние города. Все эти города находятся в труднодоступных местах, транспортное сообщение с ними осуществляется в основном посредством авиации.  \n",
    "4. Наибольшее количество рейсов было осуществлено на самолетах малой (\"Cessna 208 Caravan\") и средней (\"Bombardier CRJ-200\", \"Sukhoi SuperJet-100\") вместимости, наименьшее - на самых крупных самолетах (\"Boeing 777-300\").   \n",
    "5. Имеется высокая обратная зависимость между вместимостью салона самолета и количеством рейсов на нем: чем крупнее самолет, тем меньше на нем рейсов.  \n",
    "6. Наибольшее количество пассажиров было перевезено на самолетах средней вместимости (\"Sukhoi SuperJet-100\", \"Bombardier CRJ-200\"), наименьшее - на самых маленьких самолетах (\"Cessna 208 Caravan\")."
   ]
  },
  {
   "cell_type": "markdown",
   "metadata": {},
   "source": [
    "### Общий вывод\n",
    "<a name=\"conclusion\"></a>"
   ]
  },
  {
   "cell_type": "markdown",
   "metadata": {},
   "source": [
    "1. Количество вылетов из каждого аэропорта варьируется от 34 до 6 376, то есть загруженность аэропортов значительно различается между собой.     \n",
    "2. Количество рейсов в сентябре 2018 года для \"Airbus\" составило 1 567, для \"Boeing\" - 1 530, других моделей - 13 188.  \n",
    "3. Установлены 3 фестиваля, которые проходили с 23 июля по 30 сентября 2018 года в Москве.  \n",
    "4. Гипотеза, что количество рейсов во время фестивалей увеличивается, не нашла своего подверждения. \n",
    "5. Имеется высокая прямая зависимость между категорией населенного пункта и количеством рейсов в него: чем крупнее город, тем больше в него рейсов.   \n",
    "6. Наибольшее количество рейсов осуществляется в Москву, аэропорты которой являются стыковочным хабом для различных рейсов. \n",
    "7. В топ-10 городов с наибольшим количеством рейсов на 1 000 населения попали в основном малые и средние города, которые находятся в труднодоступных местах и транспортное сообщение с которыми осуществляется преимущественно посредством авиации.  \n",
    "8. Наибольшее количество рейсов было осуществлено на самолетах малой и средней вместимости, наименьшее - на самых крупных самолетах.  \n",
    "9. Имеется высокая обратная зависимость между вместимостью салона самолета и количеством рейсов на нем: чем крупнее самолет, тем меньше на нем рейсов.   \n",
    "10. Наибольшее количество пассажиров было перевезено на самолетах средней вместимости, наименьшее - на самых маленьких самолетах."
   ]
  }
 ],
 "metadata": {
  "kernelspec": {
   "display_name": "Python 3",
   "language": "python",
   "name": "python3"
  },
  "language_info": {
   "codemirror_mode": {
    "name": "ipython",
    "version": 3
   },
   "file_extension": ".py",
   "mimetype": "text/x-python",
   "name": "python",
   "nbconvert_exporter": "python",
   "pygments_lexer": "ipython3",
   "version": "3.8.3"
  }
 },
 "nbformat": 4,
 "nbformat_minor": 2
}
